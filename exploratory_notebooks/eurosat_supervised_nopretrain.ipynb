{
  "cells": [
    {
      "cell_type": "code",
      "execution_count": 1,
      "metadata": {},
      "outputs": [
        {
          "name": "stderr",
          "output_type": "stream",
          "text": [
            "\u001b[34m\u001b[1mwandb\u001b[0m: Currently logged in as: \u001b[33manaliju\u001b[0m (\u001b[33manaliju-paris\u001b[0m) to \u001b[32mhttps://api.wandb.ai\u001b[0m. Use \u001b[1m`wandb login --relogin`\u001b[0m to force relogin\n"
          ]
        },
        {
          "data": {
            "text/plain": [
              "True"
            ]
          },
          "execution_count": 1,
          "metadata": {},
          "output_type": "execute_result"
        }
      ],
      "source": [
        "import wandb\n",
        "wandb.login()  # Opens a browser once to authenticate\n"
      ]
    },
    {
      "cell_type": "code",
      "execution_count": null,
      "metadata": {},
      "outputs": [],
      "source": [
        "import torch\n",
        "import torch.nn as nn\n",
        "import torch.optim as optim\n",
        "from torch.utils.data import DataLoader, random_split, Subset, ConcatDataset\n",
        "from torchvision import datasets, transforms\n",
        "from torchvision.models import resnet50\n",
        "from itertools import product\n",
        "import numpy as np\n",
        "import random\n",
        "import copy\n",
        "import os, ssl, zipfile, urllib\n",
        "import sklearn\n",
        "from sklearn.model_selection import StratifiedShuffleSplit\n",
        "import matplotlib.pyplot as plt\n",
        "\n",
        "LOCAL_OR_COLAB = \"LOCAL\"\n",
        "SEED           = 42\n",
        "NUM_EPOCHS     = 100\n",
        "DEVICE         = torch.device(\"cuda\" if torch.cuda.is_available() else \"cpu\")\n",
        "\n",
        "TRAIN_FRAC = 0.7\n",
        "VAL_FRAC   = 0.15\n",
        "TEST_FRAC  = 0.15\n",
        "\n",
        "# hyperparameter grid\n",
        "BATCH_SIZES = [256, 512] \n",
        "LRS = [1e-4]\n",
        "\n",
        "if LOCAL_OR_COLAB == \"LOCAL\":\n",
        "    DATA_DIR = \"/users/c/carvalhj/datasets/EuroSAT_RGB/\"\n",
        "else:\n",
        "    data_root = \"/content/EuroSAT_RGB\"\n",
        "    zip_path  = \"/content/EuroSAT.zip\"\n",
        "    if not os.path.exists(data_root):\n",
        "        ssl._create_default_https_context = ssl._create_unverified_context\n",
        "        urllib.request.urlretrieve(\n",
        "            \"https://madm.dfki.de/files/sentinel/EuroSAT.zip\", zip_path\n",
        "        )\n",
        "        with zipfile.ZipFile(zip_path, \"r\") as z:\n",
        "            z.extractall(\"/content\")\n",
        "        os.rename(\"/content/2750\", data_root)\n",
        "    DATA_DIR = data_root\n",
        "\n",
        "NUM_WORKERS = 4 "
      ]
    },
    {
      "cell_type": "code",
      "execution_count": null,
      "metadata": {},
      "outputs": [],
      "source": [
        "def get_data_loaders(data_dir, batch_size):\n",
        "\n",
        "    base_tf = transforms.ToTensor()\n",
        "    ds_all = datasets.ImageFolder(root=data_dir, transform=base_tf)\n",
        "    labels = np.array(ds_all.targets)   # numpy array of shape (N,)\n",
        "    num_classes = len(ds_all.classes)\n",
        "    total_count = len(ds_all)\n",
        "    print(f\"Total samples in folder: {total_count}, classes: {ds_all.classes}\")\n",
        "\n",
        "    train_idx, val_idx, test_idx = get_split_indexes(labels, total_count)\n",
        "\n",
        "    def class_props(indices):\n",
        "        cts = np.bincount(labels[indices], minlength=num_classes)\n",
        "        return cts / len(indices)\n",
        "\n",
        "    prop_train = class_props(train_idx)\n",
        "    prop_val   = class_props(val_idx)\n",
        "    prop_test  = class_props(test_idx)\n",
        "\n",
        "    plot_proportions(ds_all, num_classes, prop_train, prop_val, prop_test)\n",
        "\n",
        "    train_subset_for_stats = Subset(ds_all, train_idx)\n",
        "    mean, std = compute_mean_std(train_subset_for_stats, batch_size)\n",
        "    print(f\"Computed mean: {mean}\")\n",
        "    print(f\"Computed std:  {std}\")\n",
        "\n",
        "    tf_final = transforms.Compose([\n",
        "        transforms.ToTensor(),\n",
        "        transforms.Normalize(mean=mean, std=std)\n",
        "    ])\n",
        "\n",
        "    #  full ImageFolder but now with normalization baked in\n",
        "    ds_all_norm = datasets.ImageFolder(root=data_dir, transform=tf_final)\n",
        "\n",
        "    train_ds = Subset(ds_all_norm, train_idx)\n",
        "    val_ds   = Subset(ds_all_norm, val_idx)\n",
        "    test_ds  = Subset(ds_all_norm, test_idx)\n",
        "\n",
        "    train_loader = DataLoader(train_ds, batch_size=batch_size, shuffle=True,  num_workers=NUM_WORKERS, generator=torch.Generator().manual_seed(SEED))\n",
        "    val_loader   = DataLoader(val_ds,   batch_size=batch_size, shuffle=False, num_workers=NUM_WORKERS, generator=torch.Generator().manual_seed(SEED))\n",
        "    test_loader  = DataLoader(test_ds,  batch_size=batch_size, shuffle=False, num_workers=NUM_WORKERS, generator=torch.Generator().manual_seed(SEED))\n",
        "\n",
        "    return train_loader, val_loader, test_loader, num_classes\n",
        "\n",
        "def get_split_indexes(labels, total_count):\n",
        "    n_train = int(np.floor(TRAIN_FRAC * total_count))\n",
        "    n_temp = total_count - n_train   # this is val + test\n",
        "\n",
        "    sss1 = StratifiedShuffleSplit(\n",
        "        n_splits=1,\n",
        "        train_size=n_train,\n",
        "        test_size=n_temp,\n",
        "        random_state=SEED\n",
        "    )\n",
        "    # Train and temp(val+test) indices\n",
        "    train_idx, temp_idx = next(sss1.split(np.zeros(total_count), labels))\n",
        "\n",
        "    n_val = int(np.floor(VAL_FRAC * total_count))\n",
        "    n_test = total_count - n_train - n_val\n",
        "    assert n_temp == n_val + n_test, \"Fractions must sum to 1.\"\n",
        "\n",
        "    labels_temp = labels[temp_idx]\n",
        "\n",
        "    sss2 = StratifiedShuffleSplit(\n",
        "        n_splits=1,\n",
        "        train_size=n_val,\n",
        "        test_size=n_test,\n",
        "        random_state=SEED\n",
        "    )\n",
        "    val_idx_in_temp, test_idx_in_temp = next(sss2.split(np.zeros(len(temp_idx)), labels_temp))\n",
        "\n",
        "    val_idx = temp_idx[val_idx_in_temp]\n",
        "    test_idx = temp_idx[test_idx_in_temp]\n",
        "\n",
        "    assert len(train_idx) == n_train\n",
        "    assert len(val_idx) == n_val\n",
        "    assert len(test_idx) == n_test\n",
        "\n",
        "    print(f\"Stratified split sizes: train={len(train_idx)}, val={len(val_idx)}, test={len(test_idx)}\")\n",
        "    return train_idx,val_idx,test_idx\n",
        "\n",
        "def plot_proportions(ds_all, num_classes, prop_train, prop_val, prop_test):\n",
        "    print(f\"Class proportions (%):\")\n",
        "    print(f\"  Train: {100 * prop_train}\")\n",
        "    print(f\"   Val:  {100 * prop_val}\")\n",
        "    print(f\"  Test:  {100 * prop_test}\")\n",
        "    x = np.arange(num_classes)\n",
        "    width = 0.25\n",
        "    plt.figure(figsize=(10, 5))\n",
        "    plt.bar(x - width, 100 * prop_train, width, label='Train')\n",
        "    plt.bar(x,         100 * prop_val,   width, label='Val')\n",
        "    plt.bar(x + width, 100 * prop_test,  width, label='Test')\n",
        "    plt.xlabel('Class Index')\n",
        "    plt.ylabel('Proportion (%)')\n",
        "    plt.title('Stratified Class Proportions in Train/Val/Test')\n",
        "    plt.xticks(x, ds_all.classes, rotation=45)\n",
        "    plt.legend()\n",
        "    plt.tight_layout()\n",
        "    plt.show()"
      ]
    },
    {
      "cell_type": "code",
      "execution_count": 4,
      "metadata": {},
      "outputs": [
        {
          "name": "stdout",
          "output_type": "stream",
          "text": [
            "\n",
            ">>> Testing BS=256, LR=1.0e-04\n",
            "Total samples in folder: 27000, classes: ['AnnualCrop', 'Forest', 'HerbaceousVegetation', 'Highway', 'Industrial', 'Pasture', 'PermanentCrop', 'Residential', 'River', 'SeaLake']\n",
            "Stratified split sizes: train=21600, val=2700, test=2700\n",
            "Class proportions (%):\n",
            "  Train: [11.11111111 11.11111111 11.11111111  9.25925926  9.25925926  7.40740741\n",
            "  9.25925926 11.11111111  9.25925926 11.11111111]\n",
            "   Val:  [11.11111111 11.11111111 11.11111111  9.25925926  9.25925926  7.40740741\n",
            "  9.25925926 11.11111111  9.25925926 11.11111111]\n",
            "  Test:  [11.11111111 11.11111111 11.11111111  9.25925926  9.25925926  7.40740741\n",
            "  9.25925926 11.11111111  9.25925926 11.11111111]\n"
          ]
        },
        {
          "data": {
            "image/png": "[encoded data removed]",
            "text/plain": [
              "<Figure size 1000x500 with 1 Axes>"
            ]
          },
          "metadata": {},
          "output_type": "display_data"
        },
        {
          "name": "stdout",
          "output_type": "stream",
          "text": [
            "Computed mean: [0.3441457152366638, 0.3800986111164093, 0.40766361355781555]\n",
            "Computed std:  [0.09299743920564651, 0.06464490294456482, 0.054139167070388794]\n"
          ]
        },
        {
          "data": {
            "text/html": [
              "Tracking run with wandb version 0.19.11"
            ],
            "text/plain": [
              "<IPython.core.display.HTML object>"
            ]
          },
          "metadata": {},
          "output_type": "display_data"
        },
        {
          "data": {
            "text/html": [
              "Run data is saved locally in <code>/users/c/carvalhj/projects/eurosat_preprocessing/exploratory_notebooks/wandb/run-20250605_173143-frekg053</code>"
            ],
            "text/plain": [
              "<IPython.core.display.HTML object>"
            ]
          },
          "metadata": {},
          "output_type": "display_data"
        },
        {
          "data": {
            "text/html": [
              "Syncing run <strong><a href='https://wandb.ai/analiju-paris/eurosat-supervised-scratch-grid-search/runs/frekg053' target=\"_blank\">BS256_LR1e-04</a></strong> to <a href='https://wandb.ai/analiju-paris/eurosat-supervised-scratch-grid-search' target=\"_blank\">Weights & Biases</a> (<a href='https://wandb.me/developer-guide' target=\"_blank\">docs</a>)<br>"
            ],
            "text/plain": [
              "<IPython.core.display.HTML object>"
            ]
          },
          "metadata": {},
          "output_type": "display_data"
        },
        {
          "data": {
            "text/html": [
              " View project at <a href='https://wandb.ai/analiju-paris/eurosat-supervised-scratch-grid-search' target=\"_blank\">https://wandb.ai/analiju-paris/eurosat-supervised-scratch-grid-search</a>"
            ],
            "text/plain": [
              "<IPython.core.display.HTML object>"
            ]
          },
          "metadata": {},
          "output_type": "display_data"
        },
        {
          "data": {
            "text/html": [
              " View run at <a href='https://wandb.ai/analiju-paris/eurosat-supervised-scratch-grid-search/runs/frekg053' target=\"_blank\">https://wandb.ai/analiju-paris/eurosat-supervised-scratch-grid-search/runs/frekg053</a>"
            ],
            "text/plain": [
              "<IPython.core.display.HTML object>"
            ]
          },
          "metadata": {},
          "output_type": "display_data"
        },
        {
          "name": "stdout",
          "output_type": "stream",
          "text": [
            "  Ep1/100: train=49.7%  val=59.7%\n",
            "  Ep2/100: train=66.8%  val=69.0%\n",
            "  Ep3/100: train=71.7%  val=69.9%\n",
            "  Ep4/100: train=73.8%  val=70.3%\n",
            "  Ep5/100: train=74.5%  val=70.3%\n",
            "  Ep6/100: train=75.0%  val=70.6%\n",
            "  Ep7/100: train=75.3%  val=70.4%\n",
            "  Ep8/100: train=75.4%  val=70.1%\n",
            "  Ep9/100: train=75.2%  val=70.4%\n",
            "  Ep10/100: train=75.8%  val=70.7%\n",
            "  Ep11/100: train=75.5%  val=70.4%\n",
            "  Ep12/100: train=75.7%  val=69.7%\n",
            "  Ep13/100: train=75.1%  val=70.7%\n",
            "  Ep14/100: train=75.5%  val=70.1%\n",
            "  Ep15/100: train=75.2%  val=70.4%\n",
            "  Ep16/100: train=75.4%  val=70.7%\n",
            "  Ep17/100: train=75.1%  val=70.7%\n",
            "  Ep18/100: train=75.2%  val=69.9%\n",
            "  Ep19/100: train=75.2%  val=70.6%\n",
            "  Ep20/100: train=75.3%  val=70.3%\n",
            "  Ep21/100: train=75.6%  val=70.1%\n",
            "  Ep22/100: train=75.6%  val=70.4%\n",
            "  Ep23/100: train=75.6%  val=70.8%\n",
            "  Ep24/100: train=75.4%  val=70.4%\n",
            "  Ep25/100: train=75.6%  val=70.1%\n",
            "  Ep26/100: train=75.4%  val=70.2%\n",
            "  Ep27/100: train=75.4%  val=70.5%\n",
            "  Ep28/100: train=75.5%  val=70.1%\n",
            "  Ep29/100: train=75.5%  val=70.6%\n",
            "  Ep30/100: train=75.4%  val=70.5%\n",
            "  Ep31/100: train=75.4%  val=70.4%\n",
            "  Ep32/100: train=75.7%  val=70.3%\n",
            "  Ep33/100: train=75.3%  val=70.6%\n",
            "  Ep34/100: train=75.6%  val=70.4%\n",
            "  Ep35/100: train=75.4%  val=70.8%\n",
            "  Ep36/100: train=75.4%  val=70.5%\n",
            "  Ep37/100: train=75.6%  val=70.5%\n",
            "  Ep38/100: train=75.3%  val=70.3%\n",
            "  Ep39/100: train=75.4%  val=70.5%\n",
            "  Ep40/100: train=75.4%  val=70.1%\n",
            "  Ep41/100: train=75.4%  val=70.1%\n",
            "  Ep42/100: train=75.4%  val=70.5%\n",
            "  Ep43/100: train=75.4%  val=70.6%\n",
            "  Ep44/100: train=75.5%  val=70.2%\n",
            "  Ep45/100: train=75.5%  val=70.1%\n",
            "  Ep46/100: train=75.8%  val=70.1%\n",
            "  Ep47/100: train=75.8%  val=70.4%\n",
            "  Ep48/100: train=75.3%  val=70.1%\n",
            "  Ep49/100: train=75.4%  val=70.5%\n",
            "  Ep50/100: train=75.2%  val=70.3%\n",
            "  Ep51/100: train=75.8%  val=70.3%\n",
            "  Ep52/100: train=75.4%  val=70.4%\n",
            "  Ep53/100: train=75.3%  val=70.1%\n",
            "  Ep54/100: train=75.3%  val=70.2%\n",
            "  Ep55/100: train=75.6%  val=70.7%\n",
            "  Ep56/100: train=75.2%  val=70.6%\n",
            "  Ep57/100: train=75.7%  val=70.4%\n",
            "  Ep58/100: train=75.3%  val=70.4%\n",
            "  Ep59/100: train=75.4%  val=70.4%\n",
            "  Ep60/100: train=75.6%  val=69.9%\n",
            "  Ep61/100: train=75.5%  val=70.4%\n",
            "  Ep62/100: train=75.4%  val=70.6%\n",
            "  Ep63/100: train=75.7%  val=70.2%\n",
            "  Ep64/100: train=75.4%  val=70.4%\n",
            "  Ep65/100: train=75.7%  val=70.5%\n",
            "  Ep66/100: train=75.4%  val=70.5%\n",
            "  Ep67/100: train=75.4%  val=70.5%\n",
            "  Ep68/100: train=75.6%  val=71.0%\n",
            "  Ep69/100: train=75.5%  val=70.1%\n",
            "  Ep70/100: train=75.6%  val=70.7%\n",
            "  Ep71/100: train=75.8%  val=70.1%\n",
            "  Ep72/100: train=75.4%  val=70.8%\n",
            "  Ep73/100: train=75.2%  val=70.6%\n",
            "  Ep74/100: train=75.7%  val=69.9%\n",
            "  Ep75/100: train=75.8%  val=70.1%\n",
            "  Ep76/100: train=75.4%  val=70.6%\n",
            "  Ep77/100: train=75.7%  val=70.2%\n",
            "  Ep78/100: train=75.5%  val=70.7%\n",
            "  Ep79/100: train=75.6%  val=70.2%\n",
            "  Ep80/100: train=75.3%  val=69.8%\n",
            "  Ep81/100: train=75.1%  val=70.5%\n",
            "  Ep82/100: train=75.4%  val=70.4%\n",
            "  Ep83/100: train=75.7%  val=70.7%\n",
            "  Ep84/100: train=75.8%  val=70.6%\n",
            "  Ep85/100: train=75.2%  val=70.4%\n",
            "  Ep86/100: train=75.8%  val=70.2%\n",
            "  Ep87/100: train=75.0%  val=70.3%\n",
            "  Ep88/100: train=75.4%  val=70.1%\n",
            "  Ep89/100: train=75.8%  val=70.2%\n",
            "  Ep90/100: train=75.3%  val=70.3%\n",
            "  Ep91/100: train=75.7%  val=70.0%\n",
            "  Ep92/100: train=75.5%  val=70.7%\n",
            "  Ep93/100: train=75.5%  val=70.5%\n",
            "  Ep94/100: train=75.4%  val=70.3%\n",
            "  Ep95/100: train=75.4%  val=70.1%\n",
            "  Ep96/100: train=75.5%  val=70.2%\n",
            "  Ep97/100: train=75.4%  val=70.5%\n",
            "  Ep98/100: train=75.1%  val=70.0%\n",
            "  Ep99/100: train=75.1%  val=70.4%\n",
            "  Ep100/100: train=75.6%  val=70.3%\n"
          ]
        },
        {
          "data": {
            "text/html": [],
            "text/plain": [
              "<IPython.core.display.HTML object>"
            ]
          },
          "metadata": {},
          "output_type": "display_data"
        },
        {
          "data": {
            "text/html": [
              "<br>    <style><br>        .wandb-row {<br>            display: flex;<br>            flex-direction: row;<br>            flex-wrap: wrap;<br>            justify-content: flex-start;<br>            width: 100%;<br>        }<br>        .wandb-col {<br>            display: flex;<br>            flex-direction: column;<br>            flex-basis: 100%;<br>            flex: 1;<br>            padding: 10px;<br>        }<br>    </style><br><div class=\"wandb-row\"><div class=\"wandb-col\"><h3>Run history:</h3><br/><table class=\"wandb\"><tr><td>epoch</td><td>▁▁▁▁▁▂▂▂▂▂▃▃▃▃▃▄▄▄▄▅▅▅▅▅▅▆▆▆▆▆▆▆▆▇▇▇▇▇██</td></tr><tr><td>train_acc</td><td>▁▅▆▇▇█▇█████████████████████████▇█▇█████</td></tr><tr><td>train_loss</td><td>▇▆▄▅▅▄▄▅▆▃▃▃▆▃▂▄▅▃▃▇▂▆▄▄▂▁▁▅▅▂▃▃▄▄▅▃▅▄█▆</td></tr><tr><td>val_acc</td><td>▁▇████▇███████████████████▇█████████████</td></tr></table><br/></div><div class=\"wandb-col\"><h3>Run summary:</h3><br/><table class=\"wandb\"><tr><td>epoch</td><td>100</td></tr><tr><td>train_acc</td><td>75.55093</td></tr><tr><td>train_loss</td><td>0.69381</td></tr><tr><td>val_acc</td><td>70.2963</td></tr></table><br/></div></div>"
            ],
            "text/plain": [
              "<IPython.core.display.HTML object>"
            ]
          },
          "metadata": {},
          "output_type": "display_data"
        },
        {
          "data": {
            "text/html": [
              " View run <strong style=\"color:#cdcd00\">BS256_LR1e-04</strong> at: <a href='https://wandb.ai/analiju-paris/eurosat-supervised-scratch-grid-search/runs/frekg053' target=\"_blank\">https://wandb.ai/analiju-paris/eurosat-supervised-scratch-grid-search/runs/frekg053</a><br> View project at: <a href='https://wandb.ai/analiju-paris/eurosat-supervised-scratch-grid-search' target=\"_blank\">https://wandb.ai/analiju-paris/eurosat-supervised-scratch-grid-search</a><br>Synced 5 W&B file(s), 0 media file(s), 0 artifact file(s) and 0 other file(s)"
            ],
            "text/plain": [
              "<IPython.core.display.HTML object>"
            ]
          },
          "metadata": {},
          "output_type": "display_data"
        },
        {
          "data": {
            "text/html": [
              "Find logs at: <code>./wandb/run-20250605_173143-frekg053/logs</code>"
            ],
            "text/plain": [
              "<IPython.core.display.HTML object>"
            ]
          },
          "metadata": {},
          "output_type": "display_data"
        },
        {
          "name": "stdout",
          "output_type": "stream",
          "text": [
            "\n",
            ">>> Testing BS=512, LR=1.0e-04\n",
            "Total samples in folder: 27000, classes: ['AnnualCrop', 'Forest', 'HerbaceousVegetation', 'Highway', 'Industrial', 'Pasture', 'PermanentCrop', 'Residential', 'River', 'SeaLake']\n",
            "Stratified split sizes: train=21600, val=2700, test=2700\n",
            "Class proportions (%):\n",
            "  Train: [11.11111111 11.11111111 11.11111111  9.25925926  9.25925926  7.40740741\n",
            "  9.25925926 11.11111111  9.25925926 11.11111111]\n",
            "   Val:  [11.11111111 11.11111111 11.11111111  9.25925926  9.25925926  7.40740741\n",
            "  9.25925926 11.11111111  9.25925926 11.11111111]\n",
            "  Test:  [11.11111111 11.11111111 11.11111111  9.25925926  9.25925926  7.40740741\n",
            "  9.25925926 11.11111111  9.25925926 11.11111111]\n"
          ]
        },
        {
          "data": {
            "image/png": "[encoded data removed]",
            "text/plain": [
              "<Figure size 1000x500 with 1 Axes>"
            ]
          },
          "metadata": {},
          "output_type": "display_data"
        },
        {
          "name": "stdout",
          "output_type": "stream",
          "text": [
            "Computed mean: [0.3441457152366638, 0.3800985515117645, 0.40766361355781555]\n",
            "Computed std:  [0.09299741685390472, 0.06464490294456482, 0.05413917079567909]\n"
          ]
        },
        {
          "data": {
            "text/html": [
              "Tracking run with wandb version 0.19.11"
            ],
            "text/plain": [
              "<IPython.core.display.HTML object>"
            ]
          },
          "metadata": {},
          "output_type": "display_data"
        },
        {
          "data": {
            "text/html": [
              "Run data is saved locally in <code>/users/c/carvalhj/projects/eurosat_preprocessing/exploratory_notebooks/wandb/run-20250605_180215-0c7m1189</code>"
            ],
            "text/plain": [
              "<IPython.core.display.HTML object>"
            ]
          },
          "metadata": {},
          "output_type": "display_data"
        },
        {
          "data": {
            "text/html": [
              "Syncing run <strong><a href='https://wandb.ai/analiju-paris/eurosat-supervised-scratch-grid-search/runs/0c7m1189' target=\"_blank\">BS512_LR1e-04</a></strong> to <a href='https://wandb.ai/analiju-paris/eurosat-supervised-scratch-grid-search' target=\"_blank\">Weights & Biases</a> (<a href='https://wandb.me/developer-guide' target=\"_blank\">docs</a>)<br>"
            ],
            "text/plain": [
              "<IPython.core.display.HTML object>"
            ]
          },
          "metadata": {},
          "output_type": "display_data"
        },
        {
          "data": {
            "text/html": [
              " View project at <a href='https://wandb.ai/analiju-paris/eurosat-supervised-scratch-grid-search' target=\"_blank\">https://wandb.ai/analiju-paris/eurosat-supervised-scratch-grid-search</a>"
            ],
            "text/plain": [
              "<IPython.core.display.HTML object>"
            ]
          },
          "metadata": {},
          "output_type": "display_data"
        },
        {
          "data": {
            "text/html": [
              " View run at <a href='https://wandb.ai/analiju-paris/eurosat-supervised-scratch-grid-search/runs/0c7m1189' target=\"_blank\">https://wandb.ai/analiju-paris/eurosat-supervised-scratch-grid-search/runs/0c7m1189</a>"
            ],
            "text/plain": [
              "<IPython.core.display.HTML object>"
            ]
          },
          "metadata": {},
          "output_type": "display_data"
        },
        {
          "name": "stdout",
          "output_type": "stream",
          "text": [
            "  Ep1/100: train=44.9%  val=51.6%\n",
            "  Ep2/100: train=63.6%  val=66.4%\n",
            "  Ep3/100: train=70.9%  val=69.0%\n",
            "  Ep4/100: train=75.2%  val=71.5%\n",
            "  Ep5/100: train=78.0%  val=72.0%\n",
            "  Ep6/100: train=80.1%  val=72.8%\n",
            "  Ep7/100: train=81.0%  val=72.7%\n",
            "  Ep8/100: train=82.2%  val=72.1%\n",
            "  Ep9/100: train=83.2%  val=72.4%\n",
            "  Ep10/100: train=83.7%  val=72.6%\n",
            "  Ep11/100: train=83.7%  val=72.9%\n",
            "  Ep12/100: train=83.7%  val=72.7%\n",
            "  Ep13/100: train=83.8%  val=72.7%\n",
            "  Ep14/100: train=84.1%  val=72.7%\n",
            "  Ep15/100: train=83.9%  val=73.2%\n",
            "  Ep16/100: train=84.0%  val=72.4%\n",
            "  Ep17/100: train=84.1%  val=72.9%\n",
            "  Ep18/100: train=84.0%  val=72.7%\n",
            "  Ep19/100: train=84.2%  val=73.3%\n",
            "  Ep20/100: train=83.8%  val=72.7%\n",
            "  Ep21/100: train=83.8%  val=72.2%\n",
            "  Ep22/100: train=83.8%  val=73.0%\n",
            "  Ep23/100: train=83.7%  val=72.5%\n",
            "  Ep24/100: train=83.7%  val=73.1%\n",
            "  Ep25/100: train=83.8%  val=72.3%\n",
            "  Ep26/100: train=83.6%  val=73.0%\n",
            "  Ep27/100: train=84.3%  val=72.7%\n",
            "  Ep28/100: train=84.3%  val=72.9%\n",
            "  Ep29/100: train=84.1%  val=73.1%\n",
            "  Ep30/100: train=84.2%  val=72.6%\n",
            "  Ep31/100: train=84.4%  val=73.1%\n",
            "  Ep32/100: train=84.4%  val=73.0%\n",
            "  Ep33/100: train=83.5%  val=72.7%\n",
            "  Ep34/100: train=84.2%  val=72.3%\n",
            "  Ep35/100: train=83.7%  val=72.6%\n",
            "  Ep36/100: train=84.0%  val=72.9%\n",
            "  Ep37/100: train=84.4%  val=72.4%\n",
            "  Ep38/100: train=83.8%  val=72.6%\n",
            "  Ep39/100: train=84.0%  val=72.6%\n",
            "  Ep40/100: train=84.1%  val=72.4%\n",
            "  Ep41/100: train=84.3%  val=72.4%\n",
            "  Ep42/100: train=84.0%  val=72.4%\n",
            "  Ep43/100: train=84.0%  val=72.7%\n",
            "  Ep44/100: train=83.9%  val=72.3%\n",
            "  Ep45/100: train=83.7%  val=72.7%\n",
            "  Ep46/100: train=83.9%  val=72.6%\n",
            "  Ep47/100: train=84.0%  val=72.0%\n",
            "  Ep48/100: train=83.9%  val=72.5%\n",
            "  Ep49/100: train=84.1%  val=73.0%\n",
            "  Ep50/100: train=83.6%  val=72.9%\n",
            "  Ep51/100: train=84.3%  val=72.4%\n",
            "  Ep52/100: train=84.6%  val=72.4%\n",
            "  Ep53/100: train=84.2%  val=72.2%\n",
            "  Ep54/100: train=83.7%  val=72.6%\n",
            "  Ep55/100: train=83.7%  val=72.5%\n",
            "  Ep56/100: train=83.5%  val=73.0%\n",
            "  Ep57/100: train=84.6%  val=73.0%\n",
            "  Ep58/100: train=83.8%  val=73.2%\n",
            "  Ep59/100: train=83.7%  val=73.2%\n",
            "  Ep60/100: train=84.4%  val=73.1%\n",
            "  Ep61/100: train=83.9%  val=72.2%\n",
            "  Ep62/100: train=84.0%  val=72.8%\n",
            "  Ep63/100: train=84.3%  val=73.1%\n",
            "  Ep64/100: train=84.1%  val=72.9%\n",
            "  Ep65/100: train=84.6%  val=72.6%\n",
            "  Ep66/100: train=83.9%  val=72.3%\n",
            "  Ep67/100: train=84.0%  val=71.9%\n",
            "  Ep68/100: train=84.2%  val=72.8%\n",
            "  Ep69/100: train=84.0%  val=72.5%\n",
            "  Ep70/100: train=84.3%  val=73.1%\n",
            "  Ep71/100: train=84.2%  val=73.4%\n",
            "  Ep72/100: train=83.7%  val=73.1%\n",
            "  Ep73/100: train=84.4%  val=72.4%\n",
            "  Ep74/100: train=84.3%  val=72.7%\n",
            "  Ep75/100: train=84.2%  val=73.0%\n",
            "  Ep76/100: train=83.8%  val=72.8%\n",
            "  Ep77/100: train=84.4%  val=72.6%\n",
            "  Ep78/100: train=83.7%  val=72.7%\n",
            "  Ep79/100: train=84.5%  val=73.1%\n",
            "  Ep80/100: train=84.3%  val=72.5%\n",
            "  Ep81/100: train=83.3%  val=72.9%\n",
            "  Ep82/100: train=83.9%  val=72.6%\n",
            "  Ep83/100: train=84.0%  val=72.1%\n",
            "  Ep84/100: train=83.9%  val=73.0%\n",
            "  Ep85/100: train=83.8%  val=72.9%\n",
            "  Ep86/100: train=84.1%  val=73.0%\n",
            "  Ep87/100: train=83.7%  val=72.6%\n",
            "  Ep88/100: train=84.3%  val=72.9%\n",
            "  Ep89/100: train=84.3%  val=73.1%\n",
            "  Ep90/100: train=84.1%  val=72.9%\n",
            "  Ep91/100: train=84.0%  val=72.9%\n",
            "  Ep92/100: train=84.2%  val=72.3%\n",
            "  Ep93/100: train=83.9%  val=73.0%\n",
            "  Ep94/100: train=83.7%  val=73.0%\n",
            "  Ep95/100: train=84.0%  val=72.6%\n",
            "  Ep96/100: train=84.0%  val=72.4%\n",
            "  Ep97/100: train=83.6%  val=72.4%\n",
            "  Ep98/100: train=83.4%  val=72.4%\n",
            "  Ep99/100: train=83.4%  val=72.0%\n",
            "  Ep100/100: train=84.0%  val=72.6%\n"
          ]
        },
        {
          "data": {
            "text/html": [],
            "text/plain": [
              "<IPython.core.display.HTML object>"
            ]
          },
          "metadata": {},
          "output_type": "display_data"
        },
        {
          "data": {
            "text/html": [
              "<br>    <style><br>        .wandb-row {<br>            display: flex;<br>            flex-direction: row;<br>            flex-wrap: wrap;<br>            justify-content: flex-start;<br>            width: 100%;<br>        }<br>        .wandb-col {<br>            display: flex;<br>            flex-direction: column;<br>            flex-basis: 100%;<br>            flex: 1;<br>            padding: 10px;<br>        }<br>    </style><br><div class=\"wandb-row\"><div class=\"wandb-col\"><h3>Run history:</h3><br/><table class=\"wandb\"><tr><td>epoch</td><td>▁▁▁▂▂▂▂▂▃▃▃▃▃▃▃▄▄▄▄▄▅▅▅▅▅▅▅▅▆▆▆▇▇▇▇▇▇▇██</td></tr><tr><td>train_acc</td><td>▁▅▆██████████▇████████▇██████████▇█████▇</td></tr><tr><td>train_loss</td><td>█▄▁▁▁▁▁▁▁▁▁▁▁▁▁▁▁▁▁▁▁▁▁▁▁▁▁▁▁▁▁▁▁▁▁▁▁▁▁▁</td></tr><tr><td>val_acc</td><td>▁▄▆▇▇▇▇██▇▇█▇▇▇▇▇▇▇▇▇▇██▇▇▇███▇▇█▇▇███▇▇</td></tr></table><br/></div><div class=\"wandb-col\"><h3>Run summary:</h3><br/><table class=\"wandb\"><tr><td>epoch</td><td>100</td></tr><tr><td>train_acc</td><td>83.95833</td></tr><tr><td>train_loss</td><td>0.48023</td></tr><tr><td>val_acc</td><td>72.59259</td></tr></table><br/></div></div>"
            ],
            "text/plain": [
              "<IPython.core.display.HTML object>"
            ]
          },
          "metadata": {},
          "output_type": "display_data"
        },
        {
          "data": {
            "text/html": [
              " View run <strong style=\"color:#cdcd00\">BS512_LR1e-04</strong> at: <a href='https://wandb.ai/analiju-paris/eurosat-supervised-scratch-grid-search/runs/0c7m1189' target=\"_blank\">https://wandb.ai/analiju-paris/eurosat-supervised-scratch-grid-search/runs/0c7m1189</a><br> View project at: <a href='https://wandb.ai/analiju-paris/eurosat-supervised-scratch-grid-search' target=\"_blank\">https://wandb.ai/analiju-paris/eurosat-supervised-scratch-grid-search</a><br>Synced 5 W&B file(s), 0 media file(s), 0 artifact file(s) and 0 other file(s)"
            ],
            "text/plain": [
              "<IPython.core.display.HTML object>"
            ]
          },
          "metadata": {},
          "output_type": "display_data"
        },
        {
          "data": {
            "text/html": [
              "Find logs at: <code>./wandb/run-20250605_180215-0c7m1189/logs</code>"
            ],
            "text/plain": [
              "<IPython.core.display.HTML object>"
            ]
          },
          "metadata": {},
          "output_type": "display_data"
        },
        {
          "name": "stdout",
          "output_type": "stream",
          "text": [
            "\n",
            ">>> Best config: BS=512, LR=1.0e-04, val=72.6%\n",
            "Total samples in folder: 27000, classes: ['AnnualCrop', 'Forest', 'HerbaceousVegetation', 'Highway', 'Industrial', 'Pasture', 'PermanentCrop', 'Residential', 'River', 'SeaLake']\n",
            "Stratified split sizes: train=21600, val=2700, test=2700\n",
            "Class proportions (%):\n",
            "  Train: [11.11111111 11.11111111 11.11111111  9.25925926  9.25925926  7.40740741\n",
            "  9.25925926 11.11111111  9.25925926 11.11111111]\n",
            "   Val:  [11.11111111 11.11111111 11.11111111  9.25925926  9.25925926  7.40740741\n",
            "  9.25925926 11.11111111  9.25925926 11.11111111]\n",
            "  Test:  [11.11111111 11.11111111 11.11111111  9.25925926  9.25925926  7.40740741\n",
            "  9.25925926 11.11111111  9.25925926 11.11111111]\n"
          ]
        },
        {
          "data": {
            "image/png": "[encoded data removed]",
            "text/plain": [
              "<Figure size 1000x500 with 1 Axes>"
            ]
          },
          "metadata": {},
          "output_type": "display_data"
        },
        {
          "name": "stdout",
          "output_type": "stream",
          "text": [
            "Computed mean: [0.3441457152366638, 0.3800985515117645, 0.40766361355781555]\n",
            "Computed std:  [0.09299741685390472, 0.06464490294456482, 0.05413917079567909]\n",
            "\n",
            ">>> Running linear probe on frozen backbone\n",
            "  Probe Ep1/100: train=50.5%\n",
            "  Probe Ep2/100: train=75.3%\n",
            "  Probe Ep3/100: train=77.5%\n",
            "  Probe Ep4/100: train=77.7%\n",
            "  Probe Ep5/100: train=78.1%\n",
            "  Probe Ep6/100: train=78.7%\n",
            "  Probe Ep7/100: train=78.0%\n",
            "  Probe Ep8/100: train=78.2%\n",
            "  Probe Ep9/100: train=78.7%\n",
            "  Probe Ep10/100: train=78.8%\n",
            "  Probe Ep11/100: train=78.6%\n",
            "  Probe Ep12/100: train=78.5%\n",
            "  Probe Ep13/100: train=78.6%\n",
            "  Probe Ep14/100: train=78.9%\n",
            "  Probe Ep15/100: train=78.9%\n",
            "  Probe Ep16/100: train=78.9%\n",
            "  Probe Ep17/100: train=78.7%\n",
            "  Probe Ep18/100: train=78.4%\n",
            "  Probe Ep19/100: train=78.7%\n",
            "  Probe Ep20/100: train=79.0%\n",
            "  Probe Ep21/100: train=78.9%\n",
            "  Probe Ep22/100: train=78.6%\n",
            "  Probe Ep23/100: train=78.7%\n",
            "  Probe Ep24/100: train=78.7%\n",
            "  Probe Ep25/100: train=78.8%\n",
            "  Probe Ep26/100: train=79.2%\n",
            "  Probe Ep27/100: train=79.1%\n",
            "  Probe Ep28/100: train=78.9%\n",
            "  Probe Ep29/100: train=78.5%\n",
            "  Probe Ep30/100: train=78.9%\n",
            "  Probe Ep31/100: train=78.9%\n",
            "  Probe Ep32/100: train=78.6%\n",
            "  Probe Ep33/100: train=78.9%\n",
            "  Probe Ep34/100: train=78.7%\n",
            "  Probe Ep35/100: train=79.0%\n",
            "  Probe Ep36/100: train=78.9%\n",
            "  Probe Ep37/100: train=78.6%\n",
            "  Probe Ep38/100: train=78.8%\n",
            "  Probe Ep39/100: train=78.6%\n",
            "  Probe Ep40/100: train=78.9%\n",
            "  Probe Ep41/100: train=79.1%\n",
            "  Probe Ep42/100: train=79.1%\n",
            "  Probe Ep43/100: train=79.0%\n",
            "  Probe Ep44/100: train=79.0%\n",
            "  Probe Ep45/100: train=78.6%\n",
            "  Probe Ep46/100: train=79.1%\n",
            "  Probe Ep47/100: train=78.7%\n",
            "  Probe Ep48/100: train=78.9%\n",
            "  Probe Ep49/100: train=78.8%\n",
            "  Probe Ep50/100: train=78.8%\n",
            "  Probe Ep51/100: train=78.7%\n",
            "  Probe Ep52/100: train=78.4%\n",
            "  Probe Ep53/100: train=78.5%\n",
            "  Probe Ep54/100: train=78.7%\n",
            "  Probe Ep55/100: train=79.0%\n",
            "  Probe Ep56/100: train=78.7%\n",
            "  Probe Ep57/100: train=78.6%\n",
            "  Probe Ep58/100: train=78.6%\n",
            "  Probe Ep59/100: train=78.8%\n",
            "  Probe Ep60/100: train=79.2%\n",
            "  Probe Ep61/100: train=78.9%\n",
            "  Probe Ep62/100: train=78.6%\n",
            "  Probe Ep63/100: train=78.3%\n",
            "  Probe Ep64/100: train=78.8%\n",
            "  Probe Ep65/100: train=78.7%\n",
            "  Probe Ep66/100: train=78.9%\n",
            "  Probe Ep67/100: train=78.7%\n",
            "  Probe Ep68/100: train=78.8%\n",
            "  Probe Ep69/100: train=78.7%\n",
            "  Probe Ep70/100: train=79.0%\n",
            "  Probe Ep71/100: train=78.5%\n",
            "  Probe Ep72/100: train=78.9%\n",
            "  Probe Ep73/100: train=78.9%\n",
            "  Probe Ep74/100: train=79.0%\n",
            "  Probe Ep75/100: train=78.8%\n",
            "  Probe Ep76/100: train=78.9%\n",
            "  Probe Ep77/100: train=79.2%\n",
            "  Probe Ep78/100: train=78.6%\n",
            "  Probe Ep79/100: train=78.8%\n",
            "  Probe Ep80/100: train=78.8%\n",
            "  Probe Ep81/100: train=78.7%\n",
            "  Probe Ep82/100: train=78.9%\n",
            "  Probe Ep83/100: train=79.0%\n",
            "  Probe Ep84/100: train=79.1%\n",
            "  Probe Ep85/100: train=78.7%\n",
            "  Probe Ep86/100: train=78.6%\n",
            "  Probe Ep87/100: train=79.0%\n",
            "  Probe Ep88/100: train=78.5%\n",
            "  Probe Ep89/100: train=78.5%\n",
            "  Probe Ep90/100: train=79.1%\n",
            "  Probe Ep91/100: train=78.8%\n",
            "  Probe Ep92/100: train=78.6%\n",
            "  Probe Ep93/100: train=78.6%\n",
            "  Probe Ep94/100: train=78.8%\n",
            "  Probe Ep95/100: train=78.6%\n",
            "  Probe Ep96/100: train=78.8%\n",
            "  Probe Ep97/100: train=78.9%\n",
            "  Probe Ep98/100: train=78.7%\n",
            "  Probe Ep99/100: train=78.2%\n",
            "  Probe Ep100/100: train=78.8%\n",
            "Probe test acc: 70.9%\n"
          ]
        },
        {
          "data": {
            "text/html": [
              "Tracking run with wandb version 0.19.11"
            ],
            "text/plain": [
              "<IPython.core.display.HTML object>"
            ]
          },
          "metadata": {},
          "output_type": "display_data"
        },
        {
          "data": {
            "text/html": [
              "Run data is saved locally in <code>/users/c/carvalhj/projects/eurosat_preprocessing/exploratory_notebooks/wandb/run-20250605_183746-te8slg35</code>"
            ],
            "text/plain": [
              "<IPython.core.display.HTML object>"
            ]
          },
          "metadata": {},
          "output_type": "display_data"
        },
        {
          "data": {
            "text/html": [
              "Syncing run <strong><a href='https://wandb.ai/analiju-paris/eurosat-supervised-scratch-linear-probe/runs/te8slg35' target=\"_blank\">BS512_LR1e-04_probe</a></strong> to <a href='https://wandb.ai/analiju-paris/eurosat-supervised-scratch-linear-probe' target=\"_blank\">Weights & Biases</a> (<a href='https://wandb.me/developer-guide' target=\"_blank\">docs</a>)<br>"
            ],
            "text/plain": [
              "<IPython.core.display.HTML object>"
            ]
          },
          "metadata": {},
          "output_type": "display_data"
        },
        {
          "data": {
            "text/html": [
              " View project at <a href='https://wandb.ai/analiju-paris/eurosat-supervised-scratch-linear-probe' target=\"_blank\">https://wandb.ai/analiju-paris/eurosat-supervised-scratch-linear-probe</a>"
            ],
            "text/plain": [
              "<IPython.core.display.HTML object>"
            ]
          },
          "metadata": {},
          "output_type": "display_data"
        },
        {
          "data": {
            "text/html": [
              " View run at <a href='https://wandb.ai/analiju-paris/eurosat-supervised-scratch-linear-probe/runs/te8slg35' target=\"_blank\">https://wandb.ai/analiju-paris/eurosat-supervised-scratch-linear-probe/runs/te8slg35</a>"
            ],
            "text/plain": [
              "<IPython.core.display.HTML object>"
            ]
          },
          "metadata": {},
          "output_type": "display_data"
        }
      ],
      "source": [
        "def set_seed(seed):\n",
        "    torch.manual_seed(seed)\n",
        "    torch.cuda.manual_seed_all(seed)\n",
        "    np.random.seed(seed)\n",
        "    random.seed(seed)\n",
        "    torch.backends.cudnn.deterministic = True\n",
        "    torch.backends.cudnn.benchmark     = False\n",
        "\n",
        "def compute_mean_std(dataset, batch_size):\n",
        "    loader = DataLoader(dataset, batch_size, shuffle=False, num_workers=2)\n",
        "    mean = 0.0\n",
        "    std = 0.0\n",
        "    n_samples = 0\n",
        "\n",
        "    for data, _ in loader:\n",
        "        batch_samples = data.size(0)\n",
        "        data = data.view(batch_samples, data.size(1), -1)  # (B, C, H*W)\n",
        "        mean += data.mean(2).sum(0)\n",
        "        std += data.std(2).sum(0)\n",
        "        n_samples += batch_samples\n",
        "\n",
        "    mean /= n_samples\n",
        "    std /= n_samples\n",
        "    return mean.tolist(), std.tolist()\n",
        "\n",
        "def build_model(n_cls, pretrained=False):\n",
        "    m = resnet50(weights=None if not pretrained else \"DEFAULT\")\n",
        "    m.fc = nn.Linear(m.fc.in_features, n_cls)\n",
        "    return m.to(DEVICE)\n",
        "\n",
        "def train_one_epoch(model, loader, opt, crit, sched=None):\n",
        "    model.train()\n",
        "    tot_loss, corr, tot = 0.0, 0, 0\n",
        "    for xb, yb in loader:\n",
        "        xb, yb = xb.to(DEVICE), yb.to(DEVICE)\n",
        "        opt.zero_grad()\n",
        "        logits = model(xb)\n",
        "\n",
        "        loss   = crit(logits, yb)\n",
        "        loss.backward()\n",
        "        opt.step()\n",
        "        if sched: sched.step()\n",
        "        tot_loss += loss.item()\n",
        "        preds    = logits.argmax(dim=1)\n",
        "        corr    += (preds==yb).sum().item()\n",
        "        tot     += yb.size(0)\n",
        "        avg_loss = tot_loss / len(loader)\n",
        "\n",
        "    avg_loss = tot_loss / len(loader)\n",
        "    acc = 100.0 * corr / tot\n",
        "    return avg_loss, acc\n",
        "\n",
        "def evaluate(model, loader):\n",
        "    model.eval()\n",
        "    corr, tot = 0,0\n",
        "    with torch.no_grad():\n",
        "        for xb, yb in loader:\n",
        "            xb, yb = xb.to(DEVICE), yb.to(DEVICE)\n",
        "            preds = model(xb).argmax(dim=1)\n",
        "            corr += (preds==yb).sum().item()\n",
        "            tot  += yb.size(0)\n",
        "    return 100 * corr / tot\n",
        "\n",
        "def hyperparam_search(pretrained=True):\n",
        "    best_val = -1.0\n",
        "    best_cfg = None\n",
        "    best_model = None\n",
        "\n",
        "    for bs, lr in [(b, l) for b in BATCH_SIZES for l in LRS]:\n",
        "        print(f\"\\n>>> Testing BS={bs}, LR={lr:.1e}\")\n",
        "        set_seed(SEED)\n",
        "        tr_dl, val_dl, te_dl, n_cls = get_data_loaders(DATA_DIR, bs)\n",
        "        model = build_model(n_cls, pretrained=pretrained)\n",
        "\n",
        "        opt   = optim.Adam(model.parameters(), lr=lr)\n",
        "        sched = optim.lr_scheduler.StepLR(opt, step_size=10, gamma=0.9)\n",
        "        crit  = nn.CrossEntropyLoss()\n",
        "\n",
        "        # Start a W&B run\n",
        "        wandb_run = wandb.init(\n",
        "            project=\"eurosat-supervised-scratch-grid-search\",\n",
        "            name=f\"BS{bs}_LR{lr:.0e}\",\n",
        "            config={\n",
        "                \"batch_size\": bs,\n",
        "                \"learning_rate\": lr,\n",
        "                \"epochs\": NUM_EPOCHS,\n",
        "                \"pretrained\": pretrained,\n",
        "            }\n",
        "        )\n",
        "\n",
        "        for ep in range(NUM_EPOCHS):\n",
        "            tr_loss, tr_acc = train_one_epoch(model, tr_dl, opt, crit, sched)\n",
        "            # Compute validation loss & accuracy in one pass\n",
        "            model.eval()\n",
        "            val_loss, corr, tot = 0.0, 0, 0\n",
        "            with torch.no_grad():\n",
        "                for xb, yb in val_dl:\n",
        "                    xb, yb = xb.to(DEVICE), yb.to(DEVICE)\n",
        "                    logits = model(xb)\n",
        "                    loss = crit(logits, yb)\n",
        "                    val_loss += loss.item()\n",
        "                    preds = logits.argmax(dim=1)\n",
        "                    corr += (preds == yb).sum().item()\n",
        "                    tot  += yb.size(0)\n",
        "            val_loss /= len(val_dl)\n",
        "            val_acc = 100.0 * corr / tot\n",
        "\n",
        "            print(f\"  Ep{ep+1}/{NUM_EPOCHS}: train_acc={tr_acc:.1f}%  val_acc={val_acc:.1f}%  val_loss={val_loss:.4f}\")\n",
        "\n",
        "            # Log metrics to W&B\n",
        "            wandb.log({\n",
        "                \"epoch\":       ep + 1,\n",
        "                \"train_loss\":  tr_loss,\n",
        "                \"train_acc\":   tr_acc,\n",
        "                \"val_loss\":    val_loss,\n",
        "                \"val_acc\":     val_acc\n",
        "            })\n",
        "\n",
        "        wandb_run.finish()\n",
        "\n",
        "        # Only use val_acc to pick best\n",
        "        if val_acc > best_val:\n",
        "            best_val   = val_acc\n",
        "            best_cfg   = (bs, lr)\n",
        "            best_model = copy.deepcopy(model)\n",
        "\n",
        "    print(f\"\\n>>> Best config: BS={best_cfg[0]}, LR={best_cfg[1]:.1e}, val_acc={best_val:.1f}%\")\n",
        "    return best_cfg, best_model\n",
        "\n",
        "def linear_probe(frozen_model, train_dl, test_dl, lr):\n",
        "    for p in frozen_model.parameters():\n",
        "        p.requires_grad = False\n",
        "    # new head\n",
        "    n_in = frozen_model.fc.in_features\n",
        "    n_out = frozen_model.fc.out_features\n",
        "    frozen_model.fc = nn.Linear(n_in, n_out).to(DEVICE)\n",
        "\n",
        "    opt = optim.Adam(frozen_model.fc.parameters(), lr=lr)\n",
        "    sched = optim.lr_scheduler.StepLR(opt, step_size=10, gamma=0.9)\n",
        "\n",
        "    crit = nn.CrossEntropyLoss()\n",
        "\n",
        "    print(\"\\n>>> Running linear probe on frozen backbone\")\n",
        "    for ep in range(NUM_EPOCHS):\n",
        "        loss, acc = train_one_epoch(frozen_model, train_dl, opt, crit, sched=sched)\n",
        "        print(f\"  Probe Ep{ep+1}/{NUM_EPOCHS}: train={acc:.1f}%\")\n",
        "    test_acc = evaluate(frozen_model, test_dl)\n",
        "    print(f\"Probe test acc: {test_acc:.1f}%\")\n",
        "    wandb.init(\n",
        "        project=\"eurosat-supervised-scratch-linear-probe\",\n",
        "        name=f\"BS{train_dl.batch_size}_LR{lr:.0e}_probe\",\n",
        "        config={\n",
        "            \"batch_size\": train_dl.batch_size,\n",
        "            \"learning_rate\": lr,\n",
        "            \"epochs\": NUM_EPOCHS,\n",
        "            \"pretrained\": False,\n",
        "            \"probe\": True\n",
        "        }\n",
        "    )\n",
        "    wandb.log({\"probe_test_acc\": test_acc})\n",
        "\n",
        "    return test_acc\n",
        "\n"
      ]
    },
    {
      "cell_type": "code",
      "execution_count": null,
      "metadata": {},
      "outputs": [],
      "source": [
        "# Main\n",
        "\n",
        "best_cfg, best_model = hyperparam_search(pretrained=False)\n",
        "\n",
        "bs, lr = best_cfg\n",
        "tr_dl, val_dl, te_dl, n_cls = get_data_loaders(DATA_DIR, bs)\n",
        "\n",
        "probe_acc = linear_probe(best_model, tr_dl, te_dl, lr)\n",
        "\n",
        "print(\"\\n>>> Retraining final model on TRAIN+VAL combined with best hyperparameters\")\n",
        "combined_dataset = ConcatDataset([tr_dl.dataset, val_dl.dataset])\n",
        "combined_dl = DataLoader(combined_dataset, batch_size=bs, shuffle=True, num_workers=4)\n",
        "\n",
        "set_seed(SEED)\n",
        "final_model = build_model(n_cls, pretrained=False)\n",
        "opt_final = optim.Adam(final_model.parameters(), lr=lr)\n",
        "sched_final = optim.lr_scheduler.StepLR(opt_final, step_size=10, gamma=0.9)\n",
        "crit_final  = nn.CrossEntropyLoss()\n",
        "\n",
        "for ep in range(NUM_EPOCHS):\n",
        "    loss, acc = train_one_epoch(final_model, combined_dl, opt_final, crit_final, sched=sched_final)\n",
        "    print(f\"  Final Retrain Ep{ep+1}/{NUM_EPOCHS}: train_acc={acc:.1f}%\")\n",
        "\n",
        "final_test_acc = evaluate(final_model, te_dl)\n",
        "print(f\"Final model test accuracy: {final_test_acc:.1f}%\")\n",
        "\n",
        "wandb.init(\n",
        "    project=\"eurosat-supervised-scratch-final\",\n",
        "    name=f\"BS{bs}_LR{lr:.0e}_final\",\n",
        "    config={\n",
        "        \"batch_size\":    bs,\n",
        "        \"learning_rate\": lr,\n",
        "        \"epochs\":        NUM_EPOCHS,\n",
        "        \"pretrained\":    False,\n",
        "        \"final_retrain\": True\n",
        "    }\n",
        ")\n",
        "wandb.log({\"final_test_acc\": final_test_acc})"
      ]
    },
    {
      "cell_type": "code",
      "execution_count": null,
      "metadata": {},
      "outputs": [],
      "source": [
        "\n",
        "\n",
        "# ─── MAIN ───────────────────────────────────────────────────────────────────────\n",
        "best_cfg, best_model = hyperparam_search(pretrained = False)\n",
        "# rebuild loaders once more so we have the same splits\n",
        "bs, lr = best_cfg\n",
        "tr_dl, val_dl, te_dl, _ = get_data_loaders(DATA_DIR, bs)\n",
        "\n",
        "# Option A: probe on just the original training split\n",
        "probe_acc = linear_probe(best_model, tr_dl, te_dl, lr)"
      ]
    },
    {
      "cell_type": "code",
      "execution_count": 5,
      "metadata": {},
      "outputs": [
        {
          "data": {
            "text/plain": [
              "((512, 0.0001),\n",
              " ResNet(\n",
              "   (conv1): Conv2d(3, 64, kernel_size=(7, 7), stride=(2, 2), padding=(3, 3), bias=False)\n",
              "   (bn1): BatchNorm2d(64, eps=1e-05, momentum=0.1, affine=True, track_running_stats=True)\n",
              "   (relu): ReLU(inplace=True)\n",
              "   (maxpool): MaxPool2d(kernel_size=3, stride=2, padding=1, dilation=1, ceil_mode=False)\n",
              "   (layer1): Sequential(\n",
              "     (0): Bottleneck(\n",
              "       (conv1): Conv2d(64, 64, kernel_size=(1, 1), stride=(1, 1), bias=False)\n",
              "       (bn1): BatchNorm2d(64, eps=1e-05, momentum=0.1, affine=True, track_running_stats=True)\n",
              "       (conv2): Conv2d(64, 64, kernel_size=(3, 3), stride=(1, 1), padding=(1, 1), bias=False)\n",
              "       (bn2): BatchNorm2d(64, eps=1e-05, momentum=0.1, affine=True, track_running_stats=True)\n",
              "       (conv3): Conv2d(64, 256, kernel_size=(1, 1), stride=(1, 1), bias=False)\n",
              "       (bn3): BatchNorm2d(256, eps=1e-05, momentum=0.1, affine=True, track_running_stats=True)\n",
              "       (relu): ReLU(inplace=True)\n",
              "       (downsample): Sequential(\n",
              "         (0): Conv2d(64, 256, kernel_size=(1, 1), stride=(1, 1), bias=False)\n",
              "         (1): BatchNorm2d(256, eps=1e-05, momentum=0.1, affine=True, track_running_stats=True)\n",
              "       )\n",
              "     )\n",
              "     (1): Bottleneck(\n",
              "       (conv1): Conv2d(256, 64, kernel_size=(1, 1), stride=(1, 1), bias=False)\n",
              "       (bn1): BatchNorm2d(64, eps=1e-05, momentum=0.1, affine=True, track_running_stats=True)\n",
              "       (conv2): Conv2d(64, 64, kernel_size=(3, 3), stride=(1, 1), padding=(1, 1), bias=False)\n",
              "       (bn2): BatchNorm2d(64, eps=1e-05, momentum=0.1, affine=True, track_running_stats=True)\n",
              "       (conv3): Conv2d(64, 256, kernel_size=(1, 1), stride=(1, 1), bias=False)\n",
              "       (bn3): BatchNorm2d(256, eps=1e-05, momentum=0.1, affine=True, track_running_stats=True)\n",
              "       (relu): ReLU(inplace=True)\n",
              "     )\n",
              "     (2): Bottleneck(\n",
              "       (conv1): Conv2d(256, 64, kernel_size=(1, 1), stride=(1, 1), bias=False)\n",
              "       (bn1): BatchNorm2d(64, eps=1e-05, momentum=0.1, affine=True, track_running_stats=True)\n",
              "       (conv2): Conv2d(64, 64, kernel_size=(3, 3), stride=(1, 1), padding=(1, 1), bias=False)\n",
              "       (bn2): BatchNorm2d(64, eps=1e-05, momentum=0.1, affine=True, track_running_stats=True)\n",
              "       (conv3): Conv2d(64, 256, kernel_size=(1, 1), stride=(1, 1), bias=False)\n",
              "       (bn3): BatchNorm2d(256, eps=1e-05, momentum=0.1, affine=True, track_running_stats=True)\n",
              "       (relu): ReLU(inplace=True)\n",
              "     )\n",
              "   )\n",
              "   (layer2): Sequential(\n",
              "     (0): Bottleneck(\n",
              "       (conv1): Conv2d(256, 128, kernel_size=(1, 1), stride=(1, 1), bias=False)\n",
              "       (bn1): BatchNorm2d(128, eps=1e-05, momentum=0.1, affine=True, track_running_stats=True)\n",
              "       (conv2): Conv2d(128, 128, kernel_size=(3, 3), stride=(2, 2), padding=(1, 1), bias=False)\n",
              "       (bn2): BatchNorm2d(128, eps=1e-05, momentum=0.1, affine=True, track_running_stats=True)\n",
              "       (conv3): Conv2d(128, 512, kernel_size=(1, 1), stride=(1, 1), bias=False)\n",
              "       (bn3): BatchNorm2d(512, eps=1e-05, momentum=0.1, affine=True, track_running_stats=True)\n",
              "       (relu): ReLU(inplace=True)\n",
              "       (downsample): Sequential(\n",
              "         (0): Conv2d(256, 512, kernel_size=(1, 1), stride=(2, 2), bias=False)\n",
              "         (1): BatchNorm2d(512, eps=1e-05, momentum=0.1, affine=True, track_running_stats=True)\n",
              "       )\n",
              "     )\n",
              "     (1): Bottleneck(\n",
              "       (conv1): Conv2d(512, 128, kernel_size=(1, 1), stride=(1, 1), bias=False)\n",
              "       (bn1): BatchNorm2d(128, eps=1e-05, momentum=0.1, affine=True, track_running_stats=True)\n",
              "       (conv2): Conv2d(128, 128, kernel_size=(3, 3), stride=(1, 1), padding=(1, 1), bias=False)\n",
              "       (bn2): BatchNorm2d(128, eps=1e-05, momentum=0.1, affine=True, track_running_stats=True)\n",
              "       (conv3): Conv2d(128, 512, kernel_size=(1, 1), stride=(1, 1), bias=False)\n",
              "       (bn3): BatchNorm2d(512, eps=1e-05, momentum=0.1, affine=True, track_running_stats=True)\n",
              "       (relu): ReLU(inplace=True)\n",
              "     )\n",
              "     (2): Bottleneck(\n",
              "       (conv1): Conv2d(512, 128, kernel_size=(1, 1), stride=(1, 1), bias=False)\n",
              "       (bn1): BatchNorm2d(128, eps=1e-05, momentum=0.1, affine=True, track_running_stats=True)\n",
              "       (conv2): Conv2d(128, 128, kernel_size=(3, 3), stride=(1, 1), padding=(1, 1), bias=False)\n",
              "       (bn2): BatchNorm2d(128, eps=1e-05, momentum=0.1, affine=True, track_running_stats=True)\n",
              "       (conv3): Conv2d(128, 512, kernel_size=(1, 1), stride=(1, 1), bias=False)\n",
              "       (bn3): BatchNorm2d(512, eps=1e-05, momentum=0.1, affine=True, track_running_stats=True)\n",
              "       (relu): ReLU(inplace=True)\n",
              "     )\n",
              "     (3): Bottleneck(\n",
              "       (conv1): Conv2d(512, 128, kernel_size=(1, 1), stride=(1, 1), bias=False)\n",
              "       (bn1): BatchNorm2d(128, eps=1e-05, momentum=0.1, affine=True, track_running_stats=True)\n",
              "       (conv2): Conv2d(128, 128, kernel_size=(3, 3), stride=(1, 1), padding=(1, 1), bias=False)\n",
              "       (bn2): BatchNorm2d(128, eps=1e-05, momentum=0.1, affine=True, track_running_stats=True)\n",
              "       (conv3): Conv2d(128, 512, kernel_size=(1, 1), stride=(1, 1), bias=False)\n",
              "       (bn3): BatchNorm2d(512, eps=1e-05, momentum=0.1, affine=True, track_running_stats=True)\n",
              "       (relu): ReLU(inplace=True)\n",
              "     )\n",
              "   )\n",
              "   (layer3): Sequential(\n",
              "     (0): Bottleneck(\n",
              "       (conv1): Conv2d(512, 256, kernel_size=(1, 1), stride=(1, 1), bias=False)\n",
              "       (bn1): BatchNorm2d(256, eps=1e-05, momentum=0.1, affine=True, track_running_stats=True)\n",
              "       (conv2): Conv2d(256, 256, kernel_size=(3, 3), stride=(2, 2), padding=(1, 1), bias=False)\n",
              "       (bn2): BatchNorm2d(256, eps=1e-05, momentum=0.1, affine=True, track_running_stats=True)\n",
              "       (conv3): Conv2d(256, 1024, kernel_size=(1, 1), stride=(1, 1), bias=False)\n",
              "       (bn3): BatchNorm2d(1024, eps=1e-05, momentum=0.1, affine=True, track_running_stats=True)\n",
              "       (relu): ReLU(inplace=True)\n",
              "       (downsample): Sequential(\n",
              "         (0): Conv2d(512, 1024, kernel_size=(1, 1), stride=(2, 2), bias=False)\n",
              "         (1): BatchNorm2d(1024, eps=1e-05, momentum=0.1, affine=True, track_running_stats=True)\n",
              "       )\n",
              "     )\n",
              "     (1): Bottleneck(\n",
              "       (conv1): Conv2d(1024, 256, kernel_size=(1, 1), stride=(1, 1), bias=False)\n",
              "       (bn1): BatchNorm2d(256, eps=1e-05, momentum=0.1, affine=True, track_running_stats=True)\n",
              "       (conv2): Conv2d(256, 256, kernel_size=(3, 3), stride=(1, 1), padding=(1, 1), bias=False)\n",
              "       (bn2): BatchNorm2d(256, eps=1e-05, momentum=0.1, affine=True, track_running_stats=True)\n",
              "       (conv3): Conv2d(256, 1024, kernel_size=(1, 1), stride=(1, 1), bias=False)\n",
              "       (bn3): BatchNorm2d(1024, eps=1e-05, momentum=0.1, affine=True, track_running_stats=True)\n",
              "       (relu): ReLU(inplace=True)\n",
              "     )\n",
              "     (2): Bottleneck(\n",
              "       (conv1): Conv2d(1024, 256, kernel_size=(1, 1), stride=(1, 1), bias=False)\n",
              "       (bn1): BatchNorm2d(256, eps=1e-05, momentum=0.1, affine=True, track_running_stats=True)\n",
              "       (conv2): Conv2d(256, 256, kernel_size=(3, 3), stride=(1, 1), padding=(1, 1), bias=False)\n",
              "       (bn2): BatchNorm2d(256, eps=1e-05, momentum=0.1, affine=True, track_running_stats=True)\n",
              "       (conv3): Conv2d(256, 1024, kernel_size=(1, 1), stride=(1, 1), bias=False)\n",
              "       (bn3): BatchNorm2d(1024, eps=1e-05, momentum=0.1, affine=True, track_running_stats=True)\n",
              "       (relu): ReLU(inplace=True)\n",
              "     )\n",
              "     (3): Bottleneck(\n",
              "       (conv1): Conv2d(1024, 256, kernel_size=(1, 1), stride=(1, 1), bias=False)\n",
              "       (bn1): BatchNorm2d(256, eps=1e-05, momentum=0.1, affine=True, track_running_stats=True)\n",
              "       (conv2): Conv2d(256, 256, kernel_size=(3, 3), stride=(1, 1), padding=(1, 1), bias=False)\n",
              "       (bn2): BatchNorm2d(256, eps=1e-05, momentum=0.1, affine=True, track_running_stats=True)\n",
              "       (conv3): Conv2d(256, 1024, kernel_size=(1, 1), stride=(1, 1), bias=False)\n",
              "       (bn3): BatchNorm2d(1024, eps=1e-05, momentum=0.1, affine=True, track_running_stats=True)\n",
              "       (relu): ReLU(inplace=True)\n",
              "     )\n",
              "     (4): Bottleneck(\n",
              "       (conv1): Conv2d(1024, 256, kernel_size=(1, 1), stride=(1, 1), bias=False)\n",
              "       (bn1): BatchNorm2d(256, eps=1e-05, momentum=0.1, affine=True, track_running_stats=True)\n",
              "       (conv2): Conv2d(256, 256, kernel_size=(3, 3), stride=(1, 1), padding=(1, 1), bias=False)\n",
              "       (bn2): BatchNorm2d(256, eps=1e-05, momentum=0.1, affine=True, track_running_stats=True)\n",
              "       (conv3): Conv2d(256, 1024, kernel_size=(1, 1), stride=(1, 1), bias=False)\n",
              "       (bn3): BatchNorm2d(1024, eps=1e-05, momentum=0.1, affine=True, track_running_stats=True)\n",
              "       (relu): ReLU(inplace=True)\n",
              "     )\n",
              "     (5): Bottleneck(\n",
              "       (conv1): Conv2d(1024, 256, kernel_size=(1, 1), stride=(1, 1), bias=False)\n",
              "       (bn1): BatchNorm2d(256, eps=1e-05, momentum=0.1, affine=True, track_running_stats=True)\n",
              "       (conv2): Conv2d(256, 256, kernel_size=(3, 3), stride=(1, 1), padding=(1, 1), bias=False)\n",
              "       (bn2): BatchNorm2d(256, eps=1e-05, momentum=0.1, affine=True, track_running_stats=True)\n",
              "       (conv3): Conv2d(256, 1024, kernel_size=(1, 1), stride=(1, 1), bias=False)\n",
              "       (bn3): BatchNorm2d(1024, eps=1e-05, momentum=0.1, affine=True, track_running_stats=True)\n",
              "       (relu): ReLU(inplace=True)\n",
              "     )\n",
              "   )\n",
              "   (layer4): Sequential(\n",
              "     (0): Bottleneck(\n",
              "       (conv1): Conv2d(1024, 512, kernel_size=(1, 1), stride=(1, 1), bias=False)\n",
              "       (bn1): BatchNorm2d(512, eps=1e-05, momentum=0.1, affine=True, track_running_stats=True)\n",
              "       (conv2): Conv2d(512, 512, kernel_size=(3, 3), stride=(2, 2), padding=(1, 1), bias=False)\n",
              "       (bn2): BatchNorm2d(512, eps=1e-05, momentum=0.1, affine=True, track_running_stats=True)\n",
              "       (conv3): Conv2d(512, 2048, kernel_size=(1, 1), stride=(1, 1), bias=False)\n",
              "       (bn3): BatchNorm2d(2048, eps=1e-05, momentum=0.1, affine=True, track_running_stats=True)\n",
              "       (relu): ReLU(inplace=True)\n",
              "       (downsample): Sequential(\n",
              "         (0): Conv2d(1024, 2048, kernel_size=(1, 1), stride=(2, 2), bias=False)\n",
              "         (1): BatchNorm2d(2048, eps=1e-05, momentum=0.1, affine=True, track_running_stats=True)\n",
              "       )\n",
              "     )\n",
              "     (1): Bottleneck(\n",
              "       (conv1): Conv2d(2048, 512, kernel_size=(1, 1), stride=(1, 1), bias=False)\n",
              "       (bn1): BatchNorm2d(512, eps=1e-05, momentum=0.1, affine=True, track_running_stats=True)\n",
              "       (conv2): Conv2d(512, 512, kernel_size=(3, 3), stride=(1, 1), padding=(1, 1), bias=False)\n",
              "       (bn2): BatchNorm2d(512, eps=1e-05, momentum=0.1, affine=True, track_running_stats=True)\n",
              "       (conv3): Conv2d(512, 2048, kernel_size=(1, 1), stride=(1, 1), bias=False)\n",
              "       (bn3): BatchNorm2d(2048, eps=1e-05, momentum=0.1, affine=True, track_running_stats=True)\n",
              "       (relu): ReLU(inplace=True)\n",
              "     )\n",
              "     (2): Bottleneck(\n",
              "       (conv1): Conv2d(2048, 512, kernel_size=(1, 1), stride=(1, 1), bias=False)\n",
              "       (bn1): BatchNorm2d(512, eps=1e-05, momentum=0.1, affine=True, track_running_stats=True)\n",
              "       (conv2): Conv2d(512, 512, kernel_size=(3, 3), stride=(1, 1), padding=(1, 1), bias=False)\n",
              "       (bn2): BatchNorm2d(512, eps=1e-05, momentum=0.1, affine=True, track_running_stats=True)\n",
              "       (conv3): Conv2d(512, 2048, kernel_size=(1, 1), stride=(1, 1), bias=False)\n",
              "       (bn3): BatchNorm2d(2048, eps=1e-05, momentum=0.1, affine=True, track_running_stats=True)\n",
              "       (relu): ReLU(inplace=True)\n",
              "     )\n",
              "   )\n",
              "   (avgpool): AdaptiveAvgPool2d(output_size=(1, 1))\n",
              "   (fc): Linear(in_features=2048, out_features=10, bias=True)\n",
              " ))"
            ]
          },
          "execution_count": 5,
          "metadata": {},
          "output_type": "execute_result"
        }
      ],
      "source": [
        "best_cfg, best_model \n"
      ]
    },
    {
      "cell_type": "code",
      "execution_count": 6,
      "metadata": {},
      "outputs": [
        {
          "data": {
            "text/plain": [
              "<Artifact best_model>"
            ]
          },
          "execution_count": 6,
          "metadata": {},
          "output_type": "execute_result"
        }
      ],
      "source": [
        "torch.save(best_model.state_dict(), \"best_model.pt\")\n",
        "artifact = wandb.Artifact(\"best_model\", type=\"model\")\n",
        "artifact.add_file(\"best_model.pt\")\n",
        "wandb.log_artifact(artifact)\n"
      ]
    }
  ],
  "metadata": {
    "colab": {
      "gpuType": "T4",
      "provenance": []
    },
    "kaggle": {
      "accelerator": "gpu",
      "dataSources": [],
      "dockerImageVersionId": 31012,
      "isGpuEnabled": true,
      "isInternetEnabled": true,
      "language": "python",
      "sourceType": "notebook"
    },
    "kernelspec": {
      "display_name": "myenv",
      "language": "python",
      "name": "python3"
    },
    "language_info": {
      "codemirror_mode": {
        "name": "ipython",
        "version": 3
      },
      "file_extension": ".py",
      "mimetype": "text/x-python",
      "name": "python",
      "nbconvert_exporter": "python",
      "pygments_lexer": "ipython3",
      "version": "3.10.16"
    }
  },
  "nbformat": 4,
  "nbformat_minor": 0
}
