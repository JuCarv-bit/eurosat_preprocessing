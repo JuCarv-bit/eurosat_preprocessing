{
  "cells": [
    {
      "cell_type": "code",
      "execution_count": 1,
      "metadata": {},
      "outputs": [
        {
          "name": "stderr",
          "output_type": "stream",
          "text": [
            "\u001b[34m\u001b[1mwandb\u001b[0m: Currently logged in as: \u001b[33manaliju\u001b[0m (\u001b[33manaliju-paris\u001b[0m) to \u001b[32mhttps://api.wandb.ai\u001b[0m. Use \u001b[1m`wandb login --relogin`\u001b[0m to force relogin\n"
          ]
        }
      ],
      "source": [
        "import wandb\n",
        "wandb.login()  # Opens a browser once to authenticate\n",
        "import torch\n",
        "import torch.nn as nn\n",
        "import torch.optim as optim\n",
        "from torch.utils.data import DataLoader, random_split, Subset, ConcatDataset\n",
        "from torchvision import datasets, transforms\n",
        "from torchvision.models import resnet50\n",
        "from itertools import product\n",
        "import numpy as np\n",
        "import random\n",
        "import copy\n",
        "import os, ssl, zipfile, urllib\n",
        "import sklearn\n",
        "from sklearn.model_selection import StratifiedShuffleSplit\n",
        "import matplotlib.pyplot as plt\n",
        "from torch.optim.lr_scheduler import LinearLR, CosineAnnealingLR, SequentialLR\n",
        "from sklearn.metrics import confusion_matrix\n",
        "import seaborn as sns\n",
        "\n"
      ]
    },
    {
      "cell_type": "code",
      "execution_count": 2,
      "metadata": {},
      "outputs": [],
      "source": [
        "\n",
        "LOCAL_OR_COLAB = \"LOCAL\"\n",
        "SEED           = 42\n",
        "NUM_EPOCHS     = 10\n",
        "DEVICE         = torch.device(\"cuda\" if torch.cuda.is_available() else \"cpu\")\n",
        "\n",
        "TRAIN_FRAC = 0.8\n",
        "VAL_FRAC   = 0.1\n",
        "TEST_FRAC  = 0.1\n",
        "\n",
        "# hyperparameter grid\n",
        "# BATCH_SIZES = [64, 128, 256]\n",
        "BATCH_SIZES = [32, 64]  # Using a single batch size for simplicity\n",
        "LRS = [1e-4, 3e-4]\n",
        "\n",
        "GRID        = [\n",
        "    (3.75e-4, 0.5  ),\n",
        "]\n",
        "\n",
        "BETAS=(0.9,0.98)\n",
        "EPS=1e-8, \n",
        "\n",
        "if LOCAL_OR_COLAB == \"LOCAL\":\n",
        "    DATA_DIR = \"/users/c/carvalhj/datasets/EuroSAT_RGB/\"\n",
        "else:\n",
        "    data_root = \"/content/EuroSAT_RGB\"\n",
        "    zip_path  = \"/content/EuroSAT.zip\"\n",
        "    if not os.path.exists(data_root):\n",
        "        ssl._create_default_https_context = ssl._create_unverified_context\n",
        "        urllib.request.urlretrieve(\n",
        "            \"https://madm.dfki.de/files/sentinel/EuroSAT.zip\", zip_path\n",
        "        )\n",
        "        with zipfile.ZipFile(zip_path, \"r\") as z:\n",
        "            z.extractall(\"/content\")\n",
        "        os.rename(\"/content/2750\", data_root)\n",
        "    DATA_DIR = data_root\n",
        "\n",
        "NUM_WORKERS = 4 "
      ]
    },
    {
      "cell_type": "code",
      "execution_count": 3,
      "metadata": {},
      "outputs": [],
      "source": [
        "\n",
        "def compute_mean_std(dataset, batch_size):\n",
        "    loader = DataLoader(dataset, batch_size, shuffle=False, num_workers=2)\n",
        "    mean = 0.0\n",
        "    std = 0.0\n",
        "    n_samples = 0\n",
        "\n",
        "    for data, _ in loader:\n",
        "        batch_samples = data.size(0)\n",
        "        data = data.view(batch_samples, data.size(1), -1)  # (B, C, H*W)\n",
        "        mean += data.mean(2).sum(0)\n",
        "        std += data.std(2).sum(0)\n",
        "        n_samples += batch_samples\n",
        "\n",
        "    mean /= n_samples\n",
        "    std /= n_samples\n",
        "    return mean.tolist(), std.tolist()\n",
        "\n",
        "def get_data_loaders(data_dir, batch_size):\n",
        "\n",
        "    base_tf = transforms.ToTensor()\n",
        "    ds_all = datasets.ImageFolder(root=data_dir, transform=base_tf)\n",
        "    labels = np.array(ds_all.targets)   # numpy array of shape (N,)\n",
        "    num_classes = len(ds_all.classes)\n",
        "    total_count = len(ds_all)\n",
        "    print(f\"Total samples in folder: {total_count}, classes: {ds_all.classes}\")\n",
        "\n",
        "    train_idx, val_idx, test_idx = get_split_indexes(labels, total_count)\n",
        "\n",
        "    train_subset_for_stats = Subset(ds_all, train_idx)\n",
        "    mean, std = compute_mean_std(train_subset_for_stats, batch_size)\n",
        "    print(f\"Computed mean: {mean}\")\n",
        "    print(f\"Computed std:  {std}\")\n",
        "\n",
        "    tf_final = transforms.Compose([\n",
        "        transforms.ToTensor(),\n",
        "        transforms.Normalize(mean=mean, std=std)\n",
        "    ])\n",
        "\n",
        "    #  full ImageFolder but now with normalization baked in\n",
        "    ds_all_norm = datasets.ImageFolder(root=data_dir, transform=tf_final)\n",
        "\n",
        "    train_ds = Subset(ds_all_norm, train_idx)\n",
        "    val_ds   = Subset(ds_all_norm, val_idx)\n",
        "    test_ds  = Subset(ds_all_norm, test_idx)\n",
        "\n",
        "    train_loader = DataLoader(train_ds, batch_size=batch_size, shuffle=True,  num_workers=NUM_WORKERS, generator=torch.Generator().manual_seed(SEED))\n",
        "    val_loader   = DataLoader(val_ds,   batch_size=batch_size, shuffle=False, num_workers=NUM_WORKERS, generator=torch.Generator().manual_seed(SEED))\n",
        "    test_loader  = DataLoader(test_ds,  batch_size=batch_size, shuffle=False, num_workers=NUM_WORKERS, generator=torch.Generator().manual_seed(SEED))\n",
        "\n",
        "    # calculate class proportions\n",
        "    prop_train = get_proportion(num_classes, train_ds)\n",
        "    prop_val   = get_proportion(num_classes, val_ds)\n",
        "    prop_test  = get_proportion(num_classes, test_ds)\n",
        "    # plot_proportions(ds_all, num_classes, prop_train, prop_val, prop_test)\n",
        "    print(f\"Train/Val/Test splits: {len(train_ds)}/{len(val_ds)}/{len(test_ds)}\")\n",
        "\n",
        "    return train_loader, val_loader, test_loader, num_classes\n",
        "\n",
        "def get_proportion(num_classes, dataset):\n",
        "    return np.bincount(np.array(dataset.dataset.targets)[dataset.indices], minlength=num_classes) / len(dataset)\n",
        "\n",
        "def get_split_indexes(labels, total_count):\n",
        "    n_train = int(np.floor(TRAIN_FRAC * total_count))\n",
        "    n_temp = total_count - n_train   # this is val + test\n",
        "\n",
        "    sss1 = StratifiedShuffleSplit(\n",
        "        n_splits=1,\n",
        "        train_size=n_train,\n",
        "        test_size=n_temp,\n",
        "        random_state=SEED\n",
        "    )\n",
        "    # Train and temp(val+test) indices\n",
        "    train_idx, temp_idx = next(sss1.split(np.zeros(total_count), labels))\n",
        "\n",
        "    n_val = int(np.floor(VAL_FRAC * total_count))\n",
        "    n_test = total_count - n_train - n_val\n",
        "    assert n_temp == n_val + n_test, \"Fractions must sum to 1.\"\n",
        "\n",
        "    labels_temp = labels[temp_idx]\n",
        "\n",
        "    sss2 = StratifiedShuffleSplit(\n",
        "        n_splits=1,\n",
        "        train_size=n_val,\n",
        "        test_size=n_test,\n",
        "        random_state=SEED\n",
        "    )\n",
        "    val_idx_in_temp, test_idx_in_temp = next(sss2.split(np.zeros(len(temp_idx)), labels_temp))\n",
        "\n",
        "    val_idx = temp_idx[val_idx_in_temp]\n",
        "    test_idx = temp_idx[test_idx_in_temp]\n",
        "\n",
        "    assert len(train_idx) == n_train\n",
        "    assert len(val_idx) == n_val\n",
        "    assert len(test_idx) == n_test\n",
        "\n",
        "    print(f\"Stratified split sizes: train={len(train_idx)}, val={len(val_idx)}, test={len(test_idx)}\")\n",
        "    return train_idx,val_idx,test_idx\n",
        "\n",
        "def plot_proportions(ds_all, num_classes, prop_train, prop_val, prop_test, acc_per_class=None):\n",
        "    print(f\"Class proportions (%):\")\n",
        "    print(f\"  Train: {100 * prop_train}\")\n",
        "    print(f\"   Val:  {100 * prop_val}\")\n",
        "    print(f\"  Test:  {100 * prop_test}\")\n",
        "    x = np.arange(num_classes)\n",
        "    width = 0.25\n",
        "    plt.figure(figsize=(10, 5))\n",
        "    plt.bar(x - width, 100 * prop_train, width, label='Train')\n",
        "    plt.bar(x,         100 * prop_val,   width, label='Val')\n",
        "    plt.bar(x + width, 100 * prop_test,  width, label='Test')\n",
        "    plt.xlabel('Class Index')\n",
        "    plt.ylabel('Proportion (%)')\n",
        "    plt.title('Stratified Class Proportions in Train/Val/Test')\n",
        "    plt.xticks(x, ds_all.classes, rotation=45)\n",
        "    plt.legend()\n",
        "    plt.tight_layout()\n",
        "    plt.show()"
      ]
    },
    {
      "cell_type": "code",
      "execution_count": 4,
      "metadata": {},
      "outputs": [],
      "source": [
        "def set_seed(seed):\n",
        "    torch.manual_seed(seed)\n",
        "    torch.cuda.manual_seed_all(seed)\n",
        "    np.random.seed(seed)\n",
        "    random.seed(seed)\n",
        "    torch.backends.cudnn.deterministic = True\n",
        "    torch.backends.cudnn.benchmark     = False\n",
        "\n",
        "def build_model(n_cls, pretrained=False):\n",
        "    m = resnet50(weights=None if not pretrained else \"DEFAULT\")\n",
        "    m.fc = nn.Linear(m.fc.in_features, n_cls)\n",
        "    return m.to(DEVICE)\n",
        "\n",
        "def train_one_epoch(model, loader, opt, crit, sched=None):\n",
        "    model.train()\n",
        "    tot_loss, corr, tot = 0.0, 0, 0\n",
        "    for xb, yb in loader:\n",
        "        xb, yb = xb.to(DEVICE), yb.to(DEVICE)\n",
        "        opt.zero_grad()\n",
        "        logits = model(xb)\n",
        "\n",
        "        loss   = crit(logits, yb)\n",
        "        loss.backward()\n",
        "        opt.step()\n",
        "        if sched: sched.step()\n",
        "        tot_loss += loss.item()\n",
        "        preds    = logits.argmax(dim=1)\n",
        "        corr    += (preds==yb).sum().item()\n",
        "        tot     += yb.size(0)\n",
        "        avg_loss = tot_loss / len(loader)\n",
        "\n",
        "    avg_loss = tot_loss / len(loader)\n",
        "    acc = 100.0 * corr / tot\n",
        "    return avg_loss, acc\n",
        "\n",
        "def evaluate(model, loader, num_classes):\n",
        "    model.eval()\n",
        "\n",
        "    total_correct = 0\n",
        "    total_samples = 0\n",
        "\n",
        "    correct_per_class = torch.zeros(num_classes, dtype=torch.int64)\n",
        "    total_per_class   = torch.zeros(num_classes, dtype=torch.int64)\n",
        "\n",
        "    all_labels = []\n",
        "    all_preds  = []\n",
        "\n",
        "    with torch.no_grad():\n",
        "        for xb, yb in loader:\n",
        "            xb, yb = xb.to(DEVICE), yb.to(DEVICE)\n",
        "            logits = model(xb)\n",
        "            preds  = logits.argmax(dim=1)\n",
        "            all_preds.extend(preds.cpu().numpy())\n",
        "            all_labels.extend(yb.cpu().numpy())\n",
        "\n",
        "            total_correct += (preds == yb).sum().item()\n",
        "            total_samples += yb.size(0)\n",
        "\n",
        "            for c in range(num_classes):\n",
        "                # mask of samples in this batch whose true label == c\n",
        "                class_mask = (yb == c)\n",
        "                if class_mask.sum().item() == 0:\n",
        "                    continue\n",
        "\n",
        "                total_per_class[c] += class_mask.sum().item()\n",
        "\n",
        "                correct_per_class[c] += ((preds == yb) & class_mask).sum().item()\n",
        "\n",
        "    overall_acc = 100.0 * total_correct / total_samples\n",
        "\n",
        "    acc_per_class = {}\n",
        "    for c in range(num_classes):\n",
        "        if total_per_class[c].item() > 0:\n",
        "            acc = 100.0 * correct_per_class[c].item() / total_per_class[c].item()\n",
        "        else:\n",
        "            acc = 0.0\n",
        "        acc_per_class[c] = acc\n",
        "\n",
        "    return overall_acc, acc_per_class, all_labels, all_preds\n",
        "\n",
        "def plot_confusion_matrix_from_preds(y_true, y_pred, class_names):\n",
        "    cm = confusion_matrix(y_true, y_pred)\n",
        "    plt.figure(figsize=(8,8))\n",
        "    plt.imshow(cm, interpolation='nearest', cmap=plt.cm.Blues)\n",
        "    plt.colorbar()\n",
        "    ticks = np.arange(len(class_names))\n",
        "    plt.xticks(ticks, class_names, rotation=90)\n",
        "    plt.yticks(ticks, class_names)\n",
        "    plt.xlabel('Predicted')\n",
        "    plt.ylabel('True')\n",
        "    plt.tight_layout()\n",
        "    plt.show()\n",
        "\n",
        "def plot_class_acc_prop():\n",
        "    classes = te_dl.dataset.dataset.classes\n",
        "    x = np.arange(len(classes))\n",
        "\n",
        "    acc   = acc_vals\n",
        "    prop  = class_proportions_test * 100\n",
        "\n",
        "    fig, ax1 = plt.subplots(figsize=(12,6))\n",
        "    bars = ax1.bar(x, acc, color='C0', alpha=0.7)\n",
        "    ax1.set_ylabel('Accuracy (%)', color='C0')\n",
        "    ax1.set_ylim(0, 100)\n",
        "    ax1.tick_params(axis='y', labelcolor='C0')\n",
        "\n",
        "    for bar in bars:\n",
        "        h = bar.get_height()\n",
        "        ax1.text(bar.get_x() + bar.get_width()/2, h + 1, f'{h:.1f}%', ha='center', va='bottom', color='C0')\n",
        "\n",
        "    ax2 = ax1.twinx()\n",
        "    line = ax2.plot(x, prop, color='C1', marker='o', linewidth=2)\n",
        "    ax2.set_ylabel('Test Proportion (%)', color='C1')\n",
        "    ax2.set_ylim(0, max(prop)*1.2)\n",
        "    ax2.tick_params(axis='y', labelcolor='C1')\n",
        "\n",
        "    for xi, yi in zip(x, prop):\n",
        "        ax2.text(xi, yi + max(prop)*0.02, f'{yi:.1f}%', ha='center', va='bottom', color='C1')\n",
        "\n",
        "    ax1.set_xticks(x)\n",
        "    ax1.set_xticklabels(classes, rotation=45, ha='right')\n",
        "    plt.title('Per-class Accuracy vs. Test Proportion')\n",
        "    plt.tight_layout()\n",
        "    plt.show()\n",
        "\n",
        "\n",
        "def hyperparam_search(pretrained=True):\n",
        "    best_val = -1.0\n",
        "    best_cfg = None\n",
        "    best_model = None\n",
        "\n",
        "    for bs, (lr, wd) in product(BATCH_SIZES, GRID):\n",
        "\n",
        "        print(f\"\\n>>> Testing BS={bs}, LR={lr:.1e}\")\n",
        "        \n",
        "        tr_dl, val_dl, te_dl, n_cls = get_data_loaders(DATA_DIR, bs)\n",
        "        model = build_model(n_cls, pretrained=pretrained)\n",
        "        \n",
        "        total_steps  = NUM_EPOCHS * len(tr_dl)\n",
        "        warmup_steps = len(tr_dl)\n",
        "        opt = optim.AdamW(model.parameters(), lr=lr, betas=(0.9,0.98), eps=1e-8, weight_decay=wd)\n",
        "        sched = SequentialLR(\n",
        "            opt,\n",
        "            schedulers=[\n",
        "                LinearLR(opt,  start_factor=1e-6, end_factor=1.0, total_iters=warmup_steps),\n",
        "                CosineAnnealingLR(opt, T_max=total_steps-warmup_steps)\n",
        "            ],\n",
        "            milestones=[warmup_steps]\n",
        "        )\n",
        "        crit  = nn.CrossEntropyLoss()\n",
        "\n",
        "        # Start a W&B run\n",
        "        wandb_run = wandb.init(\n",
        "            project=\"eurosat-supervised-scratch-grid-search\",\n",
        "            name=f\"BS{bs}_LR{lr:.0e}_TR{TRAIN_FRAC}\",\n",
        "            config={\n",
        "                \"batch_size\": bs,\n",
        "                \"learning_rate\": lr,\n",
        "                \"epochs\": NUM_EPOCHS,\n",
        "                \"pretrained\": pretrained,\n",
        "            }\n",
        "        )\n",
        "\n",
        "        for ep in range(NUM_EPOCHS):\n",
        "            tr_loss, tr_acc = train_one_epoch(model, tr_dl, opt, crit, sched)\n",
        "            # Compute validation loss & accuracy in one pass\n",
        "            model.eval()\n",
        "            val_loss, corr, tot = 0.0, 0, 0\n",
        "            with torch.no_grad():\n",
        "                for xb, yb in val_dl:\n",
        "                    xb, yb = xb.to(DEVICE), yb.to(DEVICE)\n",
        "                    logits = model(xb)\n",
        "                    loss = crit(logits, yb)\n",
        "                    val_loss += loss.item()\n",
        "                    preds = logits.argmax(dim=1)\n",
        "                    corr += (preds == yb).sum().item()\n",
        "                    tot  += yb.size(0)\n",
        "            val_loss /= len(val_dl)\n",
        "            val_acc = 100.0 * corr / tot\n",
        "\n",
        "            print(f\"  Ep{ep+1}/{NUM_EPOCHS}: train_acc={tr_acc:.1f}%  train_loss={tr_loss:.4f}, \"\n",
        "                  f\"val_acc={val_acc:.1f}%, val_loss={val_loss:.4f}\")\n",
        "\n",
        "            wandb.log({\n",
        "                \"epoch\":       ep + 1,\n",
        "                \"train_loss\":  tr_loss,\n",
        "                \"train_acc\":   tr_acc,\n",
        "                \"val_loss\":    val_loss,\n",
        "                \"val_acc\":     val_acc\n",
        "            })\n",
        "\n",
        "        wandb_run.finish()\n",
        "\n",
        "        # Only use val_acc to pick best\n",
        "        if val_acc > best_val:\n",
        "            best_val   = val_acc\n",
        "            best_cfg   = (bs, lr, wd)\n",
        "            best_model = copy.deepcopy(model)\n",
        "\n",
        "    print(f\"\\n>>> Best config: BS={best_cfg[0]}, LR={best_cfg[1]:.1e}, val_acc={best_val:.1f}%\")\n",
        "    \n",
        "    return best_cfg, best_model\n",
        "\n",
        "\n"
      ]
    },
    {
      "cell_type": "markdown",
      "metadata": {},
      "source": [
        "# Perform Hyperparameter Search"
      ]
    },
    {
      "cell_type": "code",
      "execution_count": 5,
      "metadata": {},
      "outputs": [
        {
          "name": "stdout",
          "output_type": "stream",
          "text": [
            "\n",
            ">>> Testing BS=32, LR=3.8e-04\n",
            "Total samples in folder: 27000, classes: ['AnnualCrop', 'Forest', 'HerbaceousVegetation', 'Highway', 'Industrial', 'Pasture', 'PermanentCrop', 'Residential', 'River', 'SeaLake']\n",
            "Stratified split sizes: train=21600, val=2700, test=2700\n",
            "Computed mean: [0.3441457152366638, 0.38009852170944214, 0.40766340494155884]\n",
            "Computed std:  [0.09299741685390472, 0.06464488059282303, 0.054139144718647]\n",
            "Train/Val/Test splits: 21600/2700/2700\n"
          ]
        },
        {
          "data": {
            "text/html": [
              "Tracking run with wandb version 0.19.11"
            ],
            "text/plain": [
              "<IPython.core.display.HTML object>"
            ]
          },
          "metadata": {},
          "output_type": "display_data"
        },
        {
          "data": {
            "text/html": [
              "Run data is saved locally in <code>/users/c/carvalhj/projects/eurosat_preprocessing/exploratory_notebooks/wandb/run-20250607_144905-6zj3elsv</code>"
            ],
            "text/plain": [
              "<IPython.core.display.HTML object>"
            ]
          },
          "metadata": {},
          "output_type": "display_data"
        },
        {
          "data": {
            "text/html": [
              "Syncing run <strong><a href='https://wandb.ai/analiju-paris/eurosat-supervised-scratch-grid-search/runs/6zj3elsv' target=\"_blank\">BS32_LR4e-04_TR0.8</a></strong> to <a href='https://wandb.ai/analiju-paris/eurosat-supervised-scratch-grid-search' target=\"_blank\">Weights & Biases</a> (<a href='https://wandb.me/developer-guide' target=\"_blank\">docs</a>)<br>"
            ],
            "text/plain": [
              "<IPython.core.display.HTML object>"
            ]
          },
          "metadata": {},
          "output_type": "display_data"
        },
        {
          "data": {
            "text/html": [
              " View project at <a href='https://wandb.ai/analiju-paris/eurosat-supervised-scratch-grid-search' target=\"_blank\">https://wandb.ai/analiju-paris/eurosat-supervised-scratch-grid-search</a>"
            ],
            "text/plain": [
              "<IPython.core.display.HTML object>"
            ]
          },
          "metadata": {},
          "output_type": "display_data"
        },
        {
          "data": {
            "text/html": [
              " View run at <a href='https://wandb.ai/analiju-paris/eurosat-supervised-scratch-grid-search/runs/6zj3elsv' target=\"_blank\">https://wandb.ai/analiju-paris/eurosat-supervised-scratch-grid-search/runs/6zj3elsv</a>"
            ],
            "text/plain": [
              "<IPython.core.display.HTML object>"
            ]
          },
          "metadata": {},
          "output_type": "display_data"
        },
        {
          "name": "stderr",
          "output_type": "stream",
          "text": [
            "/users/c/carvalhj/miniconda3/envs/myenv/lib/python3.10/site-packages/torch/optim/lr_scheduler.py:240: UserWarning: The epoch parameter in `scheduler.step()` was not necessary and is being deprecated where possible. Please use `scheduler.step()` to step the scheduler. During the deprecation, if epoch is different from None, the closed form is used instead of the new chainable form, where available. Please open an issue if you are unable to replicate your use case: https://github.com/pytorch/pytorch/issues/new/choose.\n",
            "  warnings.warn(EPOCH_DEPRECATION_WARNING, UserWarning)\n"
          ]
        },
        {
          "name": "stdout",
          "output_type": "stream",
          "text": [
            "  Ep1/10: train_acc=50.2%  train_loss=1.4247, val_acc=64.5%, val_loss=1.0477\n",
            "  Ep2/10: train_acc=68.9%  train_loss=0.9237, val_acc=67.5%, val_loss=0.9811\n",
            "  Ep3/10: train_acc=77.2%  train_loss=0.6590, val_acc=81.1%, val_loss=0.5517\n",
            "  Ep4/10: train_acc=82.7%  train_loss=0.5142, val_acc=82.0%, val_loss=0.5331\n",
            "  Ep5/10: train_acc=87.1%  train_loss=0.3811, val_acc=88.6%, val_loss=0.3253\n",
            "  Ep6/10: train_acc=90.9%  train_loss=0.2720, val_acc=93.0%, val_loss=0.2198\n",
            "  Ep7/10: train_acc=94.0%  train_loss=0.1772, val_acc=92.5%, val_loss=0.2330\n",
            "  Ep8/10: train_acc=96.4%  train_loss=0.1094, val_acc=94.1%, val_loss=0.1839\n",
            "  Ep9/10: train_acc=98.1%  train_loss=0.0611, val_acc=95.0%, val_loss=0.1594\n",
            "  Ep10/10: train_acc=98.9%  train_loss=0.0401, val_acc=94.9%, val_loss=0.1675\n"
          ]
        },
        {
          "data": {
            "text/html": [],
            "text/plain": [
              "<IPython.core.display.HTML object>"
            ]
          },
          "metadata": {},
          "output_type": "display_data"
        },
        {
          "data": {
            "text/html": [
              "<br>    <style><br>        .wandb-row {<br>            display: flex;<br>            flex-direction: row;<br>            flex-wrap: wrap;<br>            justify-content: flex-start;<br>            width: 100%;<br>        }<br>        .wandb-col {<br>            display: flex;<br>            flex-direction: column;<br>            flex-basis: 100%;<br>            flex: 1;<br>            padding: 10px;<br>        }<br>    </style><br><div class=\"wandb-row\"><div class=\"wandb-col\"><h3>Run history:</h3><br/><table class=\"wandb\"><tr><td>epoch</td><td>▁▂▃▃▄▅▆▆▇█</td></tr><tr><td>train_acc</td><td>▁▄▅▆▆▇▇███</td></tr><tr><td>train_loss</td><td>█▅▄▃▃▂▂▁▁▁</td></tr><tr><td>val_acc</td><td>▁▂▅▅▇█▇███</td></tr><tr><td>val_loss</td><td>█▇▄▄▂▁▂▁▁▁</td></tr></table><br/></div><div class=\"wandb-col\"><h3>Run summary:</h3><br/><table class=\"wandb\"><tr><td>epoch</td><td>10</td></tr><tr><td>train_acc</td><td>98.88889</td></tr><tr><td>train_loss</td><td>0.04008</td></tr><tr><td>val_acc</td><td>94.85185</td></tr><tr><td>val_loss</td><td>0.16746</td></tr></table><br/></div></div>"
            ],
            "text/plain": [
              "<IPython.core.display.HTML object>"
            ]
          },
          "metadata": {},
          "output_type": "display_data"
        },
        {
          "data": {
            "text/html": [
              " View run <strong style=\"color:#cdcd00\">BS32_LR4e-04_TR0.8</strong> at: <a href='https://wandb.ai/analiju-paris/eurosat-supervised-scratch-grid-search/runs/6zj3elsv' target=\"_blank\">https://wandb.ai/analiju-paris/eurosat-supervised-scratch-grid-search/runs/6zj3elsv</a><br> View project at: <a href='https://wandb.ai/analiju-paris/eurosat-supervised-scratch-grid-search' target=\"_blank\">https://wandb.ai/analiju-paris/eurosat-supervised-scratch-grid-search</a><br>Synced 5 W&B file(s), 0 media file(s), 0 artifact file(s) and 0 other file(s)"
            ],
            "text/plain": [
              "<IPython.core.display.HTML object>"
            ]
          },
          "metadata": {},
          "output_type": "display_data"
        },
        {
          "data": {
            "text/html": [
              "Find logs at: <code>./wandb/run-20250607_144905-6zj3elsv/logs</code>"
            ],
            "text/plain": [
              "<IPython.core.display.HTML object>"
            ]
          },
          "metadata": {},
          "output_type": "display_data"
        },
        {
          "name": "stdout",
          "output_type": "stream",
          "text": [
            "\n",
            ">>> Testing BS=64, LR=3.8e-04\n",
            "Total samples in folder: 27000, classes: ['AnnualCrop', 'Forest', 'HerbaceousVegetation', 'Highway', 'Industrial', 'Pasture', 'PermanentCrop', 'Residential', 'River', 'SeaLake']\n",
            "Stratified split sizes: train=21600, val=2700, test=2700\n",
            "Computed mean: [0.34414586424827576, 0.38009870052337646, 0.40766361355781555]\n",
            "Computed std:  [0.09299742430448532, 0.06464488804340363, 0.0541391596198082]\n",
            "Train/Val/Test splits: 21600/2700/2700\n"
          ]
        },
        {
          "data": {
            "text/html": [
              "Tracking run with wandb version 0.19.11"
            ],
            "text/plain": [
              "<IPython.core.display.HTML object>"
            ]
          },
          "metadata": {},
          "output_type": "display_data"
        },
        {
          "data": {
            "text/html": [
              "Run data is saved locally in <code>/users/c/carvalhj/projects/eurosat_preprocessing/exploratory_notebooks/wandb/run-20250607_145425-yift39i3</code>"
            ],
            "text/plain": [
              "<IPython.core.display.HTML object>"
            ]
          },
          "metadata": {},
          "output_type": "display_data"
        },
        {
          "data": {
            "text/html": [
              "Syncing run <strong><a href='https://wandb.ai/analiju-paris/eurosat-supervised-scratch-grid-search/runs/yift39i3' target=\"_blank\">BS64_LR4e-04_TR0.8</a></strong> to <a href='https://wandb.ai/analiju-paris/eurosat-supervised-scratch-grid-search' target=\"_blank\">Weights & Biases</a> (<a href='https://wandb.me/developer-guide' target=\"_blank\">docs</a>)<br>"
            ],
            "text/plain": [
              "<IPython.core.display.HTML object>"
            ]
          },
          "metadata": {},
          "output_type": "display_data"
        },
        {
          "data": {
            "text/html": [
              " View project at <a href='https://wandb.ai/analiju-paris/eurosat-supervised-scratch-grid-search' target=\"_blank\">https://wandb.ai/analiju-paris/eurosat-supervised-scratch-grid-search</a>"
            ],
            "text/plain": [
              "<IPython.core.display.HTML object>"
            ]
          },
          "metadata": {},
          "output_type": "display_data"
        },
        {
          "data": {
            "text/html": [
              " View run at <a href='https://wandb.ai/analiju-paris/eurosat-supervised-scratch-grid-search/runs/yift39i3' target=\"_blank\">https://wandb.ai/analiju-paris/eurosat-supervised-scratch-grid-search/runs/yift39i3</a>"
            ],
            "text/plain": [
              "<IPython.core.display.HTML object>"
            ]
          },
          "metadata": {},
          "output_type": "display_data"
        },
        {
          "name": "stderr",
          "output_type": "stream",
          "text": [
            "/users/c/carvalhj/miniconda3/envs/myenv/lib/python3.10/site-packages/torch/optim/lr_scheduler.py:240: UserWarning: The epoch parameter in `scheduler.step()` was not necessary and is being deprecated where possible. Please use `scheduler.step()` to step the scheduler. During the deprecation, if epoch is different from None, the closed form is used instead of the new chainable form, where available. Please open an issue if you are unable to replicate your use case: https://github.com/pytorch/pytorch/issues/new/choose.\n",
            "  warnings.warn(EPOCH_DEPRECATION_WARNING, UserWarning)\n"
          ]
        },
        {
          "name": "stdout",
          "output_type": "stream",
          "text": [
            "  Ep1/10: train_acc=50.2%  train_loss=1.3933, val_acc=61.9%, val_loss=1.0320\n",
            "  Ep2/10: train_acc=70.6%  train_loss=0.8583, val_acc=74.3%, val_loss=0.7290\n",
            "  Ep3/10: train_acc=77.8%  train_loss=0.6467, val_acc=82.4%, val_loss=0.6015\n",
            "  Ep4/10: train_acc=84.1%  train_loss=0.4782, val_acc=82.6%, val_loss=0.5195\n",
            "  Ep5/10: train_acc=87.9%  train_loss=0.3573, val_acc=89.1%, val_loss=0.3257\n",
            "  Ep6/10: train_acc=91.8%  train_loss=0.2399, val_acc=89.7%, val_loss=0.2982\n",
            "  Ep7/10: train_acc=95.0%  train_loss=0.1518, val_acc=91.6%, val_loss=0.2883\n",
            "  Ep8/10: train_acc=97.1%  train_loss=0.0870, val_acc=92.9%, val_loss=0.2306\n",
            "  Ep9/10: train_acc=98.8%  train_loss=0.0419, val_acc=94.0%, val_loss=0.2108\n",
            "  Ep10/10: train_acc=99.3%  train_loss=0.0279, val_acc=93.9%, val_loss=0.2245\n"
          ]
        },
        {
          "data": {
            "text/html": [],
            "text/plain": [
              "<IPython.core.display.HTML object>"
            ]
          },
          "metadata": {},
          "output_type": "display_data"
        },
        {
          "data": {
            "text/html": [
              "<br>    <style><br>        .wandb-row {<br>            display: flex;<br>            flex-direction: row;<br>            flex-wrap: wrap;<br>            justify-content: flex-start;<br>            width: 100%;<br>        }<br>        .wandb-col {<br>            display: flex;<br>            flex-direction: column;<br>            flex-basis: 100%;<br>            flex: 1;<br>            padding: 10px;<br>        }<br>    </style><br><div class=\"wandb-row\"><div class=\"wandb-col\"><h3>Run history:</h3><br/><table class=\"wandb\"><tr><td>epoch</td><td>▁▂▃▃▄▅▆▆▇█</td></tr><tr><td>train_acc</td><td>▁▄▅▆▆▇▇███</td></tr><tr><td>train_loss</td><td>█▅▄▃▃▂▂▁▁▁</td></tr><tr><td>val_acc</td><td>▁▄▅▆▇▇▇███</td></tr><tr><td>val_loss</td><td>█▅▄▄▂▂▂▁▁▁</td></tr></table><br/></div><div class=\"wandb-col\"><h3>Run summary:</h3><br/><table class=\"wandb\"><tr><td>epoch</td><td>10</td></tr><tr><td>train_acc</td><td>99.31019</td></tr><tr><td>train_loss</td><td>0.0279</td></tr><tr><td>val_acc</td><td>93.85185</td></tr><tr><td>val_loss</td><td>0.22445</td></tr></table><br/></div></div>"
            ],
            "text/plain": [
              "<IPython.core.display.HTML object>"
            ]
          },
          "metadata": {},
          "output_type": "display_data"
        },
        {
          "data": {
            "text/html": [
              " View run <strong style=\"color:#cdcd00\">BS64_LR4e-04_TR0.8</strong> at: <a href='https://wandb.ai/analiju-paris/eurosat-supervised-scratch-grid-search/runs/yift39i3' target=\"_blank\">https://wandb.ai/analiju-paris/eurosat-supervised-scratch-grid-search/runs/yift39i3</a><br> View project at: <a href='https://wandb.ai/analiju-paris/eurosat-supervised-scratch-grid-search' target=\"_blank\">https://wandb.ai/analiju-paris/eurosat-supervised-scratch-grid-search</a><br>Synced 5 W&B file(s), 0 media file(s), 0 artifact file(s) and 0 other file(s)"
            ],
            "text/plain": [
              "<IPython.core.display.HTML object>"
            ]
          },
          "metadata": {},
          "output_type": "display_data"
        },
        {
          "data": {
            "text/html": [
              "Find logs at: <code>./wandb/run-20250607_145425-yift39i3/logs</code>"
            ],
            "text/plain": [
              "<IPython.core.display.HTML object>"
            ]
          },
          "metadata": {},
          "output_type": "display_data"
        },
        {
          "name": "stdout",
          "output_type": "stream",
          "text": [
            "\n",
            ">>> Best config: BS=32, LR=3.8e-04, val_acc=94.9%\n",
            "Total samples in folder: 27000, classes: ['AnnualCrop', 'Forest', 'HerbaceousVegetation', 'Highway', 'Industrial', 'Pasture', 'PermanentCrop', 'Residential', 'River', 'SeaLake']\n",
            "Stratified split sizes: train=21600, val=2700, test=2700\n",
            "Computed mean: [0.3441457152366638, 0.38009852170944214, 0.40766340494155884]\n",
            "Computed std:  [0.09299741685390472, 0.06464488059282303, 0.054139144718647]\n",
            "Train/Val/Test splits: 21600/2700/2700\n"
          ]
        }
      ],
      "source": [
        "# Main\n",
        "set_seed(SEED)\n",
        "\n",
        "best_cfg, best_model = hyperparam_search(pretrained=False)\n",
        "\n",
        "bs, lr, wd = best_cfg\n",
        "tr_dl, val_dl, te_dl, n_cls = get_data_loaders(DATA_DIR, bs)\n"
      ]
    },
    {
      "cell_type": "markdown",
      "metadata": {},
      "source": [
        "# Retrain on Train + Validation Set"
      ]
    },
    {
      "cell_type": "code",
      "execution_count": 6,
      "metadata": {},
      "outputs": [
        {
          "name": "stdout",
          "output_type": "stream",
          "text": [
            "\n",
            ">>> Retraining final model on TRAIN+VAL combined with best hyperparameters\n",
            "  Final Retrain Ep1/10: train_acc=50.3%\n"
          ]
        },
        {
          "name": "stderr",
          "output_type": "stream",
          "text": [
            "/users/c/carvalhj/miniconda3/envs/myenv/lib/python3.10/site-packages/torch/optim/lr_scheduler.py:240: UserWarning: The epoch parameter in `scheduler.step()` was not necessary and is being deprecated where possible. Please use `scheduler.step()` to step the scheduler. During the deprecation, if epoch is different from None, the closed form is used instead of the new chainable form, where available. Please open an issue if you are unable to replicate your use case: https://github.com/pytorch/pytorch/issues/new/choose.\n",
            "  warnings.warn(EPOCH_DEPRECATION_WARNING, UserWarning)\n"
          ]
        },
        {
          "name": "stdout",
          "output_type": "stream",
          "text": [
            "  Final Retrain Ep2/10: train_acc=69.3%\n",
            "  Final Retrain Ep3/10: train_acc=78.8%\n",
            "  Final Retrain Ep4/10: train_acc=83.6%\n",
            "  Final Retrain Ep5/10: train_acc=87.6%\n",
            "  Final Retrain Ep6/10: train_acc=90.9%\n",
            "  Final Retrain Ep7/10: train_acc=93.9%\n",
            "  Final Retrain Ep8/10: train_acc=96.4%\n",
            "  Final Retrain Ep9/10: train_acc=98.1%\n",
            "  Final Retrain Ep10/10: train_acc=98.9%\n",
            "Final model saved to models/eurosat_supervised_final_model_bs32_lr4e-04.pth\n"
          ]
        }
      ],
      "source": [
        "print(\"\\n>>> Retraining final model on TRAIN+VAL combined with best hyperparameters\")\n",
        "combined_dataset = ConcatDataset([tr_dl.dataset, val_dl.dataset])\n",
        "combined_dl = DataLoader(combined_dataset, batch_size=bs, shuffle=True, num_workers=4)\n",
        "\n",
        "final_model = build_model(n_cls, pretrained=False)\n",
        "\n",
        "total_steps  = NUM_EPOCHS * len(combined_dl)\n",
        "warmup_steps = len(combined_dl)\n",
        "opt_final = optim.AdamW(final_model.parameters(), lr=lr, betas=(0.9,0.98), eps=1e-8, weight_decay=wd)\n",
        "sched_final = SequentialLR(\n",
        "    opt_final,\n",
        "    schedulers=[\n",
        "        LinearLR(opt_final,  start_factor=1e-6, end_factor=1.0, total_iters=warmup_steps),\n",
        "        CosineAnnealingLR(opt_final, T_max=total_steps-warmup_steps)\n",
        "    ],\n",
        "    milestones=[warmup_steps]\n",
        ")\n",
        "\n",
        "crit_final  = nn.CrossEntropyLoss()\n",
        "\n",
        "for ep in range(NUM_EPOCHS):\n",
        "    loss, acc = train_one_epoch(final_model, combined_dl, opt_final, crit_final, sched=sched_final)\n",
        "    \n",
        "    print(f\"  Final Retrain Ep{ep+1}/{NUM_EPOCHS}: train_acc={acc:.1f}%\")\n",
        "\n",
        "final_model_path = \"models/eurosat_supervised_final_model_bs{}_lr{:.0e}.pth\".format(bs, lr)\n",
        "torch.save(final_model.state_dict(), final_model_path)\n",
        "print(f\"Final model saved to {final_model_path}\")\n"
      ]
    },
    {
      "cell_type": "markdown",
      "metadata": {},
      "source": [
        "# Evaluation on Test Set"
      ]
    },
    {
      "cell_type": "code",
      "execution_count": 7,
      "metadata": {},
      "outputs": [
        {
          "data": {
            "image/png": "[encoded data removed]",
            "text/plain": [
              "<Figure size 800x800 with 2 Axes>"
            ]
          },
          "metadata": {},
          "output_type": "display_data"
        },
        {
          "name": "stdout",
          "output_type": "stream",
          "text": [
            "\n",
            ">>> Final Test Accuracy:\n",
            "  Overall:              95.0%\n",
            "  Weighted class acc.:  95.0%\n",
            "\n",
            "Class                    Acc   Train+Val     Test\n",
            "-------------------------------------------------\n",
            "AnnualCrop              91.7%         11%       11%\n",
            "Forest                  98.7%         11%       11%\n",
            "HerbaceousVegetation    94.7%         11%       11%\n",
            "Highway                 92.4%          9%        9%\n",
            "Industrial              93.6%          9%        9%\n",
            "Pasture                 93.5%          7%        7%\n",
            "PermanentCrop           90.8%          9%        9%\n",
            "Residential             99.0%         11%       11%\n",
            "River                   94.4%          9%        9%\n",
            "SeaLake                 99.3%         11%       11%\n"
          ]
        },
        {
          "data": {
            "text/html": [
              "Tracking run with wandb version 0.19.11"
            ],
            "text/plain": [
              "<IPython.core.display.HTML object>"
            ]
          },
          "metadata": {},
          "output_type": "display_data"
        },
        {
          "data": {
            "text/html": [
              "Run data is saved locally in <code>/users/c/carvalhj/projects/eurosat_preprocessing/exploratory_notebooks/wandb/run-20250607_150356-cxmkb2t5</code>"
            ],
            "text/plain": [
              "<IPython.core.display.HTML object>"
            ]
          },
          "metadata": {},
          "output_type": "display_data"
        },
        {
          "data": {
            "text/html": [
              "Syncing run <strong><a href='https://wandb.ai/analiju-paris/eurosat-supervised-scratch-final/runs/cxmkb2t5' target=\"_blank\">BS32_LR4e-04_final</a></strong> to <a href='https://wandb.ai/analiju-paris/eurosat-supervised-scratch-final' target=\"_blank\">Weights & Biases</a> (<a href='https://wandb.me/developer-guide' target=\"_blank\">docs</a>)<br>"
            ],
            "text/plain": [
              "<IPython.core.display.HTML object>"
            ]
          },
          "metadata": {},
          "output_type": "display_data"
        },
        {
          "data": {
            "text/html": [
              " View project at <a href='https://wandb.ai/analiju-paris/eurosat-supervised-scratch-final' target=\"_blank\">https://wandb.ai/analiju-paris/eurosat-supervised-scratch-final</a>"
            ],
            "text/plain": [
              "<IPython.core.display.HTML object>"
            ]
          },
          "metadata": {},
          "output_type": "display_data"
        },
        {
          "data": {
            "text/html": [
              " View run at <a href='https://wandb.ai/analiju-paris/eurosat-supervised-scratch-final/runs/cxmkb2t5' target=\"_blank\">https://wandb.ai/analiju-paris/eurosat-supervised-scratch-final/runs/cxmkb2t5</a>"
            ],
            "text/plain": [
              "<IPython.core.display.HTML object>"
            ]
          },
          "metadata": {},
          "output_type": "display_data"
        },
        {
          "data": {
            "text/html": [],
            "text/plain": [
              "<IPython.core.display.HTML object>"
            ]
          },
          "metadata": {},
          "output_type": "display_data"
        },
        {
          "data": {
            "text/html": [
              "<br>    <style><br>        .wandb-row {<br>            display: flex;<br>            flex-direction: row;<br>            flex-wrap: wrap;<br>            justify-content: flex-start;<br>            width: 100%;<br>        }<br>        .wandb-col {<br>            display: flex;<br>            flex-direction: column;<br>            flex-basis: 100%;<br>            flex: 1;<br>            padding: 10px;<br>        }<br>    </style><br><div class=\"wandb-row\"><div class=\"wandb-col\"><h3>Run history:</h3><br/><table class=\"wandb\"><tr><td>final_test_acc</td><td>▁</td></tr><tr><td>weighted_class_acc</td><td>▁</td></tr></table><br/></div><div class=\"wandb-col\"><h3>Run summary:</h3><br/><table class=\"wandb\"><tr><td>final_test_acc</td><td>95</td></tr><tr><td>weighted_class_acc</td><td>95</td></tr></table><br/></div></div>"
            ],
            "text/plain": [
              "<IPython.core.display.HTML object>"
            ]
          },
          "metadata": {},
          "output_type": "display_data"
        },
        {
          "data": {
            "text/html": [
              " View run <strong style=\"color:#cdcd00\">BS32_LR4e-04_final</strong> at: <a href='https://wandb.ai/analiju-paris/eurosat-supervised-scratch-final/runs/cxmkb2t5' target=\"_blank\">https://wandb.ai/analiju-paris/eurosat-supervised-scratch-final/runs/cxmkb2t5</a><br> View project at: <a href='https://wandb.ai/analiju-paris/eurosat-supervised-scratch-final' target=\"_blank\">https://wandb.ai/analiju-paris/eurosat-supervised-scratch-final</a><br>Synced 5 W&B file(s), 0 media file(s), 0 artifact file(s) and 0 other file(s)"
            ],
            "text/plain": [
              "<IPython.core.display.HTML object>"
            ]
          },
          "metadata": {},
          "output_type": "display_data"
        },
        {
          "data": {
            "text/html": [
              "Find logs at: <code>./wandb/run-20250607_150356-cxmkb2t5/logs</code>"
            ],
            "text/plain": [
              "<IPython.core.display.HTML object>"
            ]
          },
          "metadata": {},
          "output_type": "display_data"
        },
        {
          "data": {
            "image/png": "[encoded data removed]",
            "text/plain": [
              "<Figure size 1200x600 with 2 Axes>"
            ]
          },
          "metadata": {},
          "output_type": "display_data"
        }
      ],
      "source": [
        "\n",
        "\n",
        "final_test_acc, acc_per_class, all_labels, all_preds = evaluate(final_model, te_dl, n_cls)\n",
        "plot_confusion_matrix_from_preds(all_labels, all_preds, te_dl.dataset.dataset.classes)\n",
        "\n",
        "test_targets = np.array(te_dl.dataset.dataset.targets)[te_dl.dataset.indices]\n",
        "class_proportions_test = np.bincount(test_targets, minlength=n_cls) / len(test_targets)\n",
        "\n",
        "combined_targets = np.concatenate([\n",
        "    np.array(sub.dataset.targets)[sub.indices]\n",
        "    for sub in combined_dataset.datasets\n",
        "])\n",
        "class_proportion_train_val = np.bincount(combined_targets, minlength=n_cls) / len(combined_targets)\n",
        "\n",
        "acc_vals = np.array([acc_per_class[c] for c in range(n_cls)])\n",
        "weighted_class_acc = (acc_vals * class_proportions_test).sum()\n",
        "\n",
        "print(\"\\n>>> Final Test Accuracy:\")\n",
        "print(f\"  Overall:             {final_test_acc:5.1f}%\")\n",
        "print(f\"  Weighted class acc.: {weighted_class_acc:5.1f}%\\n\")\n",
        "\n",
        "hdr = f\"{'Class':20s}  {'Acc':>6s}   {'Train+Val':>9s}   {'Test':>6s}\"\n",
        "print(hdr)\n",
        "print(\"-\" * len(hdr))\n",
        "\n",
        "for c, name in enumerate(te_dl.dataset.dataset.classes):\n",
        "    acc  = acc_vals[c]\n",
        "    p_tr = class_proportion_train_val[c] * 100\n",
        "    p_te = class_proportions_test[c]    * 100\n",
        "    print(f\"{name:20s}  {acc:6.1f}%   {p_tr:8.0f}%   {p_te:6.0f}%\")\n",
        "\n",
        "wandb.init(\n",
        "    project=\"eurosat-supervised-scratch-final\",\n",
        "    name=f\"BS{bs}_LR{lr:.0e}_final\",\n",
        "    config={\n",
        "        \"batch_size\":     bs,\n",
        "        \"learning_rate\":  lr,\n",
        "        \"epochs\":         NUM_EPOCHS,\n",
        "        \"pretrained\":     False,\n",
        "        \"final_retrain\":  True\n",
        "    }\n",
        ")\n",
        "wandb.log({\n",
        "    \"final_test_acc\":      final_test_acc,\n",
        "    \"weighted_class_acc\":  weighted_class_acc,\n",
        "    \"per_class_acc\":       acc_vals\n",
        "})\n",
        "wandb.finish()\n",
        "\n",
        "plot_class_acc_prop()"
      ]
    }
  ],
  "metadata": {
    "colab": {
      "gpuType": "T4",
      "provenance": []
    },
    "kaggle": {
      "accelerator": "gpu",
      "dataSources": [],
      "dockerImageVersionId": 31012,
      "isGpuEnabled": true,
      "isInternetEnabled": true,
      "language": "python",
      "sourceType": "notebook"
    },
    "kernelspec": {
      "display_name": "myenv",
      "language": "python",
      "name": "python3"
    },
    "language_info": {
      "codemirror_mode": {
        "name": "ipython",
        "version": 3
      },
      "file_extension": ".py",
      "mimetype": "text/x-python",
      "name": "python",
      "nbconvert_exporter": "python",
      "pygments_lexer": "ipython3",
      "version": "3.10.16"
    }
  },
  "nbformat": 4,
  "nbformat_minor": 0
}
