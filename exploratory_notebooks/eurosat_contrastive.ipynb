{
  "cells": [
    {
      "cell_type": "markdown",
      "metadata": {},
      "source": [
        "# Implementation of the SIMCLR with resnet50 backbone"
      ]
    },
    {
      "cell_type": "code",
      "execution_count": 1,
      "metadata": {},
      "outputs": [
        {
          "name": "stderr",
          "output_type": "stream",
          "text": [
            "\u001b[34m\u001b[1mwandb\u001b[0m: Currently logged in as: \u001b[33manaliju\u001b[0m (\u001b[33manaliju-paris\u001b[0m) to \u001b[32mhttps://api.wandb.ai\u001b[0m. Use \u001b[1m`wandb login --relogin`\u001b[0m to force relogin\n"
          ]
        },
        {
          "data": {
            "text/plain": [
              "True"
            ]
          },
          "execution_count": 1,
          "metadata": {},
          "output_type": "execute_result"
        }
      ],
      "source": [
        "from dotenv import load_dotenv\n",
        "load_dotenv()       # reads .env and sets os.environ\n",
        "import wandb\n",
        "wandb.login()"
      ]
    },
    {
      "cell_type": "code",
      "execution_count": null,
      "metadata": {
        "colab": {
          "base_uri": "https://localhost:8080/"
        },
        "id": "iBlEnEB7Rzfu",
        "outputId": "f0106383-237e-475e-d660-715dcc591a87"
      },
      "outputs": [],
      "source": [
        "import os\n",
        "import ssl\n",
        "import zipfile\n",
        "import torch\n",
        "import torch.nn as nn\n",
        "import torch.nn.functional as F\n",
        "import torch.optim as optim\n",
        "from torchvision import transforms, datasets, models\n",
        "from torch.utils.data import DataLoader, random_split, Dataset, Subset\n",
        "from torchvision.models import resnet50\n",
        "from PIL import Image\n",
        "import numpy as np\n",
        "from sklearn.model_selection import StratifiedShuffleSplit\n",
        "from torch.optim.lr_scheduler import LinearLR, CosineAnnealingLR, SequentialLR\n",
        "import seaborn as sns\n",
        "from utils.version_utils import print_versions, configure_gpu_device, set_seed\n",
        "from torch.utils.data import ConcatDataset, DataLoader\n",
        "\n"
      ]
    },
    {
      "cell_type": "code",
      "execution_count": 3,
      "metadata": {},
      "outputs": [
        {
          "name": "stdout",
          "output_type": "stream",
          "text": [
            "Conda version: 25.5.1\n",
            "Python version: 3.10.16\n",
            "PyTorch version: 2.5.1\n",
            "CUDA available: True\n",
            "CUDA device count: 3\n",
            "Torchvision version: 0.20.1\n",
            "Successfully set to use GPU: 0 (Quadro RTX 5000)\n",
            "Final DEVICE variable is set to: cuda:0\n",
            "Current PyTorch default device: 0\n",
            "Current PyTorch default device (after set_device): 0\n",
            "Dummy tensor is on device: cuda:0\n"
          ]
        }
      ],
      "source": [
        "\n",
        "print_versions()\n",
        "set_seed(seed=42)\n",
        "\n",
        "TARGET_GPU_INDEX = 0\n",
        "\n",
        "DEVICE = configure_gpu_device(TARGET_GPU_INDEX)"
      ]
    },
    {
      "cell_type": "code",
      "execution_count": null,
      "metadata": {},
      "outputs": [],
      "source": [
        "\n",
        "# Prevent nondeterminism\n",
        "os.environ['CUDA_LAUNCH_BLOCKING'] = '1'\n",
        "torch.backends.cudnn.enabled = False\n",
        "\n",
        "CONFIG = {\n",
        "    \"LOCAL_OR_COLAB\": \"LOCAL\",\n",
        "    \"DATA_DIR_LOCAL\": \"/share/DEEPLEARNING/carvalhj/EuroSAT_RGB/\",\n",
        "    \"DATA_DIR_COLAB\": \"/content/EuroSAT_RGB\",\n",
        "    \"ZIP_PATH\": \"/content/EuroSAT.zip\",\n",
        "    \"EUROSAT_URL\": \"https://madm.dfki.de/files/sentinel/EuroSAT.zip\",\n",
        "    \"SEED\": 42,  \n",
        "    \"BATCH_SIZE\": 32,\n",
        "    \"LR\": 3.75e-4,\n",
        "    \"WD\": 0.5,\n",
        "    \"LR_LINEAR\": 3.75e-4,\n",
        "    \"EPOCHS_SIMCLR\": 2,\n",
        "    \"EPOCHS_LINEAR\": 2,\n",
        "    \"PROJ_DIM\": 128,\n",
        "    \"FEATURE_DIM\": 2048, # ResNet50 feature dimension = 2048\n",
        "    \"MEAN\":  [0.3441457152366638, 0.3800985515117645, 0.40766361355781555],\n",
        "    \"STD\":   [0.09299741685390472, 0.06464490294456482, 0.05413917079567909]\n",
        "}\n",
        "\n",
        "DEVICE = torch.device(\"cuda\" if torch.cuda.is_available() else \"cpu\")\n",
        "\n",
        "# split fractions\n",
        "TRAIN_FRAC = 0.8\n",
        "VAL_FRAC   = 0.1\n",
        "TEST_FRAC  = 0.1\n",
        "\n",
        "SEED = CONFIG[\"SEED\"]\n",
        "\n",
        "PRETRAINED = False\n",
        "\n",
        "TEMPERATURE = 0.2\n",
        "\n",
        "BETAS=(0.9,0.98)\n",
        "EPS = 1e-8\n",
        "\n",
        "LINEAR_PROB_TRAIN_SPLIT = 0.75\n",
        "\n",
        "GLOBAL_SEED = CONFIG[\"SEED\"]\n",
        "NUM_WORKERS = 4"
      ]
    },
    {
      "cell_type": "code",
      "execution_count": null,
      "metadata": {},
      "outputs": [],
      "source": [
        "\n",
        "\n",
        "def prepare_data():\n",
        "    if CONFIG[\"LOCAL_OR_COLAB\"] == \"LOCAL\":\n",
        "        return CONFIG[\"DATA_DIR_LOCAL\"]\n",
        "\n",
        "    if not os.path.exists(CONFIG[\"DATA_DIR_COLAB\"]):\n",
        "        print(\"Downloading EuroSAT RGB...\")\n",
        "        ssl._create_default_https_context = ssl._create_unverified_context\n",
        "        urllib.request.urlretrieve(CONFIG[\"EUROSAT_URL\"], CONFIG[\"ZIP_PATH\"])\n",
        "        with zipfile.ZipFile(CONFIG[\"ZIP_PATH\"], 'r') as zip_ref:\n",
        "            zip_ref.extractall(\"/content\")\n",
        "        os.rename(\"/content/2750\", CONFIG[\"DATA_DIR_COLAB\"])\n",
        "        print(\"EuroSAT RGB dataset downloaded and extracted.\")\n",
        "    return CONFIG[\"DATA_DIR_COLAB\"]\n",
        "\n",
        "\n",
        "def compute_mean_std(dataset, batch_size):\n",
        "    loader = DataLoader(dataset, batch_size, shuffle=False, num_workers=2)\n",
        "    mean = 0.0\n",
        "    std = 0.0\n",
        "    n_samples = 0\n",
        "\n",
        "    for data, _ in loader:\n",
        "        batch_samples = data.size(0)\n",
        "        data = data.view(batch_samples, data.size(1), -1)  # (B, C, H*W)\n",
        "        mean += data.mean(2).sum(0)\n",
        "        std += data.std(2).sum(0)\n",
        "        n_samples += batch_samples\n",
        "\n",
        "    mean /= n_samples\n",
        "    std /= n_samples\n",
        "    return mean.tolist(), std.tolist()\n",
        "\n",
        "\n",
        "class TwoCropsTransform:\n",
        "    def __init__(self, base_transform):\n",
        "        self.base_transform = base_transform\n",
        "\n",
        "    def __call__(self, x):\n",
        "        return [self.base_transform(x), self.base_transform(x)]\n",
        "    \n",
        "class SimCLRDataset(Dataset):\n",
        "    def __init__(self, dataset, transform):\n",
        "        self.dataset = dataset\n",
        "        self.transform = transform\n",
        "\n",
        "    def __len__(self):\n",
        "        return len(self.dataset)\n",
        "\n",
        "    def __getitem__(self, idx):\n",
        "        x, _ = self.dataset[idx]\n",
        "        x1, x2 = self.transform(x)\n",
        "        return x1, x2\n",
        "\n",
        "\n",
        "def get_proportion(num_classes, dataset):\n",
        "    return np.bincount(np.array(dataset.dataset.targets)[dataset.indices], minlength=num_classes) / len(dataset)\n",
        "\n",
        "def get_split_indexes(labels, total_count):\n",
        "    n_train = int(np.floor(TRAIN_FRAC * total_count))\n",
        "    n_temp = total_count - n_train   # this is val + test\n",
        "\n",
        "    sss1 = StratifiedShuffleSplit(\n",
        "        n_splits=1,\n",
        "        train_size=n_train,\n",
        "        test_size=n_temp,\n",
        "        random_state=SEED\n",
        "    )\n",
        "    # Train and temp(val+test) indices\n",
        "    train_idx, temp_idx = next(sss1.split(np.zeros(total_count), labels))\n",
        "\n",
        "    n_val = int(np.floor(VAL_FRAC * total_count))\n",
        "    n_test = total_count - n_train - n_val\n",
        "    assert n_temp == n_val + n_test, \"Fractions must sum to 1.\"\n",
        "\n",
        "    labels_temp = labels[temp_idx]\n",
        "\n",
        "    sss2 = StratifiedShuffleSplit(\n",
        "        n_splits=1,\n",
        "        train_size=n_val,\n",
        "        test_size=n_test,\n",
        "        random_state=SEED\n",
        "    )\n",
        "    val_idx_in_temp, test_idx_in_temp = next(sss2.split(np.zeros(len(temp_idx)), labels_temp))\n",
        "\n",
        "    val_idx = temp_idx[val_idx_in_temp]\n",
        "    test_idx = temp_idx[test_idx_in_temp]\n",
        "\n",
        "    assert len(train_idx) == n_train\n",
        "    assert len(val_idx) == n_val\n",
        "    assert len(test_idx) == n_test\n",
        "\n",
        "    print(f\"Stratified split sizes: train={len(train_idx)}, val={len(val_idx)}, test={len(test_idx)}\")\n",
        "    return train_idx,val_idx,test_idx\n",
        "\n",
        "def get_data_loaders(data_dir, batch_size):\n",
        "\n",
        "    dataset_for_stats = datasets.ImageFolder(\n",
        "        root=data_dir,\n",
        "        transform=transforms.ToTensor()\n",
        "    )\n",
        "    total_len = len(dataset_for_stats)\n",
        "    labels = np.array(dataset_for_stats.targets)\n",
        "    num_classes = len(dataset_for_stats.classes)\n",
        "    print(f\"Total samples in folder: {total_len}, classes: {dataset_for_stats.classes}\")\n",
        "\n",
        "    train_indices, val_indices, test_indices = get_split_indexes(labels, total_len)\n",
        "\n",
        "    train_for_stats_subset = Subset(dataset_for_stats, train_indices)\n",
        "    mean, std = compute_mean_std(train_for_stats_subset, batch_size)\n",
        "    print(f\"Computed mean: {mean}\")\n",
        "    print(f\"Computed std:  {std}\")\n",
        "    # save the mean and std to a file\n",
        "    os.makedirs(\"models\", exist_ok=True)\n",
        "    with open(\"models/mean_std.txt\", \"w\") as f:\n",
        "        f.write(f\"mean: {mean}\\n\")\n",
        "        f.write(f\"std: {std}\\n\")\n",
        "    print(\"Mean and std saved to models/mean_std.txt\")\n",
        "\n",
        "    dataset_train_no_transform = datasets.ImageFolder(\n",
        "        root=data_dir,\n",
        "        transform=None\n",
        "    )\n",
        "    train_subset_no_transform = Subset(dataset_train_no_transform, train_indices)\n",
        "\n",
        "    dataset_val_no_transform = datasets.ImageFolder(root=data_dir, transform=None)\n",
        "    val_subset_no_transform  = Subset(dataset_val_no_transform, val_indices)\n",
        "\n",
        "\n",
        "    eval_transform, augment_transform = get_transforms(mean, std)\n",
        "\n",
        "    dataset_eval = datasets.ImageFolder(\n",
        "        root=data_dir,\n",
        "        transform=eval_transform\n",
        "    )\n",
        "    val_subset = Subset(dataset_eval, val_indices)\n",
        "    test_subset = Subset(dataset_eval, test_indices)\n",
        "    simclr_transform = TwoCropsTransform(augment_transform)\n",
        "    train_ds_simclr = SimCLRDataset(train_subset_no_transform, simclr_transform)\n",
        "\n",
        "    train_loader = DataLoader(\n",
        "        train_ds_simclr,\n",
        "        batch_size=batch_size,\n",
        "        shuffle=True,\n",
        "        drop_last=True,\n",
        "        num_workers=NUM_WORKERS,\n",
        "        generator=torch.Generator().manual_seed(SEED)\n",
        "    )\n",
        "    val_loader = DataLoader(\n",
        "        val_subset,\n",
        "        batch_size=batch_size,\n",
        "        shuffle=False,\n",
        "        num_workers=NUM_WORKERS,\n",
        "        generator=torch.Generator().manual_seed(SEED)\n",
        "    )\n",
        "    test_loader = DataLoader(\n",
        "        test_subset,\n",
        "        batch_size=batch_size,\n",
        "        shuffle=False,\n",
        "        num_workers=NUM_WORKERS,\n",
        "        generator=torch.Generator().manual_seed(SEED)\n",
        "    )\n",
        "\n",
        "    print(f\"Train/Val/Test loaders: {len(train_loader)}/{len(val_loader)}/{len(test_loader)} batches\")\n",
        "\n",
        "    return train_loader, val_loader, test_loader, val_subset_no_transform, num_classes\n",
        "\n",
        "def get_transforms(mean, std):\n",
        "    eval_transform = transforms.Compose([\n",
        "        transforms.Resize(72),\n",
        "        transforms.CenterCrop(64),\n",
        "        transforms.ToTensor(),\n",
        "        transforms.Normalize(mean=mean, std=std),\n",
        "    ])\n",
        "\n",
        "    normalize = transforms.Normalize(mean=mean, std=std)\n",
        "    color_jitter = transforms.ColorJitter(\n",
        "        brightness=0.4,\n",
        "        contrast=0.4,\n",
        "        saturation=0.4,\n",
        "        hue=0.1\n",
        "    )\n",
        "    gaussian_blur = transforms.GaussianBlur(\n",
        "        kernel_size=7,\n",
        "        sigma=(0.1, 2.0)\n",
        "    )\n",
        "    augment_transform = transforms.Compose([\n",
        "        transforms.RandomResizedCrop(64, scale=(0.5, 1.0)),\n",
        "        transforms.RandomApply([color_jitter], p=0.8),\n",
        "        transforms.RandomApply([gaussian_blur], p=0.5),\n",
        "        transforms.ToTensor(),\n",
        "        normalize,\n",
        "    ])\n",
        "    \n",
        "    return eval_transform,augment_transform\n",
        "\n",
        "    \n",
        "\n",
        " \n",
        "class ProjectionHead(nn.Module):\n",
        "    def __init__(self, input_dim, proj_dim=128, hidden_dim=2048):\n",
        "        super().__init__()\n",
        "        self.net = nn.Sequential(\n",
        "            nn.Linear(input_dim, hidden_dim),\n",
        "            nn.BatchNorm1d(hidden_dim),\n",
        "            nn.ReLU(),\n",
        "            nn.Linear(hidden_dim, proj_dim)\n",
        "        )\n",
        "\n",
        "    def forward(self, x):\n",
        "        return self.net(x)\n",
        "\n",
        "class SimCLRModel(nn.Module):\n",
        "    def __init__(self, base_encoder, proj_dim=128):\n",
        "        super().__init__()\n",
        "        self.encoder = base_encoder\n",
        "        self.encoder.fc = nn.Identity()\n",
        "        self.projection_head = ProjectionHead(input_dim=CONFIG[\"FEATURE_DIM\"], proj_dim=proj_dim)\n",
        "\n",
        "    def forward(self, x):\n",
        "        feat = self.encoder(x)\n",
        "        proj = self.projection_head(feat)\n",
        "        return feat, proj\n",
        "\n",
        "class NTXentLoss(nn.Module):\n",
        "    def __init__(self, batch_size, temperature=0.5, device='cuda'):\n",
        "        super().__init__()\n",
        "        self.temperature = temperature\n",
        "        self.batch_size = batch_size\n",
        "        self.device = device\n",
        "        self.criterion = nn.CrossEntropyLoss()\n",
        "\n",
        "    def forward(self, zis, zjs):\n",
        "        N = zis.size(0)\n",
        "        z = F.normalize(torch.cat([zis, zjs], dim=0), dim=1)\n",
        "        sim = torch.matmul(z, z.T) / self.temperature\n",
        "        mask = torch.eye(2 * N, dtype=torch.bool).to(self.device)\n",
        "        sim = sim.masked_fill(mask, -1e9)\n",
        "        labels = torch.cat([torch.arange(N, 2 * N), torch.arange(0, N)]).to(self.device)\n",
        "        return self.criterion(sim, labels)\n",
        "\n",
        "@torch.no_grad()\n",
        "def compute_contrastive_val_loss(model, val_loader, criterion,\n",
        "                                 two_crop: TwoCropsTransform,\n",
        "                                 device):\n",
        "    model.eval()\n",
        "    total, acc_loss = 0, 0.0\n",
        "    for imgs, _labels in val_loader:                 # unlabeled for loss\n",
        "        imgs = imgs.to(device)\n",
        "        x1, x2 = two_crop(imgs)                      # produce two views\n",
        "        _, z1 = model(x1)\n",
        "        _, z2 = model(x2)\n",
        "        loss = criterion(z1, z2)\n",
        "        batch_size = imgs.size(0)\n",
        "        acc_loss += loss.item() * batch_size\n",
        "        total += batch_size\n",
        "    return acc_loss / total\n",
        "    \n",
        "def run_linear_probe(model, probe_train_loader, probe_val_loader, feature_dim, num_classes, device, lr, epochs):\n",
        "    # freeze encoder\n",
        "    model.eval()\n",
        "    for p in model.encoder.parameters(): p.requires_grad = False\n",
        "\n",
        "    head = nn.Linear(feature_dim, num_classes).to(device)\n",
        "    opt  = optim.SGD(head.parameters(), lr=lr, momentum=0.9)\n",
        "    crit = nn.CrossEntropyLoss()\n",
        "\n",
        "    # one epoch of probe-training\n",
        "    for x, y in probe_train_loader:\n",
        "        x, y = x.to(device), y.to(device)\n",
        "        with torch.no_grad():\n",
        "            feats, _ = model(x)\n",
        "        logits = head(feats)\n",
        "        loss   = crit(logits, y)\n",
        "        opt.zero_grad(); loss.backward(); opt.step()\n",
        "\n",
        "    # eval\n",
        "    correct, total = 0, 0\n",
        "    head.eval()\n",
        "    with torch.no_grad():\n",
        "        for x, y in probe_val_loader:\n",
        "            x, y = x.to(device), y.to(device)\n",
        "            feats, _ = model(x)\n",
        "            preds = head(feats).argmax(dim=1)\n",
        "            correct += (preds == y).sum().item()\n",
        "            total   += y.size(0)\n",
        "    return correct / total\n",
        "\n",
        "\n",
        "class LabeledEvalDataset(Dataset):\n",
        "    def __init__(self, subset, transform):\n",
        "        self.subset    = subset      # e.g. Subset(ImageFolder, train_indices)\n",
        "        self.transform = transform   # your eval_transform\n",
        "\n",
        "    def __len__(self):\n",
        "        return len(self.subset)\n",
        "\n",
        "    def __getitem__(self, idx):\n",
        "        img, label = self.subset[idx]\n",
        "        return self.transform(img), label\n",
        "\n",
        "\n",
        "def get_probe_loaders(train_loader, test_loader, eval_transform, probe_batch_size):\n",
        "\n",
        "    # 1) Drill down into the underlying subset your SimCLR is training on:\n",
        "    simclr_ds   = train_loader.dataset         # SimCLRDataset instance\n",
        "    raw_subset  = simclr_ds.dataset            # e.g. Subset(ImageFolder, train_indices)\n",
        "\n",
        "    # 2) Build a labeled Dataset for probe‐training\n",
        "    probe_train_ds = LabeledEvalDataset(raw_subset, eval_transform)\n",
        "\n",
        "    probe_train_loader = DataLoader(\n",
        "        probe_train_ds,\n",
        "        batch_size=probe_batch_size,\n",
        "        shuffle=True,\n",
        "        num_workers=NUM_WORKERS,\n",
        "        pin_memory=True\n",
        "    )\n",
        "\n",
        "    # 3) Use your existing test_loader as the probe‐validation loader\n",
        "    probe_val_loader = test_loader\n",
        "\n",
        "    return probe_train_loader, probe_val_loader\n",
        "\n",
        "\n",
        "def train_simclr(model,\n",
        "                 train_loader,        # yields (x1, x2)\n",
        "                 val_loader,          # labeled loader: yields (img, label)\n",
        "                 probe_train_loader,  # labeled loader for probe head train\n",
        "                 probe_val_loader,    # labeled loader for probe head val\n",
        "                 optimizer,\n",
        "                 criterion,\n",
        "                 device,\n",
        "                 simclr_epochs,\n",
        "                 probe_lr,\n",
        "                 probe_epochs,\n",
        "                 feature_dim,\n",
        "                 num_classes,\n",
        "                 augment_transform,   # the same augment you use in SimCLRDataset\n",
        "                 val_subset_no_transform,   # always PIL → TwoCrops works\n",
        "                 wandb_run=None,\n",
        "                 scheduler=None):\n",
        "    model.to(device)\n",
        "    two_crop = TwoCropsTransform(augment_transform)\n",
        "\n",
        "    # build a one‐off contrastive val‐loader from your labeled val_loader.dataset\n",
        "    # (this is the SUBSET of ImageFolder you passed into get_data_loaders)\n",
        "    # raw_val_subset = val_loader.dataset  # Subset(ImageFolder, val_indices)\n",
        "    raw_val_subset = val_subset_no_transform   # always PIL → TwoCrops works\n",
        "\n",
        "    contrastive_val_ds = SimCLRDataset(raw_val_subset, two_crop)\n",
        "    contrastive_val_loader = torch.utils.data.DataLoader(\n",
        "        contrastive_val_ds,\n",
        "        batch_size=val_loader.batch_size,\n",
        "        shuffle=False,\n",
        "        num_workers=val_loader.num_workers,\n",
        "        pin_memory=True\n",
        "    )\n",
        "\n",
        "    for epoch in range(1, simclr_epochs+1):\n",
        "        # ——— 1) Contrastive training ———\n",
        "        model.train()\n",
        "        total_loss = 0.0\n",
        "        for x1, x2 in train_loader:\n",
        "            x1, x2 = x1.to(device), x2.to(device)\n",
        "            _, z1 = model(x1)\n",
        "            _, z2 = model(x2)\n",
        "            loss = criterion(z1, z2)\n",
        "            optimizer.zero_grad()\n",
        "            loss.backward()\n",
        "            optimizer.step()\n",
        "            # if scheduler: scheduler.step()\n",
        "            total_loss += loss.item() * x1.size(0)\n",
        "        train_loss = total_loss / len(train_loader.dataset)\n",
        "\n",
        "        # ——— 2) Contrastive validation loss ———\n",
        "        model.eval()\n",
        "        val_loss = 0.0\n",
        "        with torch.no_grad():\n",
        "            for v1, v2 in contrastive_val_loader:\n",
        "                v1, v2 = v1.to(device), v2.to(device)\n",
        "                _, zv1 = model(v1)\n",
        "                _, zv2 = model(v2)\n",
        "                l = criterion(zv1, zv2)\n",
        "                val_loss += l.item() * v1.size(0)\n",
        "        val_loss /= len(contrastive_val_loader.dataset)\n",
        "\n",
        "        # ——— 3) Linear‐probe accuracy ———\n",
        "        probe_acc = run_linear_probe(\n",
        "            model, \n",
        "            probe_train_loader, \n",
        "            probe_val_loader, \n",
        "            feature_dim, \n",
        "            num_classes, \n",
        "            device, \n",
        "            lr=probe_lr, \n",
        "            epochs=probe_epochs\n",
        "        )\n",
        "\n",
        "        # ——— 4) Log & print ———\n",
        "        msg = (f\"Epoch {epoch:02d}/{simclr_epochs} | \"\n",
        "               f\"SimCLR L: {train_loss:.4f} → Val L: {val_loss:.4f} | \"\n",
        "               f\"Probe Acc: {probe_acc:.3f}\")\n",
        "        print(msg)\n",
        "        if wandb_run:\n",
        "            wandb_run.log({\n",
        "                \"epoch\": epoch,\n",
        "                \"simclr_train_loss\": train_loss,\n",
        "                \"simclr_val_loss\": val_loss,\n",
        "                \"linear_probe_acc\": probe_acc\n",
        "            })\n",
        "\n",
        "\n",
        "def evaluate(classifier, backbone, loader, device):\n",
        "    classifier.eval()\n",
        "    correct, total = 0, 0\n",
        "    with torch.no_grad():\n",
        "        for images, labels in loader:\n",
        "            images, labels = images.to(device), labels.to(device)\n",
        "            features = backbone(images)\n",
        "            outputs = classifier(features)\n",
        "            total += labels.size(0)\n",
        "            correct += (outputs.argmax(1) == labels).sum().item()\n",
        "    return correct / total * 100\n",
        "\n",
        "def make_optimizer_scheduler(params, lr, wd, steps_per_epoch, epochs):\n",
        "    total_steps  = epochs * steps_per_epoch\n",
        "    warmup_steps = steps_per_epoch\n",
        "    opt = optim.AdamW(params, lr=lr, betas=(0.9,0.98), eps=1e-8, weight_decay=wd)\n",
        "    sched = SequentialLR(\n",
        "        opt,\n",
        "        schedulers=[\n",
        "            LinearLR(opt,  start_factor=1e-6, end_factor=1.0, total_iters=warmup_steps),\n",
        "            CosineAnnealingLR(opt, T_max=total_steps - warmup_steps)\n",
        "        ],\n",
        "        milestones=[warmup_steps]\n",
        "    )\n",
        "    return opt, sched"
      ]
    },
    {
      "cell_type": "code",
      "execution_count": 6,
      "metadata": {},
      "outputs": [],
      "source": [
        "\n",
        "def get_data_loaders_train_test_linear_probe(data_dir, batch_size):\n",
        "\n",
        "   # get meand and std from the file where we saved it\n",
        "    with open(\"models/mean_std.txt\", \"r\") as f:\n",
        "        lines = f.readlines()\n",
        "        mean = [float(x) for x in lines[0].strip().split(\": \")[1][1:-1].split(\",\")]\n",
        "        std = [float(x) for x in lines[1].strip().split(\": \")[1][1:-1].split(\",\")]\n",
        "    \n",
        "    print(f\"Using mean: {mean}\")\n",
        "    print(f\"Using std: {std}\")\n",
        "\n",
        "    normalize = transforms.Normalize(mean=mean, std=std)\n",
        "    color_jitter = transforms.ColorJitter(\n",
        "        brightness=0.4,\n",
        "        contrast=0.4,\n",
        "        saturation=0.4,\n",
        "        hue=0.1\n",
        "    )\n",
        "    gaussian_blur = transforms.GaussianBlur(\n",
        "        kernel_size=7,\n",
        "        sigma=(0.1, 2.0)\n",
        "    )\n",
        "    augment_transform = transforms.Compose([\n",
        "        transforms.RandomResizedCrop(64, scale=(0.5, 1.0)),\n",
        "        transforms.RandomApply([color_jitter], p=0.8),\n",
        "        transforms.RandomApply([gaussian_blur], p=0.5),\n",
        "        transforms.ToTensor(),\n",
        "        normalize,\n",
        "    ])\n",
        "    eval_transform = transforms.Compose([\n",
        "            transforms.Resize((64, 64)),   \n",
        "            transforms.ToTensor(),\n",
        "            normalize,\n",
        "    ])\n",
        "    \n",
        "    dataset_for_stats = datasets.ImageFolder(\n",
        "        root=data_dir,\n",
        "        transform=transforms.ToTensor()\n",
        "    )\n",
        "    total_len = len(dataset_for_stats)\n",
        "    labels = np.array(dataset_for_stats.targets)\n",
        "    print(f\"Total samples in folder: {total_len}, classes: {dataset_for_stats.classes}\")\n",
        "\n",
        "    train_indices, val_indices, test_indices = get_split_indexes(labels, total_len)\n",
        "    dataset_eval = datasets.ImageFolder(\n",
        "        root=data_dir,\n",
        "        transform=eval_transform\n",
        "    )\n",
        "    test_subset = Subset(dataset_eval, test_indices)\n",
        "    train_val_indices = np.concatenate((train_indices, val_indices))\n",
        "\n",
        "    # get dataloaders\n",
        "    dataset_train_val = datasets.ImageFolder(\n",
        "        root=data_dir,\n",
        "        transform=augment_transform\n",
        "    )\n",
        "    train_val_subset = Subset(dataset_train_val, train_val_indices.tolist())\n",
        "    train_loader = DataLoader(\n",
        "        train_val_subset,\n",
        "        batch_size=batch_size,\n",
        "        shuffle=True,\n",
        "        drop_last=True,\n",
        "        num_workers=NUM_WORKERS,\n",
        "        generator=torch.Generator().manual_seed(SEED)\n",
        "    )\n",
        "    test_loader = DataLoader(\n",
        "        test_subset,\n",
        "        batch_size=batch_size,\n",
        "        shuffle=False,\n",
        "        num_workers=NUM_WORKERS,\n",
        "        generator=torch.Generator().manual_seed(SEED)\n",
        "    )\n",
        "    print(f\"Train/Test loaders: {len(train_loader)}/{len(test_loader)} batches\")\n",
        "    assert total_len == len(train_val_subset) + len(test_subset), \"Total length mismatch after split.\"\n",
        "    return train_loader, test_loader, len(dataset_eval.classes)"
      ]
    },
    {
      "cell_type": "code",
      "execution_count": null,
      "metadata": {},
      "outputs": [],
      "source": [
        "\n",
        "\n",
        "\n",
        "def run_linear_probe_experiment(seed, train_loader, val_loader, test_loader, num_classes, simclr_model, bs):\n",
        "    \n",
        "    linear_probe_layer = nn.Linear(CONFIG[\"FEATURE_DIM\"], num_classes).to(DEVICE)\n",
        "    linear_optimizer = optim.Adam(linear_probe_layer.parameters(), lr=CONFIG[\"LR_LINEAR\"], weight_decay=CONFIG[\"WD\"])\n",
        "    linear_criterion = nn.CrossEntropyLoss()\n",
        "    steps_per_epoch = len(train_loader)\n",
        "    linear_scheduler = SequentialLR(\n",
        "        linear_optimizer,\n",
        "        schedulers=[\n",
        "            LinearLR(linear_optimizer, start_factor=1e-6, end_factor=1.0, total_iters=steps_per_epoch),\n",
        "            CosineAnnealingLR(linear_optimizer, T_max=CONFIG[\"EPOCHS_LINEAR\"] * steps_per_epoch - steps_per_epoch)\n",
        "        ],\n",
        "        milestones=[steps_per_epoch]\n",
        "    )\n",
        "\n",
        "    if val_loader is not None:\n",
        "        train_val_loader = combine_train_val_loaders(train_loader, val_loader)\n",
        "    else:\n",
        "        train_val_loader = train_loader\n",
        "    \n",
        "    print(f\"Train + Val loader: {len(train_val_loader)} batches\")\n",
        "    simclr_model.eval()\n",
        "    # freeze the encoder\n",
        "    with torch.no_grad():\n",
        "        for param in simclr_model.encoder.parameters():\n",
        "            param.requires_grad = False\n",
        "\n",
        "    simclr_model.to(DEVICE)\n",
        "    wandb.init(\n",
        "        project=\"linear_probe_eurosat-simclr\",\n",
        "        name=f\"linear_probe_seed{seed}_temperature{TEMPERATURE}_bs{bs}\",\n",
        "        config={\n",
        "            \"seed\": seed,\n",
        "            \"temperature\": TEMPERATURE,\n",
        "            \"batch_size\": bs,\n",
        "            \"epochs_linear\": CONFIG[\"EPOCHS_LINEAR\"],\n",
        "            \"learning_rate_linear\": CONFIG[\"LR_LINEAR\"],\n",
        "            \"weight_decay_linear\": CONFIG[\"WD\"],\n",
        "            \"num_classes\": num_classes\n",
        "        }\n",
        "    )\n",
        "    wandb.watch(simclr_model.encoder, log=\"all\", log_freq=100)\n",
        "    wandb.watch(linear_probe_layer, log=\"all\", log_freq=100)\n",
        "    print(\"Starting linear probe training...\")\n",
        "\n",
        "    linear_probe_layer.train()\n",
        "    for epoch in range(CONFIG[\"EPOCHS_LINEAR\"]):\n",
        "        total_loss = 0\n",
        "        correct = 0\n",
        "        total = 0\n",
        "        for images, labels in train_val_loader:\n",
        "            images, labels = images.to(DEVICE), labels.to(DEVICE)\n",
        "            features, _ = simclr_model(images)\n",
        "            outputs = linear_probe_layer(features)\n",
        "            loss = linear_criterion(outputs, labels)\n",
        "\n",
        "            linear_optimizer.zero_grad()\n",
        "            loss.backward()\n",
        "            linear_optimizer.step()\n",
        "\n",
        "            total_loss += loss.item() * images.size(0)\n",
        "            _, preds = outputs.max(1)\n",
        "            correct += preds.eq(labels).sum().item()\n",
        "            total += labels.size(0)\n",
        "\n",
        "        avg_loss = total_loss / total\n",
        "        accuracy = correct / total * 100\n",
        "        total_epochs = CONFIG[\"EPOCHS_LINEAR\"]\n",
        "        print(f\"[Linear Probe] Epoch {epoch+1}/{total_epochs} - Loss: {avg_loss:.4f}, Accuracy: {accuracy:.2f}%\")\n",
        "        wandb.log({\n",
        "            \"linear_probe_loss\": avg_loss,\n",
        "            \"linear_probe_accuracy\": accuracy,\n",
        "            \"epoch\": epoch + 1\n",
        "        })\n",
        "        linear_prob_acc = accuracy\n",
        "        linear_prob_loss = avg_loss\n",
        "    test_accuracy = evaluate(linear_probe_layer, simclr_model.encoder, test_loader, DEVICE)\n",
        "    print(f\"Test Accuracy: {test_accuracy:.2f}%\")\n",
        "    wandb.log({\n",
        "        \"test_accuracy\": test_accuracy,\n",
        "        \"linear_probe_loss\": linear_prob_loss,\n",
        "        \"linear_probe_accuracy\": linear_prob_acc\n",
        "    })\n",
        "    print(f\"Linear probe accuracy: {linear_prob_acc:.2f}%, Test accuracy: {test_accuracy:.2f}%\")\n",
        "    # Save the linear probe model\n",
        "    torch.save({\n",
        "        'linear_probe_state_dict': linear_probe_layer.state_dict(),\n",
        "        'simclr_encoder_state_dict': simclr_model.encoder.state_dict(),\n",
        "        'config': CONFIG,\n",
        "        'seed': seed\n",
        "    }, f\"models/linear_probe_seed{seed}_temperature{TEMPERATURE}_bs{bs}.pth\")\n",
        "\n",
        "def combine_train_val_loaders(train_loader, val_loader):\n",
        "    train_ds = train_loader.dataset\n",
        "    val_ds   = val_loader.dataset\n",
        "\n",
        "    combined_ds = ConcatDataset([train_ds, val_ds])\n",
        "    train_val_loader = DataLoader(\n",
        "        combined_ds,\n",
        "        batch_size=CONFIG[\"BATCH_SIZE\"],\n",
        "        shuffle=True,\n",
        "        drop_last=True,\n",
        "        num_workers=NUM_WORKERS,\n",
        "        generator=torch.Generator().manual_seed(SEED)\n",
        "    )\n",
        "    \n",
        "    return train_val_loader\n"
      ]
    },
    {
      "cell_type": "code",
      "execution_count": 8,
      "metadata": {},
      "outputs": [
        {
          "name": "stdout",
          "output_type": "stream",
          "text": [
            "\n",
            "=== Starting run with seed 42 ===\n",
            "Total samples in folder: 27000, classes: ['AnnualCrop', 'Forest', 'HerbaceousVegetation', 'Highway', 'Industrial', 'Pasture', 'PermanentCrop', 'Residential', 'River', 'SeaLake']\n",
            "Stratified split sizes: train=21600, val=2700, test=2700\n",
            "Computed mean: [0.3441457152366638, 0.38009852170944214, 0.40766340494155884]\n",
            "Computed std:  [0.09299741685390472, 0.06464488059282303, 0.054139144718647]\n",
            "Mean and std saved to models/mean_std.txt\n",
            "Train/Val/Test loaders: 675/85/85 batches\n",
            "Starting SimCLR training...\n"
          ]
        },
        {
          "data": {
            "text/html": [
              "Tracking run with wandb version 0.19.11"
            ],
            "text/plain": [
              "<IPython.core.display.HTML object>"
            ]
          },
          "metadata": {},
          "output_type": "display_data"
        },
        {
          "data": {
            "text/html": [
              "Run data is saved locally in <code>/users/c/carvalhj/projects/eurosat_preprocessing/exploratory_notebooks/wandb/run-20250618_183923-oxlraifi</code>"
            ],
            "text/plain": [
              "<IPython.core.display.HTML object>"
            ]
          },
          "metadata": {},
          "output_type": "display_data"
        },
        {
          "data": {
            "text/html": [
              "Syncing run <strong><a href='https://wandb.ai/analiju-paris/eurosat-contrastive-scratch-grid-search/runs/oxlraifi' target=\"_blank\">BS32_LR4e-04_SEED42_TEMPERATURE0.2</a></strong> to <a href='https://wandb.ai/analiju-paris/eurosat-contrastive-scratch-grid-search' target=\"_blank\">Weights & Biases</a> (<a href='https://wandb.me/developer-guide' target=\"_blank\">docs</a>)<br>"
            ],
            "text/plain": [
              "<IPython.core.display.HTML object>"
            ]
          },
          "metadata": {},
          "output_type": "display_data"
        },
        {
          "data": {
            "text/html": [
              " View project at <a href='https://wandb.ai/analiju-paris/eurosat-contrastive-scratch-grid-search' target=\"_blank\">https://wandb.ai/analiju-paris/eurosat-contrastive-scratch-grid-search</a>"
            ],
            "text/plain": [
              "<IPython.core.display.HTML object>"
            ]
          },
          "metadata": {},
          "output_type": "display_data"
        },
        {
          "data": {
            "text/html": [
              " View run at <a href='https://wandb.ai/analiju-paris/eurosat-contrastive-scratch-grid-search/runs/oxlraifi' target=\"_blank\">https://wandb.ai/analiju-paris/eurosat-contrastive-scratch-grid-search/runs/oxlraifi</a>"
            ],
            "text/plain": [
              "<IPython.core.display.HTML object>"
            ]
          },
          "metadata": {},
          "output_type": "display_data"
        },
        {
          "name": "stderr",
          "output_type": "stream",
          "text": [
            "/users/c/carvalhj/miniconda3/envs/myenv/lib/python3.10/site-packages/torch/optim/lr_scheduler.py:240: UserWarning: The epoch parameter in `scheduler.step()` was not necessary and is being deprecated where possible. Please use `scheduler.step()` to step the scheduler. During the deprecation, if epoch is different from None, the closed form is used instead of the new chainable form, where available. Please open an issue if you are unable to replicate your use case: https://github.com/pytorch/pytorch/issues/new/choose.\n",
            "  warnings.warn(EPOCH_DEPRECATION_WARNING, UserWarning)\n"
          ]
        },
        {
          "name": "stdout",
          "output_type": "stream",
          "text": [
            "Epoch 01/2 | SimCLR L: 3.1818 → Val L: 2.4787 | Probe Acc: 0.493\n",
            "Epoch 02/2 | SimCLR L: 2.2180 → Val L: 2.2096 | Probe Acc: 0.491\n"
          ]
        },
        {
          "data": {
            "text/html": [],
            "text/plain": [
              "<IPython.core.display.HTML object>"
            ]
          },
          "metadata": {},
          "output_type": "display_data"
        },
        {
          "data": {
            "text/html": [
              "<br>    <style><br>        .wandb-row {<br>            display: flex;<br>            flex-direction: row;<br>            flex-wrap: wrap;<br>            justify-content: flex-start;<br>            width: 100%;<br>        }<br>        .wandb-col {<br>            display: flex;<br>            flex-direction: column;<br>            flex-basis: 100%;<br>            flex: 1;<br>            padding: 10px;<br>        }<br>    </style><br><div class=\"wandb-row\"><div class=\"wandb-col\"><h3>Run history:</h3><br/><table class=\"wandb\"><tr><td>epoch</td><td>▁█</td></tr><tr><td>linear_probe_acc</td><td>█▁</td></tr><tr><td>simclr_train_loss</td><td>█▁</td></tr><tr><td>simclr_val_loss</td><td>█▁</td></tr></table><br/></div><div class=\"wandb-col\"><h3>Run summary:</h3><br/><table class=\"wandb\"><tr><td>epoch</td><td>2</td></tr><tr><td>linear_probe_acc</td><td>0.49074</td></tr><tr><td>simclr_train_loss</td><td>2.21802</td></tr><tr><td>simclr_val_loss</td><td>2.20962</td></tr></table><br/></div></div>"
            ],
            "text/plain": [
              "<IPython.core.display.HTML object>"
            ]
          },
          "metadata": {},
          "output_type": "display_data"
        },
        {
          "data": {
            "text/html": [
              " View run <strong style=\"color:#cdcd00\">BS32_LR4e-04_SEED42_TEMPERATURE0.2</strong> at: <a href='https://wandb.ai/analiju-paris/eurosat-contrastive-scratch-grid-search/runs/oxlraifi' target=\"_blank\">https://wandb.ai/analiju-paris/eurosat-contrastive-scratch-grid-search/runs/oxlraifi</a><br> View project at: <a href='https://wandb.ai/analiju-paris/eurosat-contrastive-scratch-grid-search' target=\"_blank\">https://wandb.ai/analiju-paris/eurosat-contrastive-scratch-grid-search</a><br>Synced 5 W&B file(s), 0 media file(s), 0 artifact file(s) and 0 other file(s)"
            ],
            "text/plain": [
              "<IPython.core.display.HTML object>"
            ]
          },
          "metadata": {},
          "output_type": "display_data"
        },
        {
          "data": {
            "text/html": [
              "Find logs at: <code>./wandb/run-20250618_183923-oxlraifi/logs</code>"
            ],
            "text/plain": [
              "<IPython.core.display.HTML object>"
            ]
          },
          "metadata": {},
          "output_type": "display_data"
        },
        {
          "name": "stdout",
          "output_type": "stream",
          "text": [
            "All runs completed.\n"
          ]
        }
      ],
      "source": [
        "\n",
        "seeds = [GLOBAL_SEED]\n",
        "for seed in seeds:\n",
        "    print(f\"\\n=== Starting run with seed {seed} ===\")\n",
        "    set_seed(seed)\n",
        "    \n",
        "    data_dir = prepare_data()\n",
        "    train_loader, val_loader, test_loader, val_subset_no_transform, num_classes = get_data_loaders(data_dir, CONFIG[\"BATCH_SIZE\"])\n",
        "\n",
        "    base_encoder = resnet50(weights=None)\n",
        "    simclr_model = SimCLRModel(base_encoder, proj_dim=CONFIG[\"PROJ_DIM\"])\n",
        "    # optimizer = optim.Adam(simclr_model.parameters(), lr=CONFIG[\"LR\"])\n",
        "    wd =  0.5 \n",
        "    optimizer, scheduler = make_optimizer_scheduler(\n",
        "        simclr_model.parameters(),\n",
        "        CONFIG[\"LR\"],\n",
        "        CONFIG[\"WD\"],\n",
        "        len(train_loader),\n",
        "        CONFIG[\"EPOCHS_SIMCLR\"]\n",
        "        )\n",
        "    \n",
        "    bs = CONFIG[\"BATCH_SIZE\"]\n",
        "    loss_fn = NTXentLoss(bs, temperature=TEMPERATURE, device=DEVICE)\n",
        "\n",
        "    print(\"Starting SimCLR training...\")\n",
        "    lr = CONFIG[\"LR\"]\n",
        "    wandb_run = wandb.init(\n",
        "        project=\"eurosat-contrastive-scratch-grid-search\",\n",
        "        name=f\"BS{bs}_LR{lr:.0e}_SEED{seed}_TEMPERATURE{TEMPERATURE}\",\n",
        "        config={\n",
        "            \"seed\": seed,\n",
        "            \"temperature\": TEMPERATURE,\n",
        "            \"model\": \"SimCLR\",\n",
        "            \"dataset\": \"EuroSAT\",\n",
        "            \"batch_size\": bs,\n",
        "            \"learning_rate\": CONFIG[\"LR\"],\n",
        "            \"epochs\": CONFIG[\"EPOCHS_SIMCLR\"],\n",
        "            \"proj_dim\": CONFIG[\"PROJ_DIM\"],\n",
        "            \"feature_dim\": CONFIG[\"FEATURE_DIM\"],\n",
        "            \"pretrained\": PRETRAINED,\n",
        "        }\n",
        "    )\n",
        "\n",
        "    eval_transform, augment_transform = get_transforms(\n",
        "        mean =CONFIG[\"MEAN\"],\n",
        "        std = CONFIG[\"STD\"]\n",
        "    )  # these must match the transforms used in test_loader\n",
        "\n",
        "    probe_train_loader, probe_val_loader = get_probe_loaders(\n",
        "        train_loader,\n",
        "        test_loader,\n",
        "        eval_transform,               # must match transforms used in test_loader\n",
        "        probe_batch_size=CONFIG[\"BATCH_SIZE\"]\n",
        "    )\n",
        "\n",
        "    eval_transform, augment_transform = get_transforms(\n",
        "        mean=CONFIG[\"MEAN\"],\n",
        "        std=CONFIG[\"STD\"]\n",
        "    )\n",
        "\n",
        "    train_simclr(\n",
        "        simclr_model,\n",
        "        train_loader, val_loader,\n",
        "        probe_train_loader, probe_val_loader,\n",
        "        optimizer, loss_fn, DEVICE,\n",
        "        simclr_epochs=CONFIG[\"EPOCHS_SIMCLR\"],\n",
        "        probe_lr=CONFIG[\"LR_LINEAR\"],\n",
        "        probe_epochs=1,            # 1 pass per epoch is typical\n",
        "        feature_dim=CONFIG[\"FEATURE_DIM\"],\n",
        "        num_classes=num_classes,\n",
        "        augment_transform=augment_transform,\n",
        "        val_subset_no_transform=val_subset_no_transform,\n",
        "        wandb_run=wandb_run,\n",
        "        scheduler=scheduler\n",
        "    )\n",
        "\n",
        "    wandb_run.finish()\n",
        "\n",
        "\n",
        "\n",
        "print(\"All runs completed.\")\n",
        "wandb.finish()\n",
        "   \n",
        "        \n",
        "\n",
        "\n",
        "\n"
      ]
    },
    {
      "cell_type": "code",
      "execution_count": 10,
      "metadata": {},
      "outputs": [
        {
          "name": "stdout",
          "output_type": "stream",
          "text": [
            "Using mean: [0.3441457152366638, 0.38009852170944214, 0.40766340494155884]\n",
            "Using std: [0.09299741685390472, 0.06464488059282303, 0.054139144718647]\n",
            "Total samples in folder: 27000, classes: ['AnnualCrop', 'Forest', 'HerbaceousVegetation', 'Highway', 'Industrial', 'Pasture', 'PermanentCrop', 'Residential', 'River', 'SeaLake']\n",
            "Stratified split sizes: train=21600, val=2700, test=2700\n",
            "Train/Test loaders: 759/85 batches\n",
            "Train + Val loader: 759 batches\n"
          ]
        },
        {
          "data": {
            "text/html": [
              "Finishing previous runs because reinit is set to 'default'."
            ],
            "text/plain": [
              "<IPython.core.display.HTML object>"
            ]
          },
          "metadata": {},
          "output_type": "display_data"
        },
        {
          "data": {
            "text/html": [],
            "text/plain": [
              "<IPython.core.display.HTML object>"
            ]
          },
          "metadata": {},
          "output_type": "display_data"
        },
        {
          "data": {
            "text/html": [
              "<br>    <style><br>        .wandb-row {<br>            display: flex;<br>            flex-direction: row;<br>            flex-wrap: wrap;<br>            justify-content: flex-start;<br>            width: 100%;<br>        }<br>        .wandb-col {<br>            display: flex;<br>            flex-direction: column;<br>            flex-basis: 100%;<br>            flex: 1;<br>            padding: 10px;<br>        }<br>    </style><br><div class=\"wandb-row\"><div class=\"wandb-col\"><h3>Run history:</h3><br/><table class=\"wandb\"><tr><td>epoch</td><td>▁█</td></tr><tr><td>linear_probe_accuracy</td><td>▁██</td></tr><tr><td>linear_probe_loss</td><td>█▁▁</td></tr><tr><td>test_accuracy</td><td>▁</td></tr></table><br/></div><div class=\"wandb-col\"><h3>Run summary:</h3><br/><table class=\"wandb\"><tr><td>epoch</td><td>2</td></tr><tr><td>linear_probe_accuracy</td><td>49.49769</td></tr><tr><td>linear_probe_loss</td><td>2.23095</td></tr><tr><td>test_accuracy</td><td>54.48148</td></tr></table><br/></div></div>"
            ],
            "text/plain": [
              "<IPython.core.display.HTML object>"
            ]
          },
          "metadata": {},
          "output_type": "display_data"
        },
        {
          "data": {
            "text/html": [
              " View run <strong style=\"color:#cdcd00\">linear_probe_seed42_temperature0.2_bs32</strong> at: <a href='https://wandb.ai/analiju-paris/linear_probe_eurosat-simclr/runs/ixe95oka' target=\"_blank\">https://wandb.ai/analiju-paris/linear_probe_eurosat-simclr/runs/ixe95oka</a><br> View project at: <a href='https://wandb.ai/analiju-paris/linear_probe_eurosat-simclr' target=\"_blank\">https://wandb.ai/analiju-paris/linear_probe_eurosat-simclr</a><br>Synced 5 W&B file(s), 0 media file(s), 0 artifact file(s) and 0 other file(s)"
            ],
            "text/plain": [
              "<IPython.core.display.HTML object>"
            ]
          },
          "metadata": {},
          "output_type": "display_data"
        },
        {
          "data": {
            "text/html": [
              "Find logs at: <code>./wandb/run-20250618_184308-ixe95oka/logs</code>"
            ],
            "text/plain": [
              "<IPython.core.display.HTML object>"
            ]
          },
          "metadata": {},
          "output_type": "display_data"
        },
        {
          "data": {
            "text/html": [
              "Tracking run with wandb version 0.19.11"
            ],
            "text/plain": [
              "<IPython.core.display.HTML object>"
            ]
          },
          "metadata": {},
          "output_type": "display_data"
        },
        {
          "data": {
            "text/html": [
              "Run data is saved locally in <code>/users/c/carvalhj/projects/eurosat_preprocessing/exploratory_notebooks/wandb/run-20250618_184537-3jb2wfwq</code>"
            ],
            "text/plain": [
              "<IPython.core.display.HTML object>"
            ]
          },
          "metadata": {},
          "output_type": "display_data"
        },
        {
          "data": {
            "text/html": [
              "Syncing run <strong><a href='https://wandb.ai/analiju-paris/linear_probe_eurosat-simclr/runs/3jb2wfwq' target=\"_blank\">linear_probe_seed42_temperature0.2_bs32</a></strong> to <a href='https://wandb.ai/analiju-paris/linear_probe_eurosat-simclr' target=\"_blank\">Weights & Biases</a> (<a href='https://wandb.me/developer-guide' target=\"_blank\">docs</a>)<br>"
            ],
            "text/plain": [
              "<IPython.core.display.HTML object>"
            ]
          },
          "metadata": {},
          "output_type": "display_data"
        },
        {
          "data": {
            "text/html": [
              " View project at <a href='https://wandb.ai/analiju-paris/linear_probe_eurosat-simclr' target=\"_blank\">https://wandb.ai/analiju-paris/linear_probe_eurosat-simclr</a>"
            ],
            "text/plain": [
              "<IPython.core.display.HTML object>"
            ]
          },
          "metadata": {},
          "output_type": "display_data"
        },
        {
          "data": {
            "text/html": [
              " View run at <a href='https://wandb.ai/analiju-paris/linear_probe_eurosat-simclr/runs/3jb2wfwq' target=\"_blank\">https://wandb.ai/analiju-paris/linear_probe_eurosat-simclr/runs/3jb2wfwq</a>"
            ],
            "text/plain": [
              "<IPython.core.display.HTML object>"
            ]
          },
          "metadata": {},
          "output_type": "display_data"
        },
        {
          "name": "stdout",
          "output_type": "stream",
          "text": [
            "Starting linear probe training...\n",
            "[Linear Probe] Epoch 1/2 - Loss: 2.2535, Accuracy: 44.87%\n"
          ]
        },
        {
          "name": "stderr",
          "output_type": "stream",
          "text": [
            "/users/c/carvalhj/miniconda3/envs/myenv/lib/python3.10/site-packages/torch/optim/lr_scheduler.py:240: UserWarning: The epoch parameter in `scheduler.step()` was not necessary and is being deprecated where possible. Please use `scheduler.step()` to step the scheduler. During the deprecation, if epoch is different from None, the closed form is used instead of the new chainable form, where available. Please open an issue if you are unable to replicate your use case: https://github.com/pytorch/pytorch/issues/new/choose.\n",
            "  warnings.warn(EPOCH_DEPRECATION_WARNING, UserWarning)\n"
          ]
        },
        {
          "name": "stdout",
          "output_type": "stream",
          "text": [
            "[Linear Probe] Epoch 2/2 - Loss: 2.2310, Accuracy: 49.51%\n",
            "Test Accuracy: 54.26%\n",
            "Linear probe accuracy: 49.51%, Test accuracy: 54.26%\n"
          ]
        }
      ],
      "source": [
        "# get the saved model and run linear probe\n",
        "seed = CONFIG[\"SEED\"]\n",
        "bs = CONFIG[\"BATCH_SIZE\"]\n",
        "model_path = f\"models/simclr_model_seed{seed}_temperature{TEMPERATURE}_bs{bs}.pth\"\n",
        "\n",
        "if not os.path.exists(model_path):\n",
        "    print(f\"Model {model_path} does not exist. Please run the SimCLR pretraining first.\")\n",
        "\n",
        "base_encoder = resnet50(weights=None)\n",
        "simclr_model = SimCLRModel(base_encoder, proj_dim=CONFIG[\"PROJ_DIM\"])\n",
        "checkpoint_path = f\"models/simclr_model_seed{seed}_temperature{TEMPERATURE}_bs{bs}.pth\"\n",
        "state_dict = torch.load(checkpoint_path, map_location=torch.device(DEVICE), weights_only=True)\n",
        "simclr_model.load_state_dict(state_dict)\n",
        "\n",
        "\n",
        "train_loader, test_loader, num_classes = get_data_loaders_train_test_linear_probe(CONFIG[\"DATA_DIR_LOCAL\"], CONFIG[\"BATCH_SIZE\"])\n",
        "# Run linear probe experiment\n",
        "run_linear_probe_experiment(\n",
        "    42,\n",
        "    train_loader,\n",
        "    None,  # No validation loader for linear probe\n",
        "    test_loader,\n",
        "    num_classes,\n",
        "    simclr_model,\n",
        "    bs\n",
        ")\n"
      ]
    }
  ],
  "metadata": {
    "accelerator": "GPU",
    "colab": {
      "gpuType": "T4",
      "provenance": []
    },
    "kernelspec": {
      "display_name": "myenv",
      "language": "python",
      "name": "python3"
    },
    "language_info": {
      "codemirror_mode": {
        "name": "ipython",
        "version": 3
      },
      "file_extension": ".py",
      "mimetype": "text/x-python",
      "name": "python",
      "nbconvert_exporter": "python",
      "pygments_lexer": "ipython3",
      "version": "3.10.16"
    }
  },
  "nbformat": 4,
  "nbformat_minor": 0
}
