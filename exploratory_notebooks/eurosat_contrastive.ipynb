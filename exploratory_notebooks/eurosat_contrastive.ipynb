{
  "cells": [
    {
      "cell_type": "markdown",
      "metadata": {},
      "source": [
        "# Implementation of the SIMCLR with resnet50 backbone"
      ]
    },
    {
      "cell_type": "code",
      "execution_count": 1,
      "metadata": {},
      "outputs": [
        {
          "name": "stderr",
          "output_type": "stream",
          "text": [
            "\u001b[34m\u001b[1mwandb\u001b[0m: Currently logged in as: \u001b[33manaliju\u001b[0m (\u001b[33manaliju-paris\u001b[0m) to \u001b[32mhttps://api.wandb.ai\u001b[0m. Use \u001b[1m`wandb login --relogin`\u001b[0m to force relogin\n"
          ]
        },
        {
          "data": {
            "text/plain": [
              "True"
            ]
          },
          "execution_count": 1,
          "metadata": {},
          "output_type": "execute_result"
        }
      ],
      "source": [
        "import wandb\n",
        "wandb.login()  # Opens a browser once to authenticate\n"
      ]
    },
    {
      "cell_type": "code",
      "execution_count": 2,
      "metadata": {
        "colab": {
          "base_uri": "https://localhost:8080/"
        },
        "id": "iBlEnEB7Rzfu",
        "outputId": "f0106383-237e-475e-d660-715dcc591a87"
      },
      "outputs": [],
      "source": [
        "import os\n",
        "import ssl\n",
        "import zipfile\n",
        "import torch\n",
        "import torch.nn as nn\n",
        "import torch.nn.functional as F\n",
        "import torch.optim as optim\n",
        "from torchvision import transforms, datasets, models\n",
        "from torch.utils.data import DataLoader, random_split, Dataset, Subset\n",
        "from torchvision.models import resnet50\n",
        "from PIL import Image\n",
        "import numpy as np\n",
        "import random\n",
        "from sklearn.model_selection import StratifiedShuffleSplit\n",
        "from torch.optim.lr_scheduler import LinearLR, CosineAnnealingLR, SequentialLR\n",
        "import seaborn as sns\n"
      ]
    },
    {
      "cell_type": "code",
      "execution_count": null,
      "metadata": {},
      "outputs": [],
      "source": [
        "\n",
        "# Prevent nondeterminism\n",
        "os.environ['CUDA_LAUNCH_BLOCKING'] = '1'\n",
        "torch.backends.cudnn.enabled = False\n",
        "\n",
        "CONFIG = {\n",
        "    \"LOCAL_OR_COLAB\": \"LOCAL\",\n",
        "    \"DATA_DIR_LOCAL\": \"/share/DEEPLEARNING/carvalhj/EuroSAT_RGB/\",\n",
        "    \"DATA_DIR_COLAB\": \"/content/EuroSAT_RGB\",\n",
        "    \"ZIP_PATH\": \"/content/EuroSAT.zip\",\n",
        "    \"EUROSAT_URL\": \"https://madm.dfki.de/files/sentinel/EuroSAT.zip\",\n",
        "    \"SEED\": 42,  \n",
        "    \"BATCH_SIZE\": 128,\n",
        "    \"LR\": 3.75e-4,\n",
        "    \"WD\": 0.5,\n",
        "    \"LR_LINEAR\": 3.75e-4,\n",
        "    \"EPOCHS_SIMCLR\": 10,\n",
        "    \"EPOCHS_LINEAR\": 10,\n",
        "    \"PROJ_DIM\": 128,\n",
        "    \"FEATURE_DIM\": 2048, # ResNet50 feature dimension = 2048\n",
        "}\n",
        "\n",
        "DEVICE = torch.device(\"cuda\" if torch.cuda.is_available() else \"cpu\")\n",
        "\n",
        "# split fractions\n",
        "TRAIN_FRAC = 0.8\n",
        "VAL_FRAC   = 0.1\n",
        "TEST_FRAC  = 0.1\n",
        "\n",
        "SEED = CONFIG[\"SEED\"]\n",
        "\n",
        "PRETRAINED = False\n",
        "\n",
        "TEMPERATURE = 0.2\n",
        "\n",
        "BETAS=(0.9,0.98)\n",
        "EPS = 1e-8\n",
        "\n",
        "LINEAR_PROB_TRAIN_SPLIT = 0.75\n",
        "\n",
        "GLOBAL_SEED = CONFIG[\"SEED\"]\n",
        "NUM_WORKERS = 4"
      ]
    },
    {
      "cell_type": "code",
      "execution_count": null,
      "metadata": {},
      "outputs": [],
      "source": [
        "\n",
        "def set_seed(seed):\n",
        "    torch.manual_seed(seed)\n",
        "    torch.cuda.manual_seed_all(seed)\n",
        "    np.random.seed(seed)\n",
        "    random.seed(seed)\n",
        "    torch.backends.cudnn.deterministic = True\n",
        "    torch.backends.cudnn.benchmark     = False\n",
        "\n",
        "def prepare_data():\n",
        "    if CONFIG[\"LOCAL_OR_COLAB\"] == \"LOCAL\":\n",
        "        return CONFIG[\"DATA_DIR_LOCAL\"]\n",
        "\n",
        "    if not os.path.exists(CONFIG[\"DATA_DIR_COLAB\"]):\n",
        "        print(\"Downloading EuroSAT RGB...\")\n",
        "        ssl._create_default_https_context = ssl._create_unverified_context\n",
        "        urllib.request.urlretrieve(CONFIG[\"EUROSAT_URL\"], CONFIG[\"ZIP_PATH\"])\n",
        "        with zipfile.ZipFile(CONFIG[\"ZIP_PATH\"], 'r') as zip_ref:\n",
        "            zip_ref.extractall(\"/content\")\n",
        "        os.rename(\"/content/2750\", CONFIG[\"DATA_DIR_COLAB\"])\n",
        "        print(\"EuroSAT RGB dataset downloaded and extracted.\")\n",
        "    return CONFIG[\"DATA_DIR_COLAB\"]\n",
        "\n",
        "\n",
        "def compute_mean_std(dataset, batch_size):\n",
        "    loader = DataLoader(dataset, batch_size, shuffle=False, num_workers=2)\n",
        "    mean = 0.0\n",
        "    std = 0.0\n",
        "    n_samples = 0\n",
        "\n",
        "    for data, _ in loader:\n",
        "        batch_samples = data.size(0)\n",
        "        data = data.view(batch_samples, data.size(1), -1)  # (B, C, H*W)\n",
        "        mean += data.mean(2).sum(0)\n",
        "        std += data.std(2).sum(0)\n",
        "        n_samples += batch_samples\n",
        "\n",
        "    mean /= n_samples\n",
        "    std /= n_samples\n",
        "    return mean.tolist(), std.tolist()\n",
        "\n",
        "\n",
        "class TwoCropsTransform:\n",
        "    def __init__(self, base_transform):\n",
        "        self.base_transform = base_transform\n",
        "\n",
        "    def __call__(self, x):\n",
        "        return [self.base_transform(x), self.base_transform(x)]\n",
        "    \n",
        "class SimCLRDataset(Dataset):\n",
        "    def __init__(self, dataset, transform):\n",
        "        self.dataset = dataset\n",
        "        self.transform = transform\n",
        "\n",
        "    def __len__(self):\n",
        "        return len(self.dataset)\n",
        "\n",
        "    def __getitem__(self, idx):\n",
        "        x, _ = self.dataset[idx]\n",
        "        x1, x2 = self.transform(x)\n",
        "        return x1, x2\n",
        "\n",
        "def get_split_indexes(labels, total_count):\n",
        "    indices = np.arange(total_count)\n",
        "    np.random.seed(SEED) # for reproducibility\n",
        "    np.random.shuffle(indices)\n",
        "\n",
        "    train_split = int(0.8 * total_count)\n",
        "    val_split = int(0.9 * total_count)\n",
        "\n",
        "    train_idx = indices[:train_split]\n",
        "    val_idx = indices[train_split:val_split]\n",
        "    test_idx = indices[val_split:]\n",
        "    return train_idx, val_idx, test_idx\n",
        "\n",
        "\n",
        "def get_data_loaders(data_dir, batch_size):\n",
        "\n",
        "    dataset_for_stats = datasets.ImageFolder(\n",
        "        root=data_dir,\n",
        "        transform=transforms.ToTensor()\n",
        "    )\n",
        "    total_len = len(dataset_for_stats)\n",
        "    n_train = int(TRAIN_FRAC * total_len)\n",
        "    n_val   = int(VAL_FRAC   * total_len)\n",
        "    n_test  = total_len - n_train - n_val\n",
        "\n",
        "    train_for_stats, val_for_stats, test_for_stats = random_split(\n",
        "        dataset_for_stats,\n",
        "        [n_train, n_val, n_test]\n",
        "    )\n",
        "    \n",
        "    mean, std = compute_mean_std(train_for_stats, batch_size)\n",
        "\n",
        "    dataset_train_no_transform = datasets.ImageFolder(\n",
        "        root=data_dir,\n",
        "        transform=None\n",
        "    )\n",
        "\n",
        "    generator = torch.Generator().manual_seed(seed)\n",
        "    train_indices, val_indices, test_indices = random_split(\n",
        "        list(range(total_len)),\n",
        "        [n_train, n_val, n_test],\n",
        "        generator=generator\n",
        "    )\n",
        "    \n",
        "    all_indices = list(range(total_len))\n",
        "    rnd = random.Random(seed)\n",
        "    rnd.shuffle(all_indices)\n",
        "    train_indices = all_indices[:n_train]\n",
        "    val_indices   = all_indices[n_train : n_train + n_val]\n",
        "    test_indices  = all_indices[n_train + n_val : ]\n",
        "\n",
        "    # Now build Subsets pointing to dataset_train_no_transform:\n",
        "    train_subset_no_transform = Subset(dataset_train_no_transform, train_indices)\n",
        "\n",
        "    # 3) IMAGEFOLDER FOR VALIDATION/TEST (WITH EVAL TRANSFORM)\n",
        "    eval_transform = transforms.Compose([\n",
        "        transforms.Resize(72),\n",
        "        transforms.CenterCrop(64),\n",
        "        transforms.ToTensor(),\n",
        "        transforms.Normalize(mean=mean, std=std),\n",
        "    ])\n",
        "    dataset_eval = datasets.ImageFolder(\n",
        "        root=data_dir,\n",
        "        transform=eval_transform\n",
        "    )\n",
        "    val_subset = Subset(dataset_eval, val_indices)\n",
        "    test_subset = Subset(dataset_eval, test_indices)\n",
        "\n",
        "    # DEFINE SIMCLR TRANSFORMS FOR TRAIN\n",
        "    normalize = transforms.Normalize(mean=mean, std=std)\n",
        "    augment_transform = transforms.Compose([\n",
        "        transforms.RandomResizedCrop(64, scale=(0.5, 1.0)),\n",
        "        transforms.RandomHorizontalFlip(),\n",
        "    \n",
        "        transforms.RandomGrayscale(p=0.2),\n",
        "        transforms.ToTensor(),\n",
        "        normalize,\n",
        "    ])\n",
        "    simclr_transform = TwoCropsTransform(augment_transform)\n",
        "    train_ds_simclr = SimCLRDataset(train_subset_no_transform, simclr_transform)\n",
        "\n",
        "    train_loader = DataLoader(\n",
        "        train_ds_simclr,\n",
        "        batch_size=batch_size,\n",
        "        shuffle=True,\n",
        "        drop_last=True,\n",
        "        num_workers=2\n",
        "    )\n",
        "    val_loader = DataLoader(\n",
        "        val_subset,\n",
        "        batch_size=batch_size,\n",
        "        shuffle=False,\n",
        "        num_workers=2\n",
        "    )\n",
        "    test_loader = DataLoader(\n",
        "        test_subset,\n",
        "        batch_size=batch_size,\n",
        "        shuffle=False,\n",
        "        num_workers=2\n",
        "    )\n",
        "\n",
        "    num_classes = len(dataset_for_stats.classes)\n",
        "    return train_loader, val_loader, test_loader, num_classes\n",
        "\n",
        "class ProjectionHead(nn.Module):\n",
        "    def __init__(self, input_dim, proj_dim=128, hidden_dim=2048):\n",
        "        super().__init__()\n",
        "        self.net = nn.Sequential(\n",
        "            nn.Linear(input_dim, hidden_dim),\n",
        "            nn.BatchNorm1d(hidden_dim),\n",
        "            nn.ReLU(),\n",
        "            nn.Linear(hidden_dim, proj_dim)\n",
        "        )\n",
        "\n",
        "    def forward(self, x):\n",
        "        return self.net(x)\n",
        "\n",
        "class SimCLRModel(nn.Module):\n",
        "    def __init__(self, base_encoder, proj_dim=128):\n",
        "        super().__init__()\n",
        "        self.encoder = base_encoder\n",
        "        self.encoder.fc = nn.Identity()\n",
        "        self.projection_head = ProjectionHead(input_dim=CONFIG[\"FEATURE_DIM\"], proj_dim=proj_dim)\n",
        "\n",
        "    def forward(self, x):\n",
        "        feat = self.encoder(x)\n",
        "        proj = self.projection_head(feat)\n",
        "        return feat, proj\n",
        "\n",
        "class NTXentLoss(nn.Module):\n",
        "    def __init__(self, batch_size, temperature=0.5, device='cuda'):\n",
        "        super().__init__()\n",
        "        self.temperature = temperature\n",
        "        self.batch_size = batch_size\n",
        "        self.device = device\n",
        "        self.criterion = nn.CrossEntropyLoss()\n",
        "\n",
        "    def forward(self, zis, zjs):\n",
        "        N = zis.size(0)\n",
        "        z = F.normalize(torch.cat([zis, zjs], dim=0), dim=1)\n",
        "        sim = torch.matmul(z, z.T) / self.temperature\n",
        "        mask = torch.eye(2 * N, dtype=torch.bool).to(self.device)\n",
        "        sim = sim.masked_fill(mask, -1e9)\n",
        "        labels = torch.cat([torch.arange(N, 2 * N), torch.arange(0, N)]).to(self.device)\n",
        "        # return self.x(sim, labels)\n",
        "        return self.criterion(sim, labels)\n",
        "\n",
        "def train_simclr(model, train_loader, val_loader, optimizer, criterion, device, epochs, scheduler=None):\n",
        "    model.train()\n",
        "    model.to(device)\n",
        "    # Start a W&B run here\n",
        "   \n",
        "    for epoch in range(epochs):\n",
        "        total_loss = 0\n",
        "        for (x1, x2) in train_loader:\n",
        "            x1, x2 = x1.to(device), x2.to(device)\n",
        "            _, z1 = model(x1)\n",
        "            _, z2 = model(x2)\n",
        "            loss = criterion(z1, z2)\n",
        "            optimizer.zero_grad()\n",
        "            loss.backward()\n",
        "            optimizer.step()\n",
        "            if scheduler:\n",
        "                scheduler.step()\n",
        "            total_loss += loss.item()\n",
        "        avg = total_loss / len(train_loader)\n",
        "        # print(f\"[SimCLR] Epoch {epoch+1}/{epochs} - Loss: {avg:.4f}\")\n",
        "        # wandb.log({\"epoch\": epoch + 1, \"loss\": avg})\n",
        "        # Evaluate on validation set\n",
        "        # val_accuracy = evaluate(model.encoder, model.projection_head, val_loader, device)\n",
        "        # print(f\"[SimCLR] Validation Accuracy: {val_accuracy:.2f}%\")\n",
        "        # wandb.log({\"val_accuracy\": val_accuracy})\n",
        "        print(f\"[SimCLR] Epoch {epoch+1}/{epochs} - Train Loss: {avg:.4f}%\")\n",
        "        \n",
        "    print(\"Finished SimCLR pretraining.\")\n",
        "\n",
        "def evaluate(classifier, backbone, loader, device):\n",
        "    classifier.eval()\n",
        "    correct, total = 0, 0\n",
        "    with torch.no_grad():\n",
        "        for images, labels in loader:\n",
        "            images, labels = images.to(device), labels.to(device)\n",
        "            features = backbone(images)\n",
        "            outputs = classifier(features)\n",
        "            total += labels.size(0)\n",
        "            correct += (outputs.argmax(1) == labels).sum().item()\n",
        "    return correct / total * 100\n",
        "\n",
        "def make_optimizer_scheduler(params, lr, wd, steps_per_epoch, epochs):\n",
        "    opt = optim.Adam(params.parameters(), lr=CONFIG[\"LR\"])\n",
        "    return opt, None"
      ]
    },
    {
      "cell_type": "code",
      "execution_count": null,
      "metadata": {},
      "outputs": [],
      "source": [
        "def train_linear_probe(backbone, train_loader, val_loader, device, epochs, lr, run_id):\n",
        "    for p in backbone.parameters():\n",
        "        p.requires_grad = False\n",
        "\n",
        "    base_ds = train_loader.dataset\n",
        "    while isinstance(base_ds, Subset):\n",
        "        base_ds = base_ds.dataset\n",
        "    num_classes = len(base_ds.classes)\n",
        "\n",
        "    classifier = nn.Linear(CONFIG[\"FEATURE_DIM\"], num_classes).to(device)\n",
        "\n",
        "    optimizer, _ = make_optimizer_scheduler(\n",
        "        classifier.parameters(),\n",
        "        lr=lr,\n",
        "        wd=CONFIG[\"WD\"],\n",
        "        steps_per_epoch=len(train_loader),\n",
        "        epochs=epochs\n",
        "    )\n",
        "    wandb.init(\n",
        "        project=\"EuroSAT_SimCLR_LinearProbe\",\n",
        "        name=f\"LinearProbe_Seed{run_id}\",\n",
        "        config=CONFIG,\n",
        "    )\n",
        "    wandb.watch(classifier, log=\"all\", log_freq=100)\n",
        "\n",
        "    criterion = nn.CrossEntropyLoss()\n",
        "\n",
        "\n",
        "    for epoch in range(epochs):\n",
        "        classifier.train()\n",
        "        correct, total = 0, 0\n",
        "        for images, labels in train_loader:\n",
        "            images, labels = images.to(device), labels.to(device)\n",
        "            features = backbone(images)\n",
        "            outputs = classifier(features)\n",
        "            loss = criterion(outputs, labels)\n",
        "            optimizer.zero_grad()\n",
        "            loss.backward()\n",
        "            optimizer.step()\n",
        "            \n",
        "            total += labels.size(0)\n",
        "            correct += (outputs.argmax(1) == labels).sum().item()\n",
        "\n",
        "        train_acc = correct / total * 100\n",
        "        val_acc = evaluate(classifier, backbone, val_loader, device)\n",
        "        print(f\"[Linear] Epoch {epoch+1}/{epochs} - \"\n",
        "              f\"Train Acc: {train_acc:.2f}%, Val Acc: {val_acc:.2f}%\")\n",
        "\n",
        "    torch.save(classifier.state_dict(), f\"linear_probe_seed{run_id}.pth\")\n",
        "    return val_acc\n",
        "\n",
        "def load_evaluate_model(model_path, device, data_dir, seed):\n",
        "\n",
        "    wandb.init(\n",
        "        project=\"EuroSAT_SimCLR_LinearProbe\",\n",
        "        name=f\"LinearProbe_Seed{seed}\",\n",
        "        config=CONFIG,\n",
        "    )\n",
        "    results = []\n",
        "\n",
        "    backbone = resnet50(weights=None if not PRETRAINED else \"DEFAULT\")\n",
        "    backbone.fc = nn.Identity()  # same as in SimCLRModel\n",
        "    backbone.load_state_dict(torch.load(model_path), strict=False)\n",
        "    backbone.to(device)    \n",
        "    backbone.eval()\n",
        "    for p in backbone.parameters():\n",
        "        p.requires_grad = False\n",
        "\n",
        "    _, _, test_loader, _ = get_data_loaders(data_dir, CONFIG[\"BATCH_SIZE\"])\n",
        "    print(f\"Starting linear probe on EuroSAT test split (seed={seed})...\")\n",
        "\n",
        "    full_test_ds = test_loader.dataset  # this is a Subset of dataset_eval\n",
        "    train_size = int(LINEAR_PROB_TRAIN_SPLIT * len(full_test_ds))\n",
        "    val_size = len(full_test_ds) - train_size\n",
        "    train_dataset, val_dataset = random_split(full_test_ds, [train_size, val_size])\n",
        "\n",
        "    train_loader_from_test = DataLoader(\n",
        "        train_dataset,\n",
        "        batch_size=CONFIG[\"BATCH_SIZE\"],\n",
        "        shuffle=True,\n",
        "        num_workers=2\n",
        "    )\n",
        "    val_loader_from_test = DataLoader(\n",
        "        val_dataset,\n",
        "        batch_size=CONFIG[\"BATCH_SIZE\"],\n",
        "        shuffle=False,\n",
        "        num_workers=2\n",
        "    )\n",
        "\n",
        "    linear_probe_val_acc = train_linear_probe(\n",
        "        backbone,\n",
        "        train_loader_from_test,\n",
        "        val_loader_from_test,\n",
        "        DEVICE,\n",
        "        epochs=CONFIG[\"EPOCHS_LINEAR\"],\n",
        "        lr=CONFIG[\"LR_LINEAR\"],\n",
        "        run_id=seed\n",
        "    )\n",
        "    wandb.log({\"linear_probe_val_acc\": linear_probe_val_acc})\n",
        "    wandb.finish()\n",
        "    print(f\"[Linear‐Probe on EuroSAT test] Final Val Acc = {linear_probe_val_acc:.2f}%\\n\")\n",
        "\n",
        "    results.append({\n",
        "        \"seed\": seed,\n",
        "        \"val_acc\": linear_probe_val_acc\n",
        "    })\n",
        "    with open(\"linear_probe_results.txt\", \"a\") as f:\n",
        "        f.write(f\"Seed: {seed}, Val Acc: {linear_probe_val_acc:.2f}%\\n\")\n",
        "    print(\"Results saved to linear_probe_results.txt\")\n",
        "    return results"
      ]
    },
    {
      "cell_type": "code",
      "execution_count": 6,
      "metadata": {},
      "outputs": [
        {
          "name": "stdout",
          "output_type": "stream",
          "text": [
            "\n",
            "=== Starting run with seed 42 ===\n"
          ]
        },
        {
          "name": "stdout",
          "output_type": "stream",
          "text": [
            "Starting SimCLR training...\n"
          ]
        },
        {
          "data": {
            "text/html": [
              "Tracking run with wandb version 0.19.11"
            ],
            "text/plain": [
              "<IPython.core.display.HTML object>"
            ]
          },
          "metadata": {},
          "output_type": "display_data"
        },
        {
          "data": {
            "text/html": [
              "Run data is saved locally in <code>/users/c/carvalhj/projects/eurosat_preprocessing/exploratory_notebooks/wandb/run-20250613_134440-15xddlnq</code>"
            ],
            "text/plain": [
              "<IPython.core.display.HTML object>"
            ]
          },
          "metadata": {},
          "output_type": "display_data"
        },
        {
          "data": {
            "text/html": [
              "Syncing run <strong><a href='https://wandb.ai/analiju-paris/eurosat-contrastive-scratch-grid-search/runs/15xddlnq' target=\"_blank\">BS128_LR4e-04_SEED42_TEMPERATURE0.2</a></strong> to <a href='https://wandb.ai/analiju-paris/eurosat-contrastive-scratch-grid-search' target=\"_blank\">Weights & Biases</a> (<a href='https://wandb.me/developer-guide' target=\"_blank\">docs</a>)<br>"
            ],
            "text/plain": [
              "<IPython.core.display.HTML object>"
            ]
          },
          "metadata": {},
          "output_type": "display_data"
        },
        {
          "data": {
            "text/html": [
              " View project at <a href='https://wandb.ai/analiju-paris/eurosat-contrastive-scratch-grid-search' target=\"_blank\">https://wandb.ai/analiju-paris/eurosat-contrastive-scratch-grid-search</a>"
            ],
            "text/plain": [
              "<IPython.core.display.HTML object>"
            ]
          },
          "metadata": {},
          "output_type": "display_data"
        },
        {
          "data": {
            "text/html": [
              " View run at <a href='https://wandb.ai/analiju-paris/eurosat-contrastive-scratch-grid-search/runs/15xddlnq' target=\"_blank\">https://wandb.ai/analiju-paris/eurosat-contrastive-scratch-grid-search/runs/15xddlnq</a>"
            ],
            "text/plain": [
              "<IPython.core.display.HTML object>"
            ]
          },
          "metadata": {},
          "output_type": "display_data"
        },
        {
          "name": "stdout",
          "output_type": "stream",
          "text": [
            "[SimCLR] Epoch 1/10 - Train Loss: 3.5432%\n"
          ]
        },
        {
          "name": "stderr",
          "output_type": "stream",
          "text": [
            "/users/c/carvalhj/miniconda3/envs/myenv/lib/python3.10/site-packages/torch/optim/lr_scheduler.py:240: UserWarning: The epoch parameter in `scheduler.step()` was not necessary and is being deprecated where possible. Please use `scheduler.step()` to step the scheduler. During the deprecation, if epoch is different from None, the closed form is used instead of the new chainable form, where available. Please open an issue if you are unable to replicate your use case: https://github.com/pytorch/pytorch/issues/new/choose.\n",
            "  warnings.warn(EPOCH_DEPRECATION_WARNING, UserWarning)\n"
          ]
        },
        {
          "name": "stdout",
          "output_type": "stream",
          "text": [
            "[SimCLR] Epoch 2/10 - Train Loss: 2.1323%\n",
            "[SimCLR] Epoch 3/10 - Train Loss: 1.8009%\n",
            "[SimCLR] Epoch 4/10 - Train Loss: 1.6473%\n",
            "[SimCLR] Epoch 5/10 - Train Loss: 1.5703%\n",
            "[SimCLR] Epoch 6/10 - Train Loss: 1.5027%\n",
            "[SimCLR] Epoch 7/10 - Train Loss: 1.4596%\n",
            "[SimCLR] Epoch 8/10 - Train Loss: 1.4277%\n",
            "[SimCLR] Epoch 9/10 - Train Loss: 1.4083%\n",
            "[SimCLR] Epoch 10/10 - Train Loss: 1.3981%\n",
            "Finished SimCLR pretraining.\n"
          ]
        },
        {
          "data": {
            "text/html": [],
            "text/plain": [
              "<IPython.core.display.HTML object>"
            ]
          },
          "metadata": {},
          "output_type": "display_data"
        },
        {
          "data": {
            "text/html": [
              " View run <strong style=\"color:#cdcd00\">BS128_LR4e-04_SEED42_TEMPERATURE0.2</strong> at: <a href='https://wandb.ai/analiju-paris/eurosat-contrastive-scratch-grid-search/runs/15xddlnq' target=\"_blank\">https://wandb.ai/analiju-paris/eurosat-contrastive-scratch-grid-search/runs/15xddlnq</a><br> View project at: <a href='https://wandb.ai/analiju-paris/eurosat-contrastive-scratch-grid-search' target=\"_blank\">https://wandb.ai/analiju-paris/eurosat-contrastive-scratch-grid-search</a><br>Synced 5 W&B file(s), 0 media file(s), 0 artifact file(s) and 0 other file(s)"
            ],
            "text/plain": [
              "<IPython.core.display.HTML object>"
            ]
          },
          "metadata": {},
          "output_type": "display_data"
        },
        {
          "data": {
            "text/html": [
              "Find logs at: <code>./wandb/run-20250613_134440-15xddlnq/logs</code>"
            ],
            "text/plain": [
              "<IPython.core.display.HTML object>"
            ]
          },
          "metadata": {},
          "output_type": "display_data"
        },
        {
          "name": "stdout",
          "output_type": "stream",
          "text": [
            "Saving encoder...\n"
          ]
        }
      ],
      "source": [
        "\n",
        "seeds = [GLOBAL_SEED]\n",
        "\n",
        "for seed in seeds:\n",
        "    print(f\"\\n=== Starting run with seed {seed} ===\")\n",
        "    set_seed(seed)\n",
        "    \n",
        "    data_dir = prepare_data()\n",
        "    train_loader, val_loader, test_loader, num_classes = get_data_loaders(data_dir, CONFIG[\"BATCH_SIZE\"])\n",
        "\n",
        "    # Initialize base encoder and SimCLR model\n",
        "    base_encoder = resnet50(weights=None)\n",
        "    simclr_model = SimCLRModel(base_encoder, proj_dim=CONFIG[\"PROJ_DIM\"])\n",
        "    # optimizer = optim.Adam(simclr_model.parameters(), lr=CONFIG[\"LR\"])\n",
        "    wd =  0.5 \n",
        "    optimizer, scheduler = make_optimizer_scheduler(\n",
        "        simclr_model.parameters(),\n",
        "        CONFIG[\"LR\"],\n",
        "        CONFIG[\"WD\"],\n",
        "        len(train_loader),\n",
        "        CONFIG[\"EPOCHS_SIMCLR\"]\n",
        "        )\n",
        "    \n",
        "    bs = CONFIG[\"BATCH_SIZE\"]\n",
        "    loss_fn = NTXentLoss(bs, temperature=TEMPERATURE, device=DEVICE)\n",
        "\n",
        "    print(\"Starting SimCLR training...\")\n",
        "    lr = CONFIG[\"LR\"]\n",
        "    wandb_run = wandb.init(\n",
        "        project=\"eurosat-contrastive-scratch-grid-search\",\n",
        "        name=f\"BS{bs}_LR{lr:.0e}_SEED{seed}_TEMPERATURE{TEMPERATURE}\",\n",
        "        config={\n",
        "            \"seed\": seed,\n",
        "            \"temperature\": TEMPERATURE,\n",
        "            \"model\": \"SimCLR\",\n",
        "            \"dataset\": \"EuroSAT\",\n",
        "            \"batch_size\": bs,\n",
        "            \"learning_rate\": CONFIG[\"LR\"],\n",
        "            \"epochs\": CONFIG[\"EPOCHS_SIMCLR\"],\n",
        "            \"proj_dim\": CONFIG[\"PROJ_DIM\"],\n",
        "            \"feature_dim\": CONFIG[\"FEATURE_DIM\"],\n",
        "            \"pretrained\": PRETRAINED,\n",
        "        }\n",
        "    )\n",
        "    train_simclr(simclr_model, train_loader, val_loader, optimizer, loss_fn, DEVICE, CONFIG[\"EPOCHS_SIMCLR\"], scheduler=scheduler)\n",
        "    wandb_run.finish()\n",
        "\n",
        "    print(\"Saving encoder...\")\n",
        "    torch.save(simclr_model.state_dict(), f\"simclr_model_seed{seed}_temperature{TEMPERATURE}_bs{bs}.pth\")\n"
      ]
    },
    {
      "cell_type": "code",
      "execution_count": 7,
      "metadata": {},
      "outputs": [
        {
          "data": {
            "text/html": [
              "Tracking run with wandb version 0.19.11"
            ],
            "text/plain": [
              "<IPython.core.display.HTML object>"
            ]
          },
          "metadata": {},
          "output_type": "display_data"
        },
        {
          "data": {
            "text/html": [
              "Run data is saved locally in <code>/users/c/carvalhj/projects/eurosat_preprocessing/exploratory_notebooks/wandb/run-20250613_142110-pbzfon0s</code>"
            ],
            "text/plain": [
              "<IPython.core.display.HTML object>"
            ]
          },
          "metadata": {},
          "output_type": "display_data"
        },
        {
          "data": {
            "text/html": [
              "Syncing run <strong><a href='https://wandb.ai/analiju-paris/EuroSAT_SimCLR_LinearProbe/runs/pbzfon0s' target=\"_blank\">LinearProbe_Seed42</a></strong> to <a href='https://wandb.ai/analiju-paris/EuroSAT_SimCLR_LinearProbe' target=\"_blank\">Weights & Biases</a> (<a href='https://wandb.me/developer-guide' target=\"_blank\">docs</a>)<br>"
            ],
            "text/plain": [
              "<IPython.core.display.HTML object>"
            ]
          },
          "metadata": {},
          "output_type": "display_data"
        },
        {
          "data": {
            "text/html": [
              " View project at <a href='https://wandb.ai/analiju-paris/EuroSAT_SimCLR_LinearProbe' target=\"_blank\">https://wandb.ai/analiju-paris/EuroSAT_SimCLR_LinearProbe</a>"
            ],
            "text/plain": [
              "<IPython.core.display.HTML object>"
            ]
          },
          "metadata": {},
          "output_type": "display_data"
        },
        {
          "data": {
            "text/html": [
              " View run at <a href='https://wandb.ai/analiju-paris/EuroSAT_SimCLR_LinearProbe/runs/pbzfon0s' target=\"_blank\">https://wandb.ai/analiju-paris/EuroSAT_SimCLR_LinearProbe/runs/pbzfon0s</a>"
            ],
            "text/plain": [
              "<IPython.core.display.HTML object>"
            ]
          },
          "metadata": {},
          "output_type": "display_data"
        },
        {
          "name": "stderr",
          "output_type": "stream",
          "text": [
            "/tmp/ipykernel_18041/781684196.py:65: FutureWarning: You are using `torch.load` with `weights_only=False` (the current default value), which uses the default pickle module implicitly. It is possible to construct malicious pickle data which will execute arbitrary code during unpickling (See https://github.com/pytorch/pytorch/blob/main/SECURITY.md#untrusted-models for more details). In a future release, the default value for `weights_only` will be flipped to `True`. This limits the functions that could be executed during unpickling. Arbitrary objects will no longer be allowed to be loaded via this mode unless they are explicitly allowlisted by the user via `torch.serialization.add_safe_globals`. We recommend you start setting `weights_only=True` for any use case where you don't have full control of the loaded file. Please open an issue on GitHub for any issues related to this experimental feature.\n",
            "  backbone.load_state_dict(torch.load(model_path), strict=False)\n"
          ]
        },
        {
          "name": "stdout",
          "output_type": "stream",
          "text": [
            "Starting linear probe on EuroSAT test split (seed=42)...\n"
          ]
        },
        {
          "data": {
            "text/html": [
              "Finishing previous runs because reinit is set to 'default'."
            ],
            "text/plain": [
              "<IPython.core.display.HTML object>"
            ]
          },
          "metadata": {},
          "output_type": "display_data"
        },
        {
          "data": {
            "text/html": [],
            "text/plain": [
              "<IPython.core.display.HTML object>"
            ]
          },
          "metadata": {},
          "output_type": "display_data"
        },
        {
          "data": {
            "text/html": [
              " View run <strong style=\"color:#cdcd00\">LinearProbe_Seed42</strong> at: <a href='https://wandb.ai/analiju-paris/EuroSAT_SimCLR_LinearProbe/runs/pbzfon0s' target=\"_blank\">https://wandb.ai/analiju-paris/EuroSAT_SimCLR_LinearProbe/runs/pbzfon0s</a><br> View project at: <a href='https://wandb.ai/analiju-paris/EuroSAT_SimCLR_LinearProbe' target=\"_blank\">https://wandb.ai/analiju-paris/EuroSAT_SimCLR_LinearProbe</a><br>Synced 5 W&B file(s), 0 media file(s), 0 artifact file(s) and 0 other file(s)"
            ],
            "text/plain": [
              "<IPython.core.display.HTML object>"
            ]
          },
          "metadata": {},
          "output_type": "display_data"
        },
        {
          "data": {
            "text/html": [
              "Find logs at: <code>./wandb/run-20250613_142110-pbzfon0s/logs</code>"
            ],
            "text/plain": [
              "<IPython.core.display.HTML object>"
            ]
          },
          "metadata": {},
          "output_type": "display_data"
        },
        {
          "data": {
            "text/html": [
              "Tracking run with wandb version 0.19.11"
            ],
            "text/plain": [
              "<IPython.core.display.HTML object>"
            ]
          },
          "metadata": {},
          "output_type": "display_data"
        },
        {
          "data": {
            "text/html": [
              "Run data is saved locally in <code>/users/c/carvalhj/projects/eurosat_preprocessing/exploratory_notebooks/wandb/run-20250613_142119-hja81cbr</code>"
            ],
            "text/plain": [
              "<IPython.core.display.HTML object>"
            ]
          },
          "metadata": {},
          "output_type": "display_data"
        },
        {
          "data": {
            "text/html": [
              "Syncing run <strong><a href='https://wandb.ai/analiju-paris/EuroSAT_SimCLR_LinearProbe/runs/hja81cbr' target=\"_blank\">LinearProbe_Seed42</a></strong> to <a href='https://wandb.ai/analiju-paris/EuroSAT_SimCLR_LinearProbe' target=\"_blank\">Weights & Biases</a> (<a href='https://wandb.me/developer-guide' target=\"_blank\">docs</a>)<br>"
            ],
            "text/plain": [
              "<IPython.core.display.HTML object>"
            ]
          },
          "metadata": {},
          "output_type": "display_data"
        },
        {
          "data": {
            "text/html": [
              " View project at <a href='https://wandb.ai/analiju-paris/EuroSAT_SimCLR_LinearProbe' target=\"_blank\">https://wandb.ai/analiju-paris/EuroSAT_SimCLR_LinearProbe</a>"
            ],
            "text/plain": [
              "<IPython.core.display.HTML object>"
            ]
          },
          "metadata": {},
          "output_type": "display_data"
        },
        {
          "data": {
            "text/html": [
              " View run at <a href='https://wandb.ai/analiju-paris/EuroSAT_SimCLR_LinearProbe/runs/hja81cbr' target=\"_blank\">https://wandb.ai/analiju-paris/EuroSAT_SimCLR_LinearProbe/runs/hja81cbr</a>"
            ],
            "text/plain": [
              "<IPython.core.display.HTML object>"
            ]
          },
          "metadata": {},
          "output_type": "display_data"
        },
        {
          "name": "stderr",
          "output_type": "stream",
          "text": [
            "/users/c/carvalhj/miniconda3/envs/myenv/lib/python3.10/site-packages/torch/optim/lr_scheduler.py:240: UserWarning: The epoch parameter in `scheduler.step()` was not necessary and is being deprecated where possible. Please use `scheduler.step()` to step the scheduler. During the deprecation, if epoch is different from None, the closed form is used instead of the new chainable form, where available. Please open an issue if you are unable to replicate your use case: https://github.com/pytorch/pytorch/issues/new/choose.\n",
            "  warnings.warn(EPOCH_DEPRECATION_WARNING, UserWarning)\n"
          ]
        },
        {
          "name": "stdout",
          "output_type": "stream",
          "text": [
            "[Linear] Epoch 1/10 - Train Acc: 9.93%, Val Acc: 12.30%\n",
            "[Linear] Epoch 2/10 - Train Acc: 11.16%, Val Acc: 6.81%\n",
            "[Linear] Epoch 3/10 - Train Acc: 12.49%, Val Acc: 14.37%\n",
            "[Linear] Epoch 4/10 - Train Acc: 17.83%, Val Acc: 19.70%\n",
            "[Linear] Epoch 5/10 - Train Acc: 21.33%, Val Acc: 20.00%\n",
            "[Linear] Epoch 6/10 - Train Acc: 25.48%, Val Acc: 24.59%\n",
            "[Linear] Epoch 7/10 - Train Acc: 25.78%, Val Acc: 25.04%\n",
            "[Linear] Epoch 8/10 - Train Acc: 27.46%, Val Acc: 27.85%\n",
            "[Linear] Epoch 9/10 - Train Acc: 28.25%, Val Acc: 24.74%\n",
            "[Linear] Epoch 10/10 - Train Acc: 27.75%, Val Acc: 24.74%\n"
          ]
        },
        {
          "data": {
            "text/html": [],
            "text/plain": [
              "<IPython.core.display.HTML object>"
            ]
          },
          "metadata": {},
          "output_type": "display_data"
        },
        {
          "data": {
            "text/html": [
              "<br>    <style><br>        .wandb-row {<br>            display: flex;<br>            flex-direction: row;<br>            flex-wrap: wrap;<br>            justify-content: flex-start;<br>            width: 100%;<br>        }<br>        .wandb-col {<br>            display: flex;<br>            flex-direction: column;<br>            flex-basis: 100%;<br>            flex: 1;<br>            padding: 10px;<br>        }<br>    </style><br><div class=\"wandb-row\"><div class=\"wandb-col\"><h3>Run history:</h3><br/><table class=\"wandb\"><tr><td>linear_probe_val_acc</td><td>▁</td></tr></table><br/></div><div class=\"wandb-col\"><h3>Run summary:</h3><br/><table class=\"wandb\"><tr><td>linear_probe_val_acc</td><td>24.74074</td></tr></table><br/></div></div>"
            ],
            "text/plain": [
              "<IPython.core.display.HTML object>"
            ]
          },
          "metadata": {},
          "output_type": "display_data"
        },
        {
          "data": {
            "text/html": [
              " View run <strong style=\"color:#cdcd00\">LinearProbe_Seed42</strong> at: <a href='https://wandb.ai/analiju-paris/EuroSAT_SimCLR_LinearProbe/runs/hja81cbr' target=\"_blank\">https://wandb.ai/analiju-paris/EuroSAT_SimCLR_LinearProbe/runs/hja81cbr</a><br> View project at: <a href='https://wandb.ai/analiju-paris/EuroSAT_SimCLR_LinearProbe' target=\"_blank\">https://wandb.ai/analiju-paris/EuroSAT_SimCLR_LinearProbe</a><br>Synced 5 W&B file(s), 0 media file(s), 0 artifact file(s) and 0 other file(s)"
            ],
            "text/plain": [
              "<IPython.core.display.HTML object>"
            ]
          },
          "metadata": {},
          "output_type": "display_data"
        },
        {
          "data": {
            "text/html": [
              "Find logs at: <code>./wandb/run-20250613_142119-hja81cbr/logs</code>"
            ],
            "text/plain": [
              "<IPython.core.display.HTML object>"
            ]
          },
          "metadata": {},
          "output_type": "display_data"
        },
        {
          "name": "stdout",
          "output_type": "stream",
          "text": [
            "[Linear‐Probe on EuroSAT test] Final Val Acc = 24.74%\n",
            "\n",
            "Results saved to linear_probe_results.txt\n",
            "Results for seed 42: [{'seed': 42, 'val_acc': 24.74074074074074}]\n"
          ]
        }
      ],
      "source": [
        "\n",
        "# Run the evaluation\n",
        "for seed in seeds:\n",
        "    results = load_evaluate_model(f\"simclr_model_seed{seed}.pth\", DEVICE, data_dir, seed)\n",
        "    print(f\"Results for seed {seed}: {results}\")\n",
        "    "
      ]
    }
  ],
  "metadata": {
    "accelerator": "GPU",
    "colab": {
      "gpuType": "T4",
      "provenance": []
    },
    "kernelspec": {
      "display_name": "myenv",
      "language": "python",
      "name": "python3"
    },
    "language_info": {
      "codemirror_mode": {
        "name": "ipython",
        "version": 3
      },
      "file_extension": ".py",
      "mimetype": "text/x-python",
      "name": "python",
      "nbconvert_exporter": "python",
      "pygments_lexer": "ipython3",
      "version": "3.10.16"
    }
  },
  "nbformat": 4,
  "nbformat_minor": 0
}
