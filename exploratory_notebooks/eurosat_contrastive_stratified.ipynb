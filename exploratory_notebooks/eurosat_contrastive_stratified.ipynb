{
  "cells": [
    {
      "cell_type": "markdown",
      "metadata": {},
      "source": [
        "# Implementation of the SIMCLR with resnet50 backbone"
      ]
    },
    {
      "cell_type": "code",
      "execution_count": 1,
      "metadata": {},
      "outputs": [
        {
          "name": "stderr",
          "output_type": "stream",
          "text": [
            "\u001b[34m\u001b[1mwandb\u001b[0m: Currently logged in as: \u001b[33manaliju\u001b[0m (\u001b[33manaliju-paris\u001b[0m) to \u001b[32mhttps://api.wandb.ai\u001b[0m. Use \u001b[1m`wandb login --relogin`\u001b[0m to force relogin\n"
          ]
        },
        {
          "data": {
            "text/plain": [
              "True"
            ]
          },
          "execution_count": 1,
          "metadata": {},
          "output_type": "execute_result"
        }
      ],
      "source": [
        "from dotenv import load_dotenv\n",
        "load_dotenv()       # reads .env and sets os.environ\n",
        "import wandb\n",
        "wandb.login()"
      ]
    },
    {
      "cell_type": "code",
      "execution_count": 2,
      "metadata": {
        "colab": {
          "base_uri": "https://localhost:8080/"
        },
        "id": "iBlEnEB7Rzfu",
        "outputId": "f0106383-237e-475e-d660-715dcc591a87"
      },
      "outputs": [],
      "source": [
        "import os\n",
        "import ssl\n",
        "import zipfile\n",
        "import torch\n",
        "import torch.nn as nn\n",
        "import torch.nn.functional as F\n",
        "import torch.optim as optim\n",
        "from torchvision import transforms, datasets, models\n",
        "from torch.utils.data import DataLoader, random_split, Dataset, Subset\n",
        "from torchvision.models import resnet50\n",
        "from PIL import Image\n",
        "import numpy as np\n",
        "from sklearn.model_selection import StratifiedShuffleSplit\n",
        "from torch.optim.lr_scheduler import LinearLR, CosineAnnealingLR, SequentialLR\n",
        "import seaborn as sns\n",
        "\n",
        "from utils.version_utils import print_versions, configure_gpu_device, set_seed\n",
        "\n",
        "\n",
        "from torch.utils.data import ConcatDataset, DataLoader\n",
        "\n"
      ]
    },
    {
      "cell_type": "code",
      "execution_count": 3,
      "metadata": {},
      "outputs": [
        {
          "name": "stdout",
          "output_type": "stream",
          "text": [
            "Conda version: 25.5.1\n",
            "Python version: 3.10.16\n",
            "PyTorch version: 2.5.1\n",
            "CUDA available: True\n",
            "CUDA device count: 3\n",
            "Torchvision version: 0.20.1\n",
            "Successfully set to use GPU: 2 (Quadro RTX 5000)\n",
            "Final DEVICE variable is set to: cuda:2\n",
            "Current PyTorch default device: 0\n",
            "Current PyTorch default device (after set_device): 2\n",
            "Dummy tensor is on device: cuda:2\n"
          ]
        }
      ],
      "source": [
        "\n",
        "print_versions()\n",
        "set_seed(seed=42)\n",
        "\n",
        "TARGET_GPU_INDEX = 2\n",
        "\n",
        "DEVICE = configure_gpu_device(TARGET_GPU_INDEX)"
      ]
    },
    {
      "cell_type": "code",
      "execution_count": null,
      "metadata": {},
      "outputs": [],
      "source": [
        "\n",
        "# Prevent nondeterminism\n",
        "os.environ['CUDA_LAUNCH_BLOCKING'] = '1'\n",
        "torch.backends.cudnn.enabled = False\n",
        "\n",
        "CONFIG = {\n",
        "    \"LOCAL_OR_COLAB\": \"LOCAL\",\n",
        "    \"DATA_DIR_LOCAL\": \"/share/DEEPLEARNING/carvalhj/EuroSAT_RGB/\",\n",
        "    \"DATA_DIR_COLAB\": \"/content/EuroSAT_RGB\",\n",
        "    \"ZIP_PATH\": \"/content/EuroSAT.zip\",\n",
        "    \"EUROSAT_URL\": \"https://madm.dfki.de/files/sentinel/EuroSAT.zip\",\n",
        "    \"SEED\": 42,  \n",
        "    \"BATCH_SIZE\": 128,\n",
        "    \"LR\": 3.75e-4,\n",
        "    \"WD\": 0.5,\n",
        "    \"LR_LINEAR\": 3.75e-4,\n",
        "    \"EPOCHS_SIMCLR\": 2,\n",
        "    \"EPOCHS_LINEAR\": 2,\n",
        "    \"PROJ_DIM\": 128,\n",
        "    \"FEATURE_DIM\": 2048, # ResNet50 feature dimension = 2048\n",
        "}\n",
        "\n",
        "DEVICE = torch.device(\"cuda\" if torch.cuda.is_available() else \"cpu\")\n",
        "\n",
        "# split fractions\n",
        "TRAIN_FRAC = 0.8\n",
        "VAL_FRAC   = 0.1\n",
        "TEST_FRAC  = 0.1\n",
        "\n",
        "SEED = CONFIG[\"SEED\"]\n",
        "\n",
        "PRETRAINED = False\n",
        "\n",
        "TEMPERATURE = 0.2\n",
        "\n",
        "BETAS=(0.9,0.98)\n",
        "EPS = 1e-8\n",
        "\n",
        "LINEAR_PROB_TRAIN_SPLIT = 0.75\n",
        "\n",
        "GLOBAL_SEED = CONFIG[\"SEED\"]\n",
        "NUM_WORKERS = 4"
      ]
    },
    {
      "cell_type": "code",
      "execution_count": 5,
      "metadata": {},
      "outputs": [],
      "source": [
        "\n",
        "\n",
        "def prepare_data():\n",
        "    if CONFIG[\"LOCAL_OR_COLAB\"] == \"LOCAL\":\n",
        "        return CONFIG[\"DATA_DIR_LOCAL\"]\n",
        "\n",
        "    if not os.path.exists(CONFIG[\"DATA_DIR_COLAB\"]):\n",
        "        print(\"Downloading EuroSAT RGB...\")\n",
        "        ssl._create_default_https_context = ssl._create_unverified_context\n",
        "        urllib.request.urlretrieve(CONFIG[\"EUROSAT_URL\"], CONFIG[\"ZIP_PATH\"])\n",
        "        with zipfile.ZipFile(CONFIG[\"ZIP_PATH\"], 'r') as zip_ref:\n",
        "            zip_ref.extractall(\"/content\")\n",
        "        os.rename(\"/content/2750\", CONFIG[\"DATA_DIR_COLAB\"])\n",
        "        print(\"EuroSAT RGB dataset downloaded and extracted.\")\n",
        "    return CONFIG[\"DATA_DIR_COLAB\"]\n",
        "\n",
        "\n",
        "def compute_mean_std(dataset, batch_size):\n",
        "    loader = DataLoader(dataset, batch_size, shuffle=False, num_workers=2)\n",
        "    mean = 0.0\n",
        "    std = 0.0\n",
        "    n_samples = 0\n",
        "\n",
        "    for data, _ in loader:\n",
        "        batch_samples = data.size(0)\n",
        "        data = data.view(batch_samples, data.size(1), -1)  # (B, C, H*W)\n",
        "        mean += data.mean(2).sum(0)\n",
        "        std += data.std(2).sum(0)\n",
        "        n_samples += batch_samples\n",
        "\n",
        "    mean /= n_samples\n",
        "    std /= n_samples\n",
        "    return mean.tolist(), std.tolist()\n",
        "\n",
        "\n",
        "class TwoCropsTransform:\n",
        "    def __init__(self, base_transform):\n",
        "        self.base_transform = base_transform\n",
        "\n",
        "    def __call__(self, x):\n",
        "        return [self.base_transform(x), self.base_transform(x)]\n",
        "    \n",
        "class SimCLRDataset(Dataset):\n",
        "    def __init__(self, dataset, transform):\n",
        "        self.dataset = dataset\n",
        "        self.transform = transform\n",
        "\n",
        "    def __len__(self):\n",
        "        return len(self.dataset)\n",
        "\n",
        "    def __getitem__(self, idx):\n",
        "        x, _ = self.dataset[idx]\n",
        "        x1, x2 = self.transform(x)\n",
        "        return x1, x2\n",
        "\n",
        "\n",
        "def get_proportion(num_classes, dataset):\n",
        "    return np.bincount(np.array(dataset.dataset.targets)[dataset.indices], minlength=num_classes) / len(dataset)\n",
        "\n",
        "def get_split_indexes(labels, total_count):\n",
        "    n_train = int(np.floor(TRAIN_FRAC * total_count))\n",
        "    n_temp = total_count - n_train   # this is val + test\n",
        "\n",
        "    sss1 = StratifiedShuffleSplit(\n",
        "        n_splits=1,\n",
        "        train_size=n_train,\n",
        "        test_size=n_temp,\n",
        "        random_state=SEED\n",
        "    )\n",
        "    # Train and temp(val+test) indices\n",
        "    train_idx, temp_idx = next(sss1.split(np.zeros(total_count), labels))\n",
        "\n",
        "    n_val = int(np.floor(VAL_FRAC * total_count))\n",
        "    n_test = total_count - n_train - n_val\n",
        "    assert n_temp == n_val + n_test, \"Fractions must sum to 1.\"\n",
        "\n",
        "    labels_temp = labels[temp_idx]\n",
        "\n",
        "    sss2 = StratifiedShuffleSplit(\n",
        "        n_splits=1,\n",
        "        train_size=n_val,\n",
        "        test_size=n_test,\n",
        "        random_state=SEED\n",
        "    )\n",
        "    val_idx_in_temp, test_idx_in_temp = next(sss2.split(np.zeros(len(temp_idx)), labels_temp))\n",
        "\n",
        "    val_idx = temp_idx[val_idx_in_temp]\n",
        "    test_idx = temp_idx[test_idx_in_temp]\n",
        "\n",
        "    assert len(train_idx) == n_train\n",
        "    assert len(val_idx) == n_val\n",
        "    assert len(test_idx) == n_test\n",
        "\n",
        "    print(f\"Stratified split sizes: train={len(train_idx)}, val={len(val_idx)}, test={len(test_idx)}\")\n",
        "    return train_idx,val_idx,test_idx\n",
        "\n",
        "def get_data_loaders(data_dir, batch_size):\n",
        "\n",
        "    dataset_for_stats = datasets.ImageFolder(\n",
        "        root=data_dir,\n",
        "        transform=transforms.ToTensor()\n",
        "    )\n",
        "    total_len = len(dataset_for_stats)\n",
        "    labels = np.array(dataset_for_stats.targets)\n",
        "    num_classes = len(dataset_for_stats.classes)\n",
        "    print(f\"Total samples in folder: {total_len}, classes: {dataset_for_stats.classes}\")\n",
        "\n",
        "    train_indices, val_indices, test_indices = get_split_indexes(labels, total_len)\n",
        "\n",
        "    train_for_stats_subset = Subset(dataset_for_stats, train_indices)\n",
        "    mean, std = compute_mean_std(train_for_stats_subset, batch_size)\n",
        "    print(f\"Computed mean: {mean}\")\n",
        "    print(f\"Computed std:  {std}\")\n",
        "    # save the mean and std to a file\n",
        "    os.makedirs(\"models\", exist_ok=True)\n",
        "    with open(\"models/mean_std.txt\", \"w\") as f:\n",
        "        f.write(f\"mean: {mean}\\n\")\n",
        "        f.write(f\"std: {std}\\n\")\n",
        "    print(\"Mean and std saved to models/mean_std.txt\")\n",
        "\n",
        "    dataset_train_no_transform = datasets.ImageFolder(\n",
        "        root=data_dir,\n",
        "        transform=None\n",
        "    )\n",
        "    train_subset_no_transform = Subset(dataset_train_no_transform, train_indices)\n",
        "\n",
        "    eval_transform = transforms.Compose([\n",
        "        transforms.Resize(72),\n",
        "        transforms.CenterCrop(64),\n",
        "        transforms.ToTensor(),\n",
        "        transforms.Normalize(mean=mean, std=std),\n",
        "    ])\n",
        "    dataset_eval = datasets.ImageFolder(\n",
        "        root=data_dir,\n",
        "        transform=eval_transform\n",
        "    )\n",
        "    val_subset = Subset(dataset_eval, val_indices)\n",
        "    test_subset = Subset(dataset_eval, test_indices)\n",
        "\n",
        "    normalize = transforms.Normalize(mean=mean, std=std)\n",
        "    color_jitter = transforms.ColorJitter(\n",
        "        brightness=0.4,\n",
        "        contrast=0.4,\n",
        "        saturation=0.4,\n",
        "        hue=0.1\n",
        "    )\n",
        "    gaussian_blur = transforms.GaussianBlur(\n",
        "        kernel_size=7,\n",
        "        sigma=(0.1, 2.0)\n",
        "    )\n",
        "    augment_transform = transforms.Compose([\n",
        "        transforms.RandomResizedCrop(64, scale=(0.5, 1.0)),\n",
        "        transforms.RandomApply([color_jitter], p=0.8),\n",
        "        transforms.RandomApply([gaussian_blur], p=0.5),\n",
        "        transforms.ToTensor(),\n",
        "        normalize,\n",
        "    ])\n",
        "    simclr_transform = TwoCropsTransform(augment_transform)\n",
        "    train_ds_simclr = SimCLRDataset(train_subset_no_transform, simclr_transform)\n",
        "\n",
        "    train_loader = DataLoader(\n",
        "        train_ds_simclr,\n",
        "        batch_size=batch_size,\n",
        "        shuffle=True,\n",
        "        drop_last=True,\n",
        "        num_workers=NUM_WORKERS,\n",
        "        generator=torch.Generator().manual_seed(SEED)\n",
        "    )\n",
        "    val_loader = DataLoader(\n",
        "        val_subset,\n",
        "        batch_size=batch_size,\n",
        "        shuffle=False,\n",
        "        num_workers=NUM_WORKERS,\n",
        "        generator=torch.Generator().manual_seed(SEED)\n",
        "    )\n",
        "    test_loader = DataLoader(\n",
        "        test_subset,\n",
        "        batch_size=batch_size,\n",
        "        shuffle=False,\n",
        "        num_workers=NUM_WORKERS,\n",
        "        generator=torch.Generator().manual_seed(SEED)\n",
        "    )\n",
        "\n",
        "    print(f\"Train/Val/Test loaders: {len(train_loader)}/{len(val_loader)}/{len(test_loader)} batches\")\n",
        "\n",
        "    return train_loader, val_loader, test_loader, num_classes\n",
        "\n",
        "    \n",
        "\n",
        " \n",
        "class ProjectionHead(nn.Module):\n",
        "    def __init__(self, input_dim, proj_dim=128, hidden_dim=2048):\n",
        "        super().__init__()\n",
        "        self.net = nn.Sequential(\n",
        "            nn.Linear(input_dim, hidden_dim),\n",
        "            nn.BatchNorm1d(hidden_dim),\n",
        "            nn.ReLU(),\n",
        "            nn.Linear(hidden_dim, proj_dim)\n",
        "        )\n",
        "\n",
        "    def forward(self, x):\n",
        "        return self.net(x)\n",
        "\n",
        "class SimCLRModel(nn.Module):\n",
        "    def __init__(self, base_encoder, proj_dim=128):\n",
        "        super().__init__()\n",
        "        self.encoder = base_encoder\n",
        "        self.encoder.fc = nn.Identity()\n",
        "        self.projection_head = ProjectionHead(input_dim=CONFIG[\"FEATURE_DIM\"], proj_dim=proj_dim)\n",
        "\n",
        "    def forward(self, x):\n",
        "        feat = self.encoder(x)\n",
        "        proj = self.projection_head(feat)\n",
        "        return feat, proj\n",
        "\n",
        "class NTXentLoss(nn.Module):\n",
        "    def __init__(self, batch_size, temperature=0.5, device='cuda'):\n",
        "        super().__init__()\n",
        "        self.temperature = temperature\n",
        "        self.batch_size = batch_size\n",
        "        self.device = device\n",
        "        self.criterion = nn.CrossEntropyLoss()\n",
        "\n",
        "    def forward(self, zis, zjs):\n",
        "        N = zis.size(0)\n",
        "        z = F.normalize(torch.cat([zis, zjs], dim=0), dim=1)\n",
        "        sim = torch.matmul(z, z.T) / self.temperature\n",
        "        mask = torch.eye(2 * N, dtype=torch.bool).to(self.device)\n",
        "        sim = sim.masked_fill(mask, -1e9)\n",
        "        labels = torch.cat([torch.arange(N, 2 * N), torch.arange(0, N)]).to(self.device)\n",
        "        return self.criterion(sim, labels)\n",
        "\n",
        "def train_simclr(model, train_loader, val_loader, optimizer, criterion, device, epochs, wandb_run=None, scheduler=None, seed=SEED, bs=CONFIG[\"BATCH_SIZE\"]):\n",
        "    model.train()\n",
        "    model.to(device)\n",
        "    print(\"Starting SimCLR pretraining...\")\n",
        "   \n",
        "    for epoch in range(epochs):\n",
        "        total_loss = 0\n",
        "        # Train loss\n",
        "        for (x1, x2) in train_loader:\n",
        "            x1, x2 = x1.to(device), x2.to(device)\n",
        "            _, z1 = model(x1)\n",
        "            _, z2 = model(x2)\n",
        "            loss = criterion(z1, z2)\n",
        "            optimizer.zero_grad()\n",
        "            loss.backward()\n",
        "            optimizer.step()\n",
        "            if scheduler:\n",
        "                scheduler.step()\n",
        "            total_loss += loss.item()\n",
        "     \n",
        "        avg_train_loss = total_loss / len(train_loader)\n",
        "\n",
        "        # # Validation loss\n",
        "        # val_loss = 0\n",
        "        # with torch.no_grad():\n",
        "        #     for (x1, x2) in val_loader:\n",
        "        #         x1, x2 = x1.to(device), x2.to(device)\n",
        "        #         _, z1 = model(x1)\n",
        "        #         _, z2 = model(x2)\n",
        "        #         loss = criterion(z1, z2)\n",
        "        #         val_loss += loss.item()\n",
        "        # avg_val_loss = val_loss / len(val_loader)\n",
        "        avg_val_loss = -1  # Placeholder, as validation loss is not computed in this example\n",
        "\n",
        "        print(f\"Epoch [{epoch+1}/{epochs}], Train Loss: {avg_train_loss:.4f}, Val Loss: {avg_val_loss:.4f}\")\n",
        "        if wandb_run:\n",
        "            wandb_run.log({\n",
        "                \"epoch\": epoch + 1,\n",
        "                \"train_loss\": avg_train_loss,\n",
        "                \"val_loss\": avg_val_loss\n",
        "            })\n",
        "\n",
        "    print(\"Finished SimCLR pretraining.\")\n",
        "    print(\"Saving encoder...\")\n",
        "    torch.save(model.state_dict(), f\"models/simclr_model_seed{seed}_temperature{TEMPERATURE}_bs{bs}.pth\")\n",
        "    \n",
        "\n",
        "def evaluate(classifier, backbone, loader, device):\n",
        "    classifier.eval()\n",
        "    correct, total = 0, 0\n",
        "    with torch.no_grad():\n",
        "        for images, labels in loader:\n",
        "            images, labels = images.to(device), labels.to(device)\n",
        "            features = backbone(images)\n",
        "            outputs = classifier(features)\n",
        "            total += labels.size(0)\n",
        "            correct += (outputs.argmax(1) == labels).sum().item()\n",
        "    return correct / total * 100\n",
        "\n",
        "def make_optimizer_scheduler(params, lr, wd, steps_per_epoch, epochs):\n",
        "    total_steps  = epochs * steps_per_epoch\n",
        "    warmup_steps = steps_per_epoch\n",
        "    opt = optim.AdamW(params, lr=lr, betas=(0.9,0.98), eps=1e-8, weight_decay=wd)\n",
        "    sched = SequentialLR(\n",
        "        opt,\n",
        "        schedulers=[\n",
        "            LinearLR(opt,  start_factor=1e-6, end_factor=1.0, total_iters=warmup_steps),\n",
        "            CosineAnnealingLR(opt, T_max=total_steps - warmup_steps)\n",
        "        ],\n",
        "        milestones=[warmup_steps]\n",
        "    )\n",
        "    return opt, sched"
      ]
    },
    {
      "cell_type": "code",
      "execution_count": 6,
      "metadata": {},
      "outputs": [],
      "source": [
        "\n",
        "def get_data_loaders_train_test_simclr(data_dir, batch_size):\n",
        "\n",
        "    dataset_for_stats = datasets.ImageFolder(\n",
        "        root=data_dir,\n",
        "        transform=transforms.ToTensor()\n",
        "    )\n",
        "    total_len = len(dataset_for_stats)\n",
        "    labels = np.array(dataset_for_stats.targets)\n",
        "    num_classes = len(dataset_for_stats.classes)\n",
        "    print(f\"Total samples in folder: {total_len}, classes: {dataset_for_stats.classes}\")\n",
        "\n",
        "    train_indices, val_indices, test_indices = get_split_indexes(labels, total_len)\n",
        "    train_val_indices = np.concatenate((train_indices, val_indices))\n",
        "    train_for_stats_subset = Subset(dataset_for_stats, train_val_indices.tolist())\n",
        "    \n",
        "    mean, std = compute_mean_std(train_for_stats_subset, batch_size)\n",
        "    print(f\"Computed mean: {mean}\")\n",
        "    print(f\"Computed std:  {std}\")\n",
        "\n",
        "    normalize = transforms.Normalize(mean=mean, std=std)\n",
        "    color_jitter = transforms.ColorJitter(\n",
        "        brightness=0.4,\n",
        "        contrast=0.4,\n",
        "        saturation=0.4,\n",
        "        hue=0.1\n",
        "    )\n",
        "    gaussian_blur = transforms.GaussianBlur(\n",
        "        kernel_size=7,\n",
        "        sigma=(0.1, 2.0)\n",
        "    )\n",
        "    augment_transform = transforms.Compose([\n",
        "        transforms.RandomResizedCrop(64, scale=(0.5, 1.0)),\n",
        "        transforms.RandomApply([color_jitter], p=0.8),\n",
        "        transforms.RandomApply([gaussian_blur], p=0.5),\n",
        "        transforms.ToTensor(),\n",
        "        normalize,\n",
        "    ])\n",
        "    eval_transform = transforms.Compose([\n",
        "            transforms.Resize((64, 64)),   \n",
        "            transforms.ToTensor(),\n",
        "            normalize,\n",
        "    ])\n",
        "    dataset_eval = datasets.ImageFolder(\n",
        "        root=data_dir,\n",
        "        transform=eval_transform\n",
        "    )\n",
        "    test_subset = Subset(dataset_eval, test_indices)\n",
        "\n",
        "    simclr_transform = TwoCropsTransform(augment_transform)\n",
        "    dataset_train_no_transform = datasets.ImageFolder(\n",
        "        root=data_dir,\n",
        "        transform=None\n",
        "    )\n",
        "    train_subset_no_transform = Subset(dataset_train_no_transform, train_val_indices.tolist())\n",
        "    train_ds_simclr = SimCLRDataset(train_subset_no_transform, simclr_transform)\n",
        "\n",
        "    train_loader = DataLoader(\n",
        "        train_ds_simclr,\n",
        "        batch_size=batch_size,\n",
        "        shuffle=True,\n",
        "        drop_last=True,\n",
        "        num_workers=NUM_WORKERS,\n",
        "        generator=torch.Generator().manual_seed(SEED)\n",
        "    )\n",
        "\n",
        "    test_loader = DataLoader(\n",
        "        test_subset,\n",
        "        batch_size=batch_size,\n",
        "        shuffle=False,\n",
        "        num_workers=NUM_WORKERS,\n",
        "        generator=torch.Generator().manual_seed(SEED)\n",
        "    )\n",
        "\n",
        "    print(f\"Train/Test loaders: {len(train_loader)}/{len(test_loader)} batches\")\n",
        "    assert total_len == len(train_ds_simclr) + len(test_subset), \"Total length mismatch after split.\"\n",
        "\n",
        "    return train_loader, test_loader, num_classes\n",
        "\n",
        "\n",
        "def get_data_loaders_train_test_linear_probe(data_dir, batch_size):\n",
        "\n",
        "   # get meand and std from the file where we saved it\n",
        "    with open(\"models/mean_std.txt\", \"r\") as f:\n",
        "        lines = f.readlines()\n",
        "        mean = [float(x) for x in lines[0].strip().split(\": \")[1][1:-1].split(\",\")]\n",
        "        std = [float(x) for x in lines[1].strip().split(\": \")[1][1:-1].split(\",\")]\n",
        "    \n",
        "    print(f\"Using mean: {mean}\")\n",
        "    print(f\"Using std: {std}\")\n",
        "\n",
        "    normalize = transforms.Normalize(mean=mean, std=std)\n",
        "    color_jitter = transforms.ColorJitter(\n",
        "        brightness=0.4,\n",
        "        contrast=0.4,\n",
        "        saturation=0.4,\n",
        "        hue=0.1\n",
        "    )\n",
        "    gaussian_blur = transforms.GaussianBlur(\n",
        "        kernel_size=7,\n",
        "        sigma=(0.1, 2.0)\n",
        "    )\n",
        "    augment_transform = transforms.Compose([\n",
        "        transforms.RandomResizedCrop(64, scale=(0.5, 1.0)),\n",
        "        transforms.RandomApply([color_jitter], p=0.8),\n",
        "        transforms.RandomApply([gaussian_blur], p=0.5),\n",
        "        transforms.ToTensor(),\n",
        "        normalize,\n",
        "    ])\n",
        "    eval_transform = transforms.Compose([\n",
        "            transforms.Resize((64, 64)),   \n",
        "            transforms.ToTensor(),\n",
        "            normalize,\n",
        "    ])\n",
        "    \n",
        "    dataset_for_stats = datasets.ImageFolder(\n",
        "        root=data_dir,\n",
        "        transform=transforms.ToTensor()\n",
        "    )\n",
        "    total_len = len(dataset_for_stats)\n",
        "    labels = np.array(dataset_for_stats.targets)\n",
        "    print(f\"Total samples in folder: {total_len}, classes: {dataset_for_stats.classes}\")\n",
        "\n",
        "    train_indices, val_indices, test_indices = get_split_indexes(labels, total_len)\n",
        "    dataset_eval = datasets.ImageFolder(\n",
        "        root=data_dir,\n",
        "        transform=eval_transform\n",
        "    )\n",
        "    test_subset = Subset(dataset_eval, test_indices)\n",
        "    train_val_indices = np.concatenate((train_indices, val_indices))\n",
        "\n",
        "    # get dataloaders\n",
        "    dataset_train_val = datasets.ImageFolder(\n",
        "        root=data_dir,\n",
        "        transform=augment_transform\n",
        "    )\n",
        "    train_val_subset = Subset(dataset_train_val, train_val_indices.tolist())\n",
        "    train_loader = DataLoader(\n",
        "        train_val_subset,\n",
        "        batch_size=batch_size,\n",
        "        shuffle=True,\n",
        "        drop_last=True,\n",
        "        num_workers=NUM_WORKERS,\n",
        "        generator=torch.Generator().manual_seed(SEED)\n",
        "    )\n",
        "    test_loader = DataLoader(\n",
        "        test_subset,\n",
        "        batch_size=batch_size,\n",
        "        shuffle=False,\n",
        "        num_workers=NUM_WORKERS,\n",
        "        generator=torch.Generator().manual_seed(SEED)\n",
        "    )\n",
        "    print(f\"Train/Test loaders: {len(train_loader)}/{len(test_loader)} batches\")\n",
        "    assert total_len == len(train_val_subset) + len(test_subset), \"Total length mismatch after split.\"\n",
        "    return train_loader, test_loader, len(dataset_eval.classes)"
      ]
    },
    {
      "cell_type": "code",
      "execution_count": 7,
      "metadata": {},
      "outputs": [],
      "source": [
        "\n",
        "\n",
        "\n",
        "def run_linear_probe_experiment(seed, train_loader, val_loader, test_loader, num_classes, simclr_model, bs):\n",
        "    \n",
        "    linear_probe_layer = nn.Linear(CONFIG[\"FEATURE_DIM\"], num_classes).to(DEVICE)\n",
        "    linear_optimizer = optim.Adam(linear_probe_layer.parameters(), lr=CONFIG[\"LR_LINEAR\"], weight_decay=CONFIG[\"WD\"])\n",
        "    linear_criterion = nn.CrossEntropyLoss()\n",
        "    steps_per_epoch = len(train_loader)\n",
        "    linear_scheduler = SequentialLR(\n",
        "        linear_optimizer,\n",
        "        schedulers=[\n",
        "            LinearLR(linear_optimizer, start_factor=1e-6, end_factor=1.0, total_iters=steps_per_epoch),\n",
        "            CosineAnnealingLR(linear_optimizer, T_max=CONFIG[\"EPOCHS_LINEAR\"] * steps_per_epoch - steps_per_epoch)\n",
        "        ],\n",
        "        milestones=[steps_per_epoch]\n",
        "    )\n",
        "\n",
        "    if val_loader is not None:\n",
        "        train_val_loader = combine_train_val_loaders(train_loader, val_loader)\n",
        "    else:\n",
        "        train_val_loader = train_loader\n",
        "    \n",
        "    print(f\"Train + Val loader: {len(train_val_loader)} batches\")\n",
        "    simclr_model.eval()\n",
        "    # freeze the encoder\n",
        "    with torch.no_grad():\n",
        "        for param in simclr_model.encoder.parameters():\n",
        "            param.requires_grad = False\n",
        "\n",
        "    simclr_model.to(DEVICE)\n",
        "    wandb.init(\n",
        "        project=\"linear_probe_eurosat-simclr\",\n",
        "        name=f\"linear_probe_seed{seed}_temperature{TEMPERATURE}_bs{bs}\",\n",
        "        config={\n",
        "            \"seed\": seed,\n",
        "            \"temperature\": TEMPERATURE,\n",
        "            \"batch_size\": bs,\n",
        "            \"epochs_linear\": CONFIG[\"EPOCHS_LINEAR\"],\n",
        "            \"learning_rate_linear\": CONFIG[\"LR_LINEAR\"],\n",
        "            \"weight_decay_linear\": CONFIG[\"WD\"],\n",
        "            \"num_classes\": num_classes\n",
        "        }\n",
        "    )\n",
        "    wandb.watch(simclr_model.encoder, log=\"all\", log_freq=100)\n",
        "    wandb.watch(linear_probe_layer, log=\"all\", log_freq=100)\n",
        "    print(\"Starting linear probe training...\")\n",
        "\n",
        "    linear_probe_layer.train()\n",
        "    for epoch in range(CONFIG[\"EPOCHS_LINEAR\"]):\n",
        "        total_loss = 0\n",
        "        correct = 0\n",
        "        total = 0\n",
        "        for images, labels in train_val_loader:\n",
        "            images, labels = images.to(DEVICE), labels.to(DEVICE)\n",
        "            features, _ = simclr_model(images)\n",
        "            outputs = linear_probe_layer(features)\n",
        "            loss = linear_criterion(outputs, labels)\n",
        "\n",
        "            linear_optimizer.zero_grad()\n",
        "            loss.backward()\n",
        "            linear_optimizer.step()\n",
        "            linear_scheduler.step()\n",
        "\n",
        "            total_loss += loss.item() * images.size(0)\n",
        "            _, preds = outputs.max(1)\n",
        "            correct += preds.eq(labels).sum().item()\n",
        "            total += labels.size(0)\n",
        "\n",
        "        avg_loss = total_loss / total\n",
        "        accuracy = correct / total * 100\n",
        "        total_epochs = CONFIG[\"EPOCHS_LINEAR\"]\n",
        "        print(f\"[Linear Probe] Epoch {epoch+1}/{total_epochs} - Loss: {avg_loss:.4f}, Accuracy: {accuracy:.2f}%\")\n",
        "        wandb.log({\n",
        "            \"linear_probe_loss\": avg_loss,\n",
        "            \"linear_probe_accuracy\": accuracy,\n",
        "            \"epoch\": epoch + 1\n",
        "        })\n",
        "        linear_prob_acc = accuracy\n",
        "        linear_prob_loss = avg_loss\n",
        "    test_accuracy = evaluate(linear_probe_layer, simclr_model.encoder, test_loader, DEVICE)\n",
        "    print(f\"Test Accuracy: {test_accuracy:.2f}%\")\n",
        "    wandb.log({\n",
        "        \"test_accuracy\": test_accuracy,\n",
        "        \"linear_probe_loss\": linear_prob_loss,\n",
        "        \"linear_probe_accuracy\": linear_prob_acc\n",
        "    })\n",
        "    print(f\"Linear probe accuracy: {linear_prob_acc:.2f}%, Test accuracy: {test_accuracy:.2f}%\")\n",
        "    # Save the linear probe model\n",
        "    torch.save({\n",
        "        'linear_probe_state_dict': linear_probe_layer.state_dict(),\n",
        "        'simclr_encoder_state_dict': simclr_model.encoder.state_dict(),\n",
        "        'config': CONFIG,\n",
        "        'seed': seed\n",
        "    }, f\"models/linear_probe_seed{seed}_temperature{TEMPERATURE}_bs{bs}.pth\")\n",
        "\n",
        "def combine_train_val_loaders(train_loader, val_loader):\n",
        "    train_ds = train_loader.dataset\n",
        "    val_ds   = val_loader.dataset\n",
        "\n",
        "    combined_ds = ConcatDataset([train_ds, val_ds])\n",
        "    train_val_loader = DataLoader(\n",
        "        combined_ds,\n",
        "        batch_size=CONFIG[\"BATCH_SIZE\"],\n",
        "        shuffle=True,\n",
        "        drop_last=True,\n",
        "        num_workers=NUM_WORKERS,\n",
        "        generator=torch.Generator().manual_seed(SEED)\n",
        "    )\n",
        "    \n",
        "    return train_val_loader\n"
      ]
    },
    {
      "cell_type": "code",
      "execution_count": 8,
      "metadata": {},
      "outputs": [
        {
          "name": "stdout",
          "output_type": "stream",
          "text": [
            "\n",
            "=== Starting run with seed 42 ===\n",
            "Total samples in folder: 27000, classes: ['AnnualCrop', 'Forest', 'HerbaceousVegetation', 'Highway', 'Industrial', 'Pasture', 'PermanentCrop', 'Residential', 'River', 'SeaLake']\n",
            "Stratified split sizes: train=21600, val=2700, test=2700\n"
          ]
        },
        {
          "name": "stdout",
          "output_type": "stream",
          "text": [
            "Computed mean: [0.3441457748413086, 0.38009852170944214, 0.40766361355781555]\n",
            "Computed std:  [0.09299740195274353, 0.06464490294456482, 0.054139167070388794]\n",
            "Mean and std saved to models/mean_std.txt\n",
            "Train/Val/Test loaders: 168/22/22 batches\n",
            "Starting SimCLR training...\n"
          ]
        },
        {
          "data": {
            "text/html": [
              "Tracking run with wandb version 0.19.11"
            ],
            "text/plain": [
              "<IPython.core.display.HTML object>"
            ]
          },
          "metadata": {},
          "output_type": "display_data"
        },
        {
          "data": {
            "text/html": [
              "Run data is saved locally in <code>/users/c/carvalhj/projects/eurosat_preprocessing/exploratory_notebooks/wandb/run-20250617_200607-uvvuzuit</code>"
            ],
            "text/plain": [
              "<IPython.core.display.HTML object>"
            ]
          },
          "metadata": {},
          "output_type": "display_data"
        },
        {
          "data": {
            "text/html": [
              "Syncing run <strong><a href='https://wandb.ai/analiju-paris/eurosat-contrastive-scratch-grid-search/runs/uvvuzuit' target=\"_blank\">BS128_LR4e-04_SEED42_TEMPERATURE0.2</a></strong> to <a href='https://wandb.ai/analiju-paris/eurosat-contrastive-scratch-grid-search' target=\"_blank\">Weights & Biases</a> (<a href='https://wandb.me/developer-guide' target=\"_blank\">docs</a>)<br>"
            ],
            "text/plain": [
              "<IPython.core.display.HTML object>"
            ]
          },
          "metadata": {},
          "output_type": "display_data"
        },
        {
          "data": {
            "text/html": [
              " View project at <a href='https://wandb.ai/analiju-paris/eurosat-contrastive-scratch-grid-search' target=\"_blank\">https://wandb.ai/analiju-paris/eurosat-contrastive-scratch-grid-search</a>"
            ],
            "text/plain": [
              "<IPython.core.display.HTML object>"
            ]
          },
          "metadata": {},
          "output_type": "display_data"
        },
        {
          "data": {
            "text/html": [
              " View run at <a href='https://wandb.ai/analiju-paris/eurosat-contrastive-scratch-grid-search/runs/uvvuzuit' target=\"_blank\">https://wandb.ai/analiju-paris/eurosat-contrastive-scratch-grid-search/runs/uvvuzuit</a>"
            ],
            "text/plain": [
              "<IPython.core.display.HTML object>"
            ]
          },
          "metadata": {},
          "output_type": "display_data"
        },
        {
          "name": "stdout",
          "output_type": "stream",
          "text": [
            "Starting SimCLR pretraining...\n",
            "Epoch [1/2], Train Loss: 4.7645, Val Loss: -1.0000\n"
          ]
        },
        {
          "name": "stderr",
          "output_type": "stream",
          "text": [
            "/users/c/carvalhj/miniconda3/envs/myenv/lib/python3.10/site-packages/torch/optim/lr_scheduler.py:240: UserWarning: The epoch parameter in `scheduler.step()` was not necessary and is being deprecated where possible. Please use `scheduler.step()` to step the scheduler. During the deprecation, if epoch is different from None, the closed form is used instead of the new chainable form, where available. Please open an issue if you are unable to replicate your use case: https://github.com/pytorch/pytorch/issues/new/choose.\n",
            "  warnings.warn(EPOCH_DEPRECATION_WARNING, UserWarning)\n"
          ]
        },
        {
          "name": "stdout",
          "output_type": "stream",
          "text": [
            "Epoch [2/2], Train Loss: 3.5372, Val Loss: -1.0000\n",
            "Finished SimCLR pretraining.\n",
            "Saving encoder...\n"
          ]
        },
        {
          "data": {
            "text/html": [],
            "text/plain": [
              "<IPython.core.display.HTML object>"
            ]
          },
          "metadata": {},
          "output_type": "display_data"
        },
        {
          "data": {
            "text/html": [
              "<br>    <style><br>        .wandb-row {<br>            display: flex;<br>            flex-direction: row;<br>            flex-wrap: wrap;<br>            justify-content: flex-start;<br>            width: 100%;<br>        }<br>        .wandb-col {<br>            display: flex;<br>            flex-direction: column;<br>            flex-basis: 100%;<br>            flex: 1;<br>            padding: 10px;<br>        }<br>    </style><br><div class=\"wandb-row\"><div class=\"wandb-col\"><h3>Run history:</h3><br/><table class=\"wandb\"><tr><td>epoch</td><td>▁█</td></tr><tr><td>train_loss</td><td>█▁</td></tr><tr><td>val_loss</td><td>▁▁</td></tr></table><br/></div><div class=\"wandb-col\"><h3>Run summary:</h3><br/><table class=\"wandb\"><tr><td>epoch</td><td>2</td></tr><tr><td>train_loss</td><td>3.53717</td></tr><tr><td>val_loss</td><td>-1</td></tr></table><br/></div></div>"
            ],
            "text/plain": [
              "<IPython.core.display.HTML object>"
            ]
          },
          "metadata": {},
          "output_type": "display_data"
        },
        {
          "data": {
            "text/html": [
              " View run <strong style=\"color:#cdcd00\">BS128_LR4e-04_SEED42_TEMPERATURE0.2</strong> at: <a href='https://wandb.ai/analiju-paris/eurosat-contrastive-scratch-grid-search/runs/uvvuzuit' target=\"_blank\">https://wandb.ai/analiju-paris/eurosat-contrastive-scratch-grid-search/runs/uvvuzuit</a><br> View project at: <a href='https://wandb.ai/analiju-paris/eurosat-contrastive-scratch-grid-search' target=\"_blank\">https://wandb.ai/analiju-paris/eurosat-contrastive-scratch-grid-search</a><br>Synced 5 W&B file(s), 0 media file(s), 0 artifact file(s) and 0 other file(s)"
            ],
            "text/plain": [
              "<IPython.core.display.HTML object>"
            ]
          },
          "metadata": {},
          "output_type": "display_data"
        },
        {
          "data": {
            "text/html": [
              "Find logs at: <code>./wandb/run-20250617_200607-uvvuzuit/logs</code>"
            ],
            "text/plain": [
              "<IPython.core.display.HTML object>"
            ]
          },
          "metadata": {},
          "output_type": "display_data"
        },
        {
          "name": "stdout",
          "output_type": "stream",
          "text": [
            "All runs completed.\n"
          ]
        }
      ],
      "source": [
        "\n",
        "seeds = [GLOBAL_SEED]\n",
        "for seed in seeds:\n",
        "    print(f\"\\n=== Starting run with seed {seed} ===\")\n",
        "    set_seed(seed)\n",
        "    \n",
        "    data_dir = prepare_data()\n",
        "    train_loader, val_loader, test_loader, num_classes = get_data_loaders(data_dir, CONFIG[\"BATCH_SIZE\"])\n",
        "\n",
        "    # Initialize base encoder and SimCLR model\n",
        "    base_encoder = resnet50(weights=None)\n",
        "    simclr_model = SimCLRModel(base_encoder, proj_dim=CONFIG[\"PROJ_DIM\"])\n",
        "    # optimizer = optim.Adam(simclr_model.parameters(), lr=CONFIG[\"LR\"])\n",
        "    wd =  0.5 \n",
        "    optimizer, scheduler = make_optimizer_scheduler(\n",
        "        simclr_model.parameters(),\n",
        "        CONFIG[\"LR\"],\n",
        "        CONFIG[\"WD\"],\n",
        "        len(train_loader),\n",
        "        CONFIG[\"EPOCHS_SIMCLR\"]\n",
        "        )\n",
        "    \n",
        "    bs = CONFIG[\"BATCH_SIZE\"]\n",
        "    loss_fn = NTXentLoss(bs, temperature=TEMPERATURE, device=DEVICE)\n",
        "\n",
        "    print(\"Starting SimCLR training...\")\n",
        "    lr = CONFIG[\"LR\"]\n",
        "    wandb_run = wandb.init(\n",
        "        project=\"eurosat-contrastive-scratch-grid-search\",\n",
        "        name=f\"BS{bs}_LR{lr:.0e}_SEED{seed}_TEMPERATURE{TEMPERATURE}\",\n",
        "        config={\n",
        "            \"seed\": seed,\n",
        "            \"temperature\": TEMPERATURE,\n",
        "            \"model\": \"SimCLR\",\n",
        "            \"dataset\": \"EuroSAT\",\n",
        "            \"batch_size\": bs,\n",
        "            \"learning_rate\": CONFIG[\"LR\"],\n",
        "            \"epochs\": CONFIG[\"EPOCHS_SIMCLR\"],\n",
        "            \"proj_dim\": CONFIG[\"PROJ_DIM\"],\n",
        "            \"feature_dim\": CONFIG[\"FEATURE_DIM\"],\n",
        "            \"pretrained\": PRETRAINED,\n",
        "        }\n",
        "    )\n",
        "    train_simclr(simclr_model, train_loader, val_loader, optimizer, loss_fn, DEVICE, CONFIG[\"EPOCHS_SIMCLR\"], wandb_run=wandb_run, scheduler=scheduler, seed=seed, bs=bs)\n",
        "    wandb_run.finish()\n",
        "\n",
        " \n",
        "\n",
        "    # # Evaluate in linear probe setting\n",
        "    # linear_prob_acc, linear_prob_loss = 0, 0\n",
        "    # wandb_run = wandb.init(\n",
        "    #     project=\"eurosat-contrastive-linear-probe\",\n",
        "    #     name=f\"BS{bs}_LR{CONFIG['LR_LINEAR']:.0e}_SEED{seed}_TEMPERATURE{TEMPERATURE}\",\n",
        "    #     config={\n",
        "    #         \"seed\": seed,\n",
        "    #         \"temperature\": TEMPERATURE,\n",
        "    #         \"model\": \"Linear Probe\",\n",
        "    #         \"dataset\": \"EuroSAT\",\n",
        "    #         \"batch_size\": bs,\n",
        "    #         \"learning_rate\": CONFIG[\"LR_LINEAR\"],\n",
        "    #         \"epochs\": CONFIG[\"EPOCHS_LINEAR\"],\n",
        "    #         \"proj_dim\": CONFIG[\"PROJ_DIM\"],\n",
        "    #         \"feature_dim\": CONFIG[\"FEATURE_DIM\"],\n",
        "    #         \"pretrained\": PRETRAINED,\n",
        "    #     }\n",
        "    # )\n",
        "\n",
        "\n",
        "    # print(\"Starting linear probe training...\")\n",
        "    # run_linear_probe_experiment(seed, train_loader, val_loader, test_loader, num_classes, simclr_model, bs)\n",
        "\n",
        "print(\"All runs completed.\")\n",
        "wandb.finish()\n",
        "   \n",
        "        \n",
        "\n",
        "\n",
        "\n"
      ]
    },
    {
      "cell_type": "code",
      "execution_count": 9,
      "metadata": {},
      "outputs": [
        {
          "name": "stderr",
          "output_type": "stream",
          "text": [
            "/tmp/ipykernel_13790/1770635690.py:12: FutureWarning: You are using `torch.load` with `weights_only=False` (the current default value), which uses the default pickle module implicitly. It is possible to construct malicious pickle data which will execute arbitrary code during unpickling (See https://github.com/pytorch/pytorch/blob/main/SECURITY.md#untrusted-models for more details). In a future release, the default value for `weights_only` will be flipped to `True`. This limits the functions that could be executed during unpickling. Arbitrary objects will no longer be allowed to be loaded via this mode unless they are explicitly allowlisted by the user via `torch.serialization.add_safe_globals`. We recommend you start setting `weights_only=True` for any use case where you don't have full control of the loaded file. Please open an issue on GitHub for any issues related to this experimental feature.\n",
            "  state_dict = torch.load(checkpoint_path, map_location=torch.device(DEVICE))\n"
          ]
        },
        {
          "name": "stdout",
          "output_type": "stream",
          "text": [
            "Using mean: [0.3441457748413086, 0.38009852170944214, 0.40766361355781555]\n",
            "Using std: [0.09299740195274353, 0.06464490294456482, 0.054139167070388794]\n",
            "Total samples in folder: 27000, classes: ['AnnualCrop', 'Forest', 'HerbaceousVegetation', 'Highway', 'Industrial', 'Pasture', 'PermanentCrop', 'Residential', 'River', 'SeaLake']\n",
            "Stratified split sizes: train=21600, val=2700, test=2700\n",
            "Train/Test loaders: 189/22 batches\n",
            "Train + Val loader: 189 batches\n"
          ]
        },
        {
          "data": {
            "text/html": [
              "Tracking run with wandb version 0.19.11"
            ],
            "text/plain": [
              "<IPython.core.display.HTML object>"
            ]
          },
          "metadata": {},
          "output_type": "display_data"
        },
        {
          "data": {
            "text/html": [
              "Run data is saved locally in <code>/users/c/carvalhj/projects/eurosat_preprocessing/exploratory_notebooks/wandb/run-20250617_201006-l2q5audy</code>"
            ],
            "text/plain": [
              "<IPython.core.display.HTML object>"
            ]
          },
          "metadata": {},
          "output_type": "display_data"
        },
        {
          "data": {
            "text/html": [
              "Syncing run <strong><a href='https://wandb.ai/analiju-paris/linear_probe_eurosat-simclr/runs/l2q5audy' target=\"_blank\">linear_probe_seed42_temperature0.2_bs128</a></strong> to <a href='https://wandb.ai/analiju-paris/linear_probe_eurosat-simclr' target=\"_blank\">Weights & Biases</a> (<a href='https://wandb.me/developer-guide' target=\"_blank\">docs</a>)<br>"
            ],
            "text/plain": [
              "<IPython.core.display.HTML object>"
            ]
          },
          "metadata": {},
          "output_type": "display_data"
        },
        {
          "data": {
            "text/html": [
              " View project at <a href='https://wandb.ai/analiju-paris/linear_probe_eurosat-simclr' target=\"_blank\">https://wandb.ai/analiju-paris/linear_probe_eurosat-simclr</a>"
            ],
            "text/plain": [
              "<IPython.core.display.HTML object>"
            ]
          },
          "metadata": {},
          "output_type": "display_data"
        },
        {
          "data": {
            "text/html": [
              " View run at <a href='https://wandb.ai/analiju-paris/linear_probe_eurosat-simclr/runs/l2q5audy' target=\"_blank\">https://wandb.ai/analiju-paris/linear_probe_eurosat-simclr/runs/l2q5audy</a>"
            ],
            "text/plain": [
              "<IPython.core.display.HTML object>"
            ]
          },
          "metadata": {},
          "output_type": "display_data"
        },
        {
          "name": "stdout",
          "output_type": "stream",
          "text": [
            "Starting linear probe training...\n",
            "[Linear Probe] Epoch 1/2 - Loss: 1.7275, Accuracy: 35.54%\n"
          ]
        },
        {
          "name": "stderr",
          "output_type": "stream",
          "text": [
            "/users/c/carvalhj/miniconda3/envs/myenv/lib/python3.10/site-packages/torch/optim/lr_scheduler.py:240: UserWarning: The epoch parameter in `scheduler.step()` was not necessary and is being deprecated where possible. Please use `scheduler.step()` to step the scheduler. During the deprecation, if epoch is different from None, the closed form is used instead of the new chainable form, where available. Please open an issue if you are unable to replicate your use case: https://github.com/pytorch/pytorch/issues/new/choose.\n",
            "  warnings.warn(EPOCH_DEPRECATION_WARNING, UserWarning)\n"
          ]
        },
        {
          "name": "stdout",
          "output_type": "stream",
          "text": [
            "[Linear Probe] Epoch 2/2 - Loss: 1.4332, Accuracy: 47.80%\n",
            "Test Accuracy: 54.44%\n",
            "Linear probe accuracy: 47.80%, Test accuracy: 54.44%\n"
          ]
        }
      ],
      "source": [
        "# get the saved model and run linear probe\n",
        "seed = CONFIG[\"SEED\"]\n",
        "bs = CONFIG[\"BATCH_SIZE\"]\n",
        "model_path = f\"models/simclr_model_seed{seed}_temperature{TEMPERATURE}_bs{bs}.pth\"\n",
        "\n",
        "if not os.path.exists(model_path):\n",
        "    print(f\"Model {model_path} does not exist. Please run the SimCLR pretraining first.\")\n",
        "\n",
        "base_encoder = resnet50(weights=None)\n",
        "simclr_model = SimCLRModel(base_encoder, proj_dim=CONFIG[\"PROJ_DIM\"])\n",
        "checkpoint_path = f\"models/simclr_model_seed{seed}_temperature{TEMPERATURE}_bs{bs}.pth\"\n",
        "state_dict = torch.load(checkpoint_path, map_location=torch.device(DEVICE))\n",
        "simclr_model.load_state_dict(state_dict)\n",
        "\n",
        "\n",
        "train_loader, test_loader, num_classes = get_data_loaders_train_test_linear_probe(CONFIG[\"DATA_DIR_LOCAL\"], CONFIG[\"BATCH_SIZE\"])\n",
        "# Run linear probe experiment\n",
        "run_linear_probe_experiment(\n",
        "    42,\n",
        "    train_loader,\n",
        "    None,  # No validation loader for linear probe\n",
        "    test_loader,\n",
        "    num_classes,\n",
        "    simclr_model,\n",
        "    bs\n",
        ")\n"
      ]
    }
  ],
  "metadata": {
    "accelerator": "GPU",
    "colab": {
      "gpuType": "T4",
      "provenance": []
    },
    "kernelspec": {
      "display_name": "myenv",
      "language": "python",
      "name": "python3"
    },
    "language_info": {
      "codemirror_mode": {
        "name": "ipython",
        "version": 3
      },
      "file_extension": ".py",
      "mimetype": "text/x-python",
      "name": "python",
      "nbconvert_exporter": "python",
      "pygments_lexer": "ipython3",
      "version": "3.10.16"
    }
  },
  "nbformat": 4,
  "nbformat_minor": 0
}
